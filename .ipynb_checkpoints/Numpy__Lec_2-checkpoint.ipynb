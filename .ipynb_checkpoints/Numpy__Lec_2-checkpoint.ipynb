{
 "cells": [
  {
   "cell_type": "markdown",
   "metadata": {},
   "source": [
    "# NumPy in Python "
   ]
  },
  {
   "cell_type": "code",
   "execution_count": 1,
   "metadata": {},
   "outputs": [],
   "source": [
    "import numpy as np"
   ]
  },
  {
   "cell_type": "markdown",
   "metadata": {},
   "source": [
    "## Array Indexing: \n",
    "Knowing the basics of array indexing is important for analysing and manipulating the array object. NumPy offers many ways to do array indexing.\n",
    "\n",
    "- Slicing: Just like lists in python, NumPy arrays can be sliced. As arrays can be multidimensional, you need to specify a slice for each dimension of the array.\n",
    "- Integer array indexing: In this method, lists are passed for indexing for each dimension. One to one mapping of corresponding elements is done to construct a new arbitrary array.\n",
    "- Boolean array indexing: This method is used when we want to pick elements from array which satisfy some condition."
   ]
  },
  {
   "cell_type": "code",
   "execution_count": 32,
   "metadata": {},
   "outputs": [],
   "source": [
    "# An exemplar array \n",
    "arr = np.array([[-1, 2, 0, 4], \n",
    "                [4, -0.5, 6, 0], \n",
    "                [2.6, 0, 7, 8], \n",
    "                [3, -7, 4, 2.0]]) "
   ]
  },
  {
   "cell_type": "code",
   "execution_count": 36,
   "metadata": {},
   "outputs": [
    {
     "data": {
      "text/plain": [
       "2"
      ]
     },
     "execution_count": 36,
     "metadata": {},
     "output_type": "execute_result"
    }
   ],
   "source": [
    "arr.ndim"
   ]
  },
  {
   "cell_type": "code",
   "execution_count": 33,
   "metadata": {},
   "outputs": [
    {
     "name": "stdout",
     "output_type": "stream",
     "text": [
      "Array with first 2 rows and alternatecolumns(0 and 2):\n",
      " [[-1.  0.]\n",
      " [ 4.  6.]]\n"
     ]
    }
   ],
   "source": [
    "# Slicing array \n",
    "temp = arr[:2, ::2] \n",
    "print (\"Array with first 2 rows and alternate\"\n",
    "                    \"columns(0 and 2):\\n\", temp) "
   ]
  },
  {
   "cell_type": "code",
   "execution_count": 34,
   "metadata": {},
   "outputs": [
    {
     "name": "stdout",
     "output_type": "stream",
     "text": [
      "[4. 6. 0. 3.]\n",
      "\n",
      "Elements at indices (0, 3), (1, 2), (2, 1),(3, 0):\n",
      " [4. 6. 0. 3.]\n"
     ]
    }
   ],
   "source": [
    "  \n",
    "# Integer array indexing example \n",
    "temp = arr[[0, 1, 2, 3], [3, 2, 1, 0]] \n",
    "print(temp)\n",
    "print (\"\\nElements at indices (0, 3), (1, 2), (2, 1),\"\n",
    "                                    \"(3, 0):\\n\", temp) "
   ]
  },
  {
   "cell_type": "code",
   "execution_count": null,
   "metadata": {},
   "outputs": [],
   "source": []
  },
  {
   "cell_type": "code",
   "execution_count": 5,
   "metadata": {},
   "outputs": [
    {
     "name": "stdout",
     "output_type": "stream",
     "text": [
      "\n",
      "Elements greater than 0:\n",
      " [2.  4.  4.  6.  2.6 7.  8.  3.  4.  2. ]\n"
     ]
    }
   ],
   "source": [
    "# boolean array indexing example \n",
    "cond = arr > 0 # cond is a boolean array \n",
    "temp = arr[cond] \n",
    "print (\"\\nElements greater than 0:\\n\", temp) \n"
   ]
  },
  {
   "cell_type": "markdown",
   "metadata": {},
   "source": [
    "## Basic operations: \n",
    "Plethora of built-in arithmetic functions are provided in NumPy.\n",
    "\n",
    "- Operations on single array: We can use overloaded arithmetic operators to do element-wise operation on array to create a new array. In case of +=, -=, *= operators, the exsisting array is modified."
   ]
  },
  {
   "cell_type": "code",
   "execution_count": 7,
   "metadata": {},
   "outputs": [
    {
     "name": "stdout",
     "output_type": "stream",
     "text": [
      "Adding 1 to every element: [2 3 6 4]\n"
     ]
    }
   ],
   "source": [
    "a = np.array([1, 2, 5, 3]) \n",
    "  \n",
    "# add 1 to every element \n",
    "print (\"Adding 1 to every element:\", a+1) "
   ]
  },
  {
   "cell_type": "code",
   "execution_count": 8,
   "metadata": {},
   "outputs": [
    {
     "name": "stdout",
     "output_type": "stream",
     "text": [
      "Subtracting 3 from each element: [-2 -1  2  0]\n"
     ]
    }
   ],
   "source": [
    "# subtract 3 from each element \n",
    "print (\"Subtracting 3 from each element:\", a-3) "
   ]
  },
  {
   "cell_type": "code",
   "execution_count": 9,
   "metadata": {},
   "outputs": [
    {
     "name": "stdout",
     "output_type": "stream",
     "text": [
      "Multiplying each element by 10: [10 20 50 30]\n"
     ]
    }
   ],
   "source": [
    "# multiply each element by 10 \n",
    "print (\"Multiplying each element by 10:\", a*10) "
   ]
  },
  {
   "cell_type": "code",
   "execution_count": 10,
   "metadata": {},
   "outputs": [
    {
     "name": "stdout",
     "output_type": "stream",
     "text": [
      "Squaring each element: [ 1  4 25  9]\n"
     ]
    }
   ],
   "source": [
    "# square each element \n",
    "print (\"Squaring each element:\", a**2) "
   ]
  },
  {
   "cell_type": "code",
   "execution_count": 11,
   "metadata": {},
   "outputs": [
    {
     "name": "stdout",
     "output_type": "stream",
     "text": [
      "Doubled each element of original array: [ 2  4 10  6]\n"
     ]
    }
   ],
   "source": [
    "# modify existing array \n",
    "a *= 2\n",
    "print (\"Doubled each element of original array:\", a)"
   ]
  },
  {
   "cell_type": "code",
   "execution_count": 12,
   "metadata": {},
   "outputs": [
    {
     "name": "stdout",
     "output_type": "stream",
     "text": [
      "\n",
      "Original array:\n",
      " [[1 2 3]\n",
      " [3 4 5]\n",
      " [9 6 0]]\n",
      "Transpose of array:\n",
      " [[1 3 9]\n",
      " [2 4 6]\n",
      " [3 5 0]]\n"
     ]
    }
   ],
   "source": [
    "  \n",
    "# transpose of array \n",
    "a = np.array([[1, 2, 3], [3, 4, 5], [9, 6, 0]]) \n",
    "  \n",
    "print (\"\\nOriginal array:\\n\", a) \n",
    "print (\"Transpose of array:\\n\", a.T) "
   ]
  },
  {
   "cell_type": "markdown",
   "metadata": {},
   "source": [
    "## Unary operators: \n",
    "- Many unary operations are provided as a method of ndarray class. This includes sum, min, max, etc. These functions can also be applied row-wise or column-wise by setting an axis parameter."
   ]
  },
  {
   "cell_type": "code",
   "execution_count": 14,
   "metadata": {},
   "outputs": [
    {
     "name": "stdout",
     "output_type": "stream",
     "text": [
      "Largest element is: 9\n"
     ]
    }
   ],
   "source": [
    "arr = np.array([[1, 5, 6], \n",
    "                [4, 7, 2], \n",
    "                [3, 1, 9]]) \n",
    "  \n",
    "# maximum element of array \n",
    "print (\"Largest element is:\", arr.max())  "
   ]
  },
  {
   "cell_type": "code",
   "execution_count": 15,
   "metadata": {},
   "outputs": [
    {
     "name": "stdout",
     "output_type": "stream",
     "text": [
      "Row-wise maximum elements: [6 7 9]\n",
      "Column-wise minimum elements: [1 1 2]\n"
     ]
    }
   ],
   "source": [
    "print (\"Row-wise maximum elements:\", \n",
    "                    arr.max(axis = 1)) \n",
    "  \n",
    "# minimum element of array \n",
    "print (\"Column-wise minimum elements:\", \n",
    "                        arr.min(axis = 0)) "
   ]
  },
  {
   "cell_type": "code",
   "execution_count": 16,
   "metadata": {},
   "outputs": [
    {
     "name": "stdout",
     "output_type": "stream",
     "text": [
      "Sum of all array elements: 38\n",
      "Cumulative sum along each row:\n",
      " [[ 1  6 12]\n",
      " [ 4 11 13]\n",
      " [ 3  4 13]]\n"
     ]
    }
   ],
   "source": [
    "# sum of array elements \n",
    "print (\"Sum of all array elements:\", \n",
    "                            arr.sum()) \n",
    "  \n",
    "# cumulative sum along each row \n",
    "print (\"Cumulative sum along each row:\\n\", \n",
    "                        arr.cumsum(axis = 1))"
   ]
  },
  {
   "cell_type": "markdown",
   "metadata": {},
   "source": [
    "## Binary operators: \n",
    "- These operations apply on array elementwise and a new array is created. You can use all basic arithmetic operators like +, -, /, , etc. In case of +=, -=, = operators, the exsisting array is modified."
   ]
  },
  {
   "cell_type": "code",
   "execution_count": 17,
   "metadata": {},
   "outputs": [
    {
     "name": "stdout",
     "output_type": "stream",
     "text": [
      "Array sum:\n",
      " [[5 5]\n",
      " [5 5]]\n"
     ]
    }
   ],
   "source": [
    "a = np.array([[1, 2], \n",
    "            [3, 4]]) \n",
    "b = np.array([[4, 3], \n",
    "            [2, 1]]) \n",
    "  \n",
    "# add arrays \n",
    "print (\"Array sum:\\n\", a + b) "
   ]
  },
  {
   "cell_type": "code",
   "execution_count": 18,
   "metadata": {},
   "outputs": [
    {
     "name": "stdout",
     "output_type": "stream",
     "text": [
      "Array multiplication:\n",
      " [[4 6]\n",
      " [6 4]]\n"
     ]
    }
   ],
   "source": [
    "# multiply arrays (elementwise multiplication) \n",
    "print (\"Array multiplication:\\n\", a*b) "
   ]
  },
  {
   "cell_type": "code",
   "execution_count": 19,
   "metadata": {},
   "outputs": [
    {
     "name": "stdout",
     "output_type": "stream",
     "text": [
      "Matrix multiplication:\n",
      " [[ 8  5]\n",
      " [20 13]]\n"
     ]
    }
   ],
   "source": [
    "  \n",
    "# matrix multiplication \n",
    "print (\"Matrix multiplication:\\n\", a.dot(b)) "
   ]
  },
  {
   "cell_type": "markdown",
   "metadata": {},
   "source": [
    "## Universal functions (ufunc): \n",
    "- NumPy provides familiar mathematical functions such as sin, cos, exp, etc. These functions also operate elementwise on an array, producing an array as output."
   ]
  },
  {
   "cell_type": "code",
   "execution_count": 20,
   "metadata": {},
   "outputs": [
    {
     "name": "stdout",
     "output_type": "stream",
     "text": [
      "Actual Array \n"
     ]
    },
    {
     "data": {
      "text/plain": [
       "array([[1, 2],\n",
       "       [3, 4]])"
      ]
     },
     "execution_count": 20,
     "metadata": {},
     "output_type": "execute_result"
    }
   ],
   "source": [
    "print(\"Actual Array \")\n",
    "a"
   ]
  },
  {
   "cell_type": "code",
   "execution_count": 23,
   "metadata": {},
   "outputs": [
    {
     "name": "stdout",
     "output_type": "stream",
     "text": [
      "Actual Array \n",
      "[0.         1.57079633 3.14159265]\n",
      "Sine values of array elements: [0.0000000e+00 1.0000000e+00 1.2246468e-16]\n"
     ]
    }
   ],
   "source": [
    "# create an array of sine values \n",
    "a = np.array([0, np.pi/2, np.pi]) \n",
    "print(\"Actual Array \")\n",
    "print(a)\n",
    "print (\"Sine values of array elements:\", np.sin(a)) "
   ]
  },
  {
   "cell_type": "code",
   "execution_count": 24,
   "metadata": {},
   "outputs": [
    {
     "name": "stdout",
     "output_type": "stream",
     "text": [
      "Actual Array \n",
      "[0 1 2 3]\n",
      "Exponent of array elements: [ 1.          2.71828183  7.3890561  20.08553692]\n"
     ]
    }
   ],
   "source": [
    "# exponential values \n",
    "a = np.array([0, 1, 2, 3]) \n",
    "print(\"Actual Array \")\n",
    "print(a)\n",
    "print (\"Exponent of array elements:\", np.exp(a)) "
   ]
  },
  {
   "cell_type": "code",
   "execution_count": 25,
   "metadata": {},
   "outputs": [
    {
     "name": "stdout",
     "output_type": "stream",
     "text": [
      "Actual Array \n",
      "[0 1 2 3]\n",
      "Square root of array elements: [0.         1.         1.41421356 1.73205081]\n"
     ]
    }
   ],
   "source": [
    "# square root of array values \n",
    "print(\"Actual Array \")\n",
    "print(a)\n",
    "print (\"Square root of array elements:\", np.sqrt(a)) "
   ]
  },
  {
   "cell_type": "markdown",
   "metadata": {},
   "source": [
    "## Sorting array: There is a simple np.sort method for sorting NumPy arrays. Let’s explore it a bit."
   ]
  },
  {
   "cell_type": "code",
   "execution_count": 26,
   "metadata": {},
   "outputs": [
    {
     "name": "stdout",
     "output_type": "stream",
     "text": [
      "[[ 1  4  2]\n",
      " [ 3  4  6]\n",
      " [ 0 -1  5]]\n",
      "Array elements in sorted order:\n",
      " [-1  0  1  2  3  4  4  5  6]\n"
     ]
    }
   ],
   "source": [
    "a = np.array([[1, 4, 2], \n",
    "                 [3, 4, 6], \n",
    "              [0, -1, 5]]) \n",
    "print(a)\n",
    "# sorted array \n",
    "print (\"Array elements in sorted order:\\n\", \n",
    "                    np.sort(a, axis = None)) "
   ]
  },
  {
   "cell_type": "code",
   "execution_count": 27,
   "metadata": {},
   "outputs": [
    {
     "name": "stdout",
     "output_type": "stream",
     "text": [
      "Row-wise sorted array:\n",
      " [[ 1  2  4]\n",
      " [ 3  4  6]\n",
      " [-1  0  5]]\n"
     ]
    }
   ],
   "source": [
    "# sort array row-wise \n",
    "print (\"Row-wise sorted array:\\n\", \n",
    "                np.sort(a, axis = 1)) "
   ]
  },
  {
   "cell_type": "code",
   "execution_count": 28,
   "metadata": {},
   "outputs": [
    {
     "name": "stdout",
     "output_type": "stream",
     "text": [
      "Column wise sort by applying merge-sort:\n",
      " [[ 0 -1  2]\n",
      " [ 1  4  5]\n",
      " [ 3  4  6]]\n"
     ]
    }
   ],
   "source": [
    "# specify sort algorithm \n",
    "print (\"Column wise sort by applying merge-sort:\\n\", \n",
    "            np.sort(a, axis = 0, kind = 'mergesort')) "
   ]
  },
  {
   "cell_type": "code",
   "execution_count": 51,
   "metadata": {},
   "outputs": [
    {
     "name": "stdout",
     "output_type": "stream",
     "text": [
      "\n",
      "Array sorted by names:\n",
      " [(b'Aakash', 2009, 9. ) (b'Ajay', 2008, 8.7) (b'Hrithik', 2009, 8.5)\n",
      " (b'Pankaj', 2008, 7.9)]\n",
      "Array sorted by grauation year and then cgpa:\n",
      " [(b'Pankaj', 2008, 7.9) (b'Ajay', 2008, 8.7) (b'Hrithik', 2009, 8.5)\n",
      " (b'Aakash', 2009, 9. )]\n"
     ]
    }
   ],
   "source": [
    "# Example to show sorting of structured array \n",
    "# set alias names for dtypes \n",
    "dtypes = [('name', 'S10'), ('grad_year', int), ('cgpa', float)] \n",
    "  \n",
    "# Values to be put in array \n",
    "values = [('Hrithik', 2009, 8.5), ('Ajay', 2008, 8.7),  \n",
    "           ('Pankaj', 2008, 7.9), ('Aakash', 2009, 9.0)] \n",
    "             \n",
    "# Creating array \n",
    "arr = np.array(values, dtype = dtypes) \n",
    "print (\"\\nArray sorted by names:\\n\", \n",
    "            np.sort(arr, order = 'name')) \n",
    "              \n",
    "print (\"Array sorted by grauation year and then cgpa:\\n\", \n",
    "                np.sort(arr, order = ['grad_year', 'cgpa'])) "
   ]
  }
 ],
 "metadata": {
  "kernelspec": {
   "display_name": "Python 3",
   "language": "python",
   "name": "python3"
  },
  "language_info": {
   "codemirror_mode": {
    "name": "ipython",
    "version": 3
   },
   "file_extension": ".py",
   "mimetype": "text/x-python",
   "name": "python",
   "nbconvert_exporter": "python",
   "pygments_lexer": "ipython3",
   "version": "3.7.3"
  }
 },
 "nbformat": 4,
 "nbformat_minor": 2
}
