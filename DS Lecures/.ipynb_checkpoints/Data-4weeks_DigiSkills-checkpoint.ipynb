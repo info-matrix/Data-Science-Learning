{
 "cells": [
  {
   "cell_type": "code",
   "execution_count": 1,
   "metadata": {},
   "outputs": [],
   "source": [
    "import pandas as pd\n",
    "import numpy as np"
   ]
  },
  {
   "cell_type": "code",
   "execution_count": 2,
   "metadata": {},
   "outputs": [],
   "source": [
    "data1 = pd.read_csv(r\"C:\\DigiSkills.pk MachineLearning\\New_data_week4\\Data.csv\")"
   ]
  },
  {
   "cell_type": "code",
   "execution_count": 3,
   "metadata": {},
   "outputs": [
    {
     "data": {
      "text/plain": [
       "(1048575, 13)"
      ]
     },
     "execution_count": 3,
     "metadata": {},
     "output_type": "execute_result"
    }
   ],
   "source": [
    "data1.shape"
   ]
  },
  {
   "cell_type": "code",
   "execution_count": 4,
   "metadata": {},
   "outputs": [],
   "source": [
    "data2 = pd.read_csv(r\"C:\\DigiSkills.pk MachineLearning\\New_data_week4\\Data2.csv\")"
   ]
  },
  {
   "cell_type": "code",
   "execution_count": 5,
   "metadata": {},
   "outputs": [
    {
     "data": {
      "text/plain": [
       "(200440, 13)"
      ]
     },
     "execution_count": 5,
     "metadata": {},
     "output_type": "execute_result"
    }
   ],
   "source": [
    "data2.shape"
   ]
  },
  {
   "cell_type": "code",
   "execution_count": 6,
   "metadata": {},
   "outputs": [
    {
     "data": {
      "text/html": [
       "<div>\n",
       "<style scoped>\n",
       "    .dataframe tbody tr th:only-of-type {\n",
       "        vertical-align: middle;\n",
       "    }\n",
       "\n",
       "    .dataframe tbody tr th {\n",
       "        vertical-align: top;\n",
       "    }\n",
       "\n",
       "    .dataframe thead th {\n",
       "        text-align: right;\n",
       "    }\n",
       "</style>\n",
       "<table border=\"1\" class=\"dataframe\">\n",
       "  <thead>\n",
       "    <tr style=\"text-align: right;\">\n",
       "      <th></th>\n",
       "      <th>traineeid</th>\n",
       "      <th>BatchID</th>\n",
       "      <th>CourseCode</th>\n",
       "      <th>CourseWeekName</th>\n",
       "      <th>TotalLessonsCount</th>\n",
       "      <th>LessonsViewed</th>\n",
       "      <th>TimeSpentinSec</th>\n",
       "      <th>ViewedVideosDurationinSec</th>\n",
       "      <th>TotalQuizzCount</th>\n",
       "      <th>QuizzAttempted</th>\n",
       "      <th>TotalAssignments</th>\n",
       "      <th>AssignmentsSubmitted</th>\n",
       "      <th>CourseComplete</th>\n",
       "    </tr>\n",
       "  </thead>\n",
       "  <tbody>\n",
       "    <tr>\n",
       "      <th>0</th>\n",
       "      <td>DS2035461</td>\n",
       "      <td>3</td>\n",
       "      <td>SEO101</td>\n",
       "      <td>Week 03</td>\n",
       "      <td>19</td>\n",
       "      <td>19.0</td>\n",
       "      <td>11.0</td>\n",
       "      <td>223.0</td>\n",
       "      <td>1.0</td>\n",
       "      <td>1.0</td>\n",
       "      <td>1.0</td>\n",
       "      <td>1.0</td>\n",
       "      <td>100</td>\n",
       "    </tr>\n",
       "    <tr>\n",
       "      <th>1</th>\n",
       "      <td>DS2037069</td>\n",
       "      <td>2</td>\n",
       "      <td>WPS101</td>\n",
       "      <td>Week 01</td>\n",
       "      <td>13</td>\n",
       "      <td>NaN</td>\n",
       "      <td>NaN</td>\n",
       "      <td>NaN</td>\n",
       "      <td>NaN</td>\n",
       "      <td>NaN</td>\n",
       "      <td>NaN</td>\n",
       "      <td>NaN</td>\n",
       "      <td>0</td>\n",
       "    </tr>\n",
       "    <tr>\n",
       "      <th>2</th>\n",
       "      <td>DS2043537</td>\n",
       "      <td>3</td>\n",
       "      <td>SEO101</td>\n",
       "      <td>Week 03</td>\n",
       "      <td>19</td>\n",
       "      <td>19.0</td>\n",
       "      <td>0.0</td>\n",
       "      <td>0.0</td>\n",
       "      <td>1.0</td>\n",
       "      <td>1.0</td>\n",
       "      <td>1.0</td>\n",
       "      <td>NaN</td>\n",
       "      <td>75</td>\n",
       "    </tr>\n",
       "    <tr>\n",
       "      <th>3</th>\n",
       "      <td>DS2043751</td>\n",
       "      <td>2</td>\n",
       "      <td>DGM101</td>\n",
       "      <td>Week 03</td>\n",
       "      <td>18</td>\n",
       "      <td>18.0</td>\n",
       "      <td>12.0</td>\n",
       "      <td>115.0</td>\n",
       "      <td>1.0</td>\n",
       "      <td>1.0</td>\n",
       "      <td>1.0</td>\n",
       "      <td>NaN</td>\n",
       "      <td>75</td>\n",
       "    </tr>\n",
       "    <tr>\n",
       "      <th>4</th>\n",
       "      <td>DS2043680</td>\n",
       "      <td>3</td>\n",
       "      <td>SEO101</td>\n",
       "      <td>Week 03</td>\n",
       "      <td>19</td>\n",
       "      <td>NaN</td>\n",
       "      <td>NaN</td>\n",
       "      <td>NaN</td>\n",
       "      <td>1.0</td>\n",
       "      <td>1.0</td>\n",
       "      <td>1.0</td>\n",
       "      <td>NaN</td>\n",
       "      <td>5</td>\n",
       "    </tr>\n",
       "  </tbody>\n",
       "</table>\n",
       "</div>"
      ],
      "text/plain": [
       "   traineeid  BatchID CourseCode CourseWeekName  TotalLessonsCount  \\\n",
       "0  DS2035461        3     SEO101        Week 03                 19   \n",
       "1  DS2037069        2     WPS101        Week 01                 13   \n",
       "2  DS2043537        3     SEO101        Week 03                 19   \n",
       "3  DS2043751        2     DGM101        Week 03                 18   \n",
       "4  DS2043680        3     SEO101        Week 03                 19   \n",
       "\n",
       "   LessonsViewed  TimeSpentinSec  ViewedVideosDurationinSec  TotalQuizzCount  \\\n",
       "0           19.0            11.0                      223.0              1.0   \n",
       "1            NaN             NaN                        NaN              NaN   \n",
       "2           19.0             0.0                        0.0              1.0   \n",
       "3           18.0            12.0                      115.0              1.0   \n",
       "4            NaN             NaN                        NaN              1.0   \n",
       "\n",
       "   QuizzAttempted  TotalAssignments  AssignmentsSubmitted  CourseComplete  \n",
       "0             1.0               1.0                   1.0             100  \n",
       "1             NaN               NaN                   NaN               0  \n",
       "2             1.0               1.0                   NaN              75  \n",
       "3             1.0               1.0                   NaN              75  \n",
       "4             1.0               1.0                   NaN               5  "
      ]
     },
     "execution_count": 6,
     "metadata": {},
     "output_type": "execute_result"
    }
   ],
   "source": [
    "data1.head()"
   ]
  },
  {
   "cell_type": "code",
   "execution_count": 7,
   "metadata": {},
   "outputs": [],
   "source": [
    "data = pd.concat([data1,data2])"
   ]
  },
  {
   "cell_type": "code",
   "execution_count": 8,
   "metadata": {},
   "outputs": [
    {
     "data": {
      "text/html": [
       "<div>\n",
       "<style scoped>\n",
       "    .dataframe tbody tr th:only-of-type {\n",
       "        vertical-align: middle;\n",
       "    }\n",
       "\n",
       "    .dataframe tbody tr th {\n",
       "        vertical-align: top;\n",
       "    }\n",
       "\n",
       "    .dataframe thead th {\n",
       "        text-align: right;\n",
       "    }\n",
       "</style>\n",
       "<table border=\"1\" class=\"dataframe\">\n",
       "  <thead>\n",
       "    <tr style=\"text-align: right;\">\n",
       "      <th></th>\n",
       "      <th>traineeid</th>\n",
       "      <th>BatchID</th>\n",
       "      <th>CourseCode</th>\n",
       "      <th>CourseWeekName</th>\n",
       "      <th>TotalLessonsCount</th>\n",
       "      <th>LessonsViewed</th>\n",
       "      <th>TimeSpentinSec</th>\n",
       "      <th>ViewedVideosDurationinSec</th>\n",
       "      <th>TotalQuizzCount</th>\n",
       "      <th>QuizzAttempted</th>\n",
       "      <th>TotalAssignments</th>\n",
       "      <th>AssignmentsSubmitted</th>\n",
       "      <th>CourseComplete</th>\n",
       "    </tr>\n",
       "  </thead>\n",
       "  <tbody>\n",
       "    <tr>\n",
       "      <th>0</th>\n",
       "      <td>DS2035461</td>\n",
       "      <td>3</td>\n",
       "      <td>SEO101</td>\n",
       "      <td>Week 03</td>\n",
       "      <td>19</td>\n",
       "      <td>19.0</td>\n",
       "      <td>11.0</td>\n",
       "      <td>223.0</td>\n",
       "      <td>1.0</td>\n",
       "      <td>1.0</td>\n",
       "      <td>1.0</td>\n",
       "      <td>1.0</td>\n",
       "      <td>100</td>\n",
       "    </tr>\n",
       "    <tr>\n",
       "      <th>1</th>\n",
       "      <td>DS2037069</td>\n",
       "      <td>2</td>\n",
       "      <td>WPS101</td>\n",
       "      <td>Week 01</td>\n",
       "      <td>13</td>\n",
       "      <td>NaN</td>\n",
       "      <td>NaN</td>\n",
       "      <td>NaN</td>\n",
       "      <td>NaN</td>\n",
       "      <td>NaN</td>\n",
       "      <td>NaN</td>\n",
       "      <td>NaN</td>\n",
       "      <td>0</td>\n",
       "    </tr>\n",
       "    <tr>\n",
       "      <th>2</th>\n",
       "      <td>DS2043537</td>\n",
       "      <td>3</td>\n",
       "      <td>SEO101</td>\n",
       "      <td>Week 03</td>\n",
       "      <td>19</td>\n",
       "      <td>19.0</td>\n",
       "      <td>0.0</td>\n",
       "      <td>0.0</td>\n",
       "      <td>1.0</td>\n",
       "      <td>1.0</td>\n",
       "      <td>1.0</td>\n",
       "      <td>NaN</td>\n",
       "      <td>75</td>\n",
       "    </tr>\n",
       "    <tr>\n",
       "      <th>3</th>\n",
       "      <td>DS2043751</td>\n",
       "      <td>2</td>\n",
       "      <td>DGM101</td>\n",
       "      <td>Week 03</td>\n",
       "      <td>18</td>\n",
       "      <td>18.0</td>\n",
       "      <td>12.0</td>\n",
       "      <td>115.0</td>\n",
       "      <td>1.0</td>\n",
       "      <td>1.0</td>\n",
       "      <td>1.0</td>\n",
       "      <td>NaN</td>\n",
       "      <td>75</td>\n",
       "    </tr>\n",
       "    <tr>\n",
       "      <th>4</th>\n",
       "      <td>DS2043680</td>\n",
       "      <td>3</td>\n",
       "      <td>SEO101</td>\n",
       "      <td>Week 03</td>\n",
       "      <td>19</td>\n",
       "      <td>NaN</td>\n",
       "      <td>NaN</td>\n",
       "      <td>NaN</td>\n",
       "      <td>1.0</td>\n",
       "      <td>1.0</td>\n",
       "      <td>1.0</td>\n",
       "      <td>NaN</td>\n",
       "      <td>5</td>\n",
       "    </tr>\n",
       "  </tbody>\n",
       "</table>\n",
       "</div>"
      ],
      "text/plain": [
       "   traineeid  BatchID CourseCode CourseWeekName  TotalLessonsCount  \\\n",
       "0  DS2035461        3     SEO101        Week 03                 19   \n",
       "1  DS2037069        2     WPS101        Week 01                 13   \n",
       "2  DS2043537        3     SEO101        Week 03                 19   \n",
       "3  DS2043751        2     DGM101        Week 03                 18   \n",
       "4  DS2043680        3     SEO101        Week 03                 19   \n",
       "\n",
       "   LessonsViewed  TimeSpentinSec  ViewedVideosDurationinSec  TotalQuizzCount  \\\n",
       "0           19.0            11.0                      223.0              1.0   \n",
       "1            NaN             NaN                        NaN              NaN   \n",
       "2           19.0             0.0                        0.0              1.0   \n",
       "3           18.0            12.0                      115.0              1.0   \n",
       "4            NaN             NaN                        NaN              1.0   \n",
       "\n",
       "   QuizzAttempted  TotalAssignments  AssignmentsSubmitted  CourseComplete  \n",
       "0             1.0               1.0                   1.0             100  \n",
       "1             NaN               NaN                   NaN               0  \n",
       "2             1.0               1.0                   NaN              75  \n",
       "3             1.0               1.0                   NaN              75  \n",
       "4             1.0               1.0                   NaN               5  "
      ]
     },
     "execution_count": 8,
     "metadata": {},
     "output_type": "execute_result"
    }
   ],
   "source": [
    "data.head()"
   ]
  },
  {
   "cell_type": "code",
   "execution_count": 9,
   "metadata": {},
   "outputs": [
    {
     "data": {
      "text/plain": [
       "(1249015, 13)"
      ]
     },
     "execution_count": 9,
     "metadata": {},
     "output_type": "execute_result"
    }
   ],
   "source": [
    "data.shape"
   ]
  },
  {
   "cell_type": "code",
   "execution_count": 10,
   "metadata": {},
   "outputs": [],
   "source": [
    "data.loc[data.CourseComplete < 60, 'CourseComplete'] = 0"
   ]
  },
  {
   "cell_type": "code",
   "execution_count": 11,
   "metadata": {},
   "outputs": [
    {
     "data": {
      "text/plain": [
       "1     0\n",
       "4     0\n",
       "8     0\n",
       "10    0\n",
       "11    0\n",
       "Name: CourseComplete, dtype: int64"
      ]
     },
     "execution_count": 11,
     "metadata": {},
     "output_type": "execute_result"
    }
   ],
   "source": [
    "data.loc[data.CourseComplete == 0, 'CourseComplete'].head()"
   ]
  },
  {
   "cell_type": "code",
   "execution_count": 12,
   "metadata": {},
   "outputs": [],
   "source": [
    "data.loc[data.CourseComplete >= 60, 'CourseComplete'] = 1"
   ]
  },
  {
   "cell_type": "code",
   "execution_count": 13,
   "metadata": {},
   "outputs": [
    {
     "data": {
      "text/plain": [
       "0    1\n",
       "2    1\n",
       "3    1\n",
       "5    1\n",
       "6    1\n",
       "Name: CourseComplete, dtype: int64"
      ]
     },
     "execution_count": 13,
     "metadata": {},
     "output_type": "execute_result"
    }
   ],
   "source": [
    "data.loc[data.CourseComplete == 1, 'CourseComplete'].head()"
   ]
  },
  {
   "cell_type": "code",
   "execution_count": 14,
   "metadata": {
    "scrolled": true
   },
   "outputs": [
    {
     "data": {
      "text/html": [
       "<div>\n",
       "<style scoped>\n",
       "    .dataframe tbody tr th:only-of-type {\n",
       "        vertical-align: middle;\n",
       "    }\n",
       "\n",
       "    .dataframe tbody tr th {\n",
       "        vertical-align: top;\n",
       "    }\n",
       "\n",
       "    .dataframe thead th {\n",
       "        text-align: right;\n",
       "    }\n",
       "</style>\n",
       "<table border=\"1\" class=\"dataframe\">\n",
       "  <thead>\n",
       "    <tr style=\"text-align: right;\">\n",
       "      <th></th>\n",
       "      <th>traineeid</th>\n",
       "      <th>BatchID</th>\n",
       "      <th>CourseCode</th>\n",
       "      <th>CourseWeekName</th>\n",
       "      <th>TotalLessonsCount</th>\n",
       "      <th>LessonsViewed</th>\n",
       "      <th>TimeSpentinSec</th>\n",
       "      <th>ViewedVideosDurationinSec</th>\n",
       "      <th>TotalQuizzCount</th>\n",
       "      <th>QuizzAttempted</th>\n",
       "      <th>TotalAssignments</th>\n",
       "      <th>AssignmentsSubmitted</th>\n",
       "      <th>CourseComplete</th>\n",
       "    </tr>\n",
       "  </thead>\n",
       "  <tbody>\n",
       "    <tr>\n",
       "      <th>0</th>\n",
       "      <td>DS2035461</td>\n",
       "      <td>3</td>\n",
       "      <td>SEO101</td>\n",
       "      <td>Week 03</td>\n",
       "      <td>19</td>\n",
       "      <td>19.0</td>\n",
       "      <td>11.0</td>\n",
       "      <td>223.0</td>\n",
       "      <td>1.0</td>\n",
       "      <td>1.0</td>\n",
       "      <td>1.0</td>\n",
       "      <td>1.0</td>\n",
       "      <td>1</td>\n",
       "    </tr>\n",
       "    <tr>\n",
       "      <th>1</th>\n",
       "      <td>DS2037069</td>\n",
       "      <td>2</td>\n",
       "      <td>WPS101</td>\n",
       "      <td>Week 01</td>\n",
       "      <td>13</td>\n",
       "      <td>NaN</td>\n",
       "      <td>NaN</td>\n",
       "      <td>NaN</td>\n",
       "      <td>NaN</td>\n",
       "      <td>NaN</td>\n",
       "      <td>NaN</td>\n",
       "      <td>NaN</td>\n",
       "      <td>0</td>\n",
       "    </tr>\n",
       "    <tr>\n",
       "      <th>2</th>\n",
       "      <td>DS2043537</td>\n",
       "      <td>3</td>\n",
       "      <td>SEO101</td>\n",
       "      <td>Week 03</td>\n",
       "      <td>19</td>\n",
       "      <td>19.0</td>\n",
       "      <td>0.0</td>\n",
       "      <td>0.0</td>\n",
       "      <td>1.0</td>\n",
       "      <td>1.0</td>\n",
       "      <td>1.0</td>\n",
       "      <td>NaN</td>\n",
       "      <td>1</td>\n",
       "    </tr>\n",
       "    <tr>\n",
       "      <th>3</th>\n",
       "      <td>DS2043751</td>\n",
       "      <td>2</td>\n",
       "      <td>DGM101</td>\n",
       "      <td>Week 03</td>\n",
       "      <td>18</td>\n",
       "      <td>18.0</td>\n",
       "      <td>12.0</td>\n",
       "      <td>115.0</td>\n",
       "      <td>1.0</td>\n",
       "      <td>1.0</td>\n",
       "      <td>1.0</td>\n",
       "      <td>NaN</td>\n",
       "      <td>1</td>\n",
       "    </tr>\n",
       "    <tr>\n",
       "      <th>4</th>\n",
       "      <td>DS2043680</td>\n",
       "      <td>3</td>\n",
       "      <td>SEO101</td>\n",
       "      <td>Week 03</td>\n",
       "      <td>19</td>\n",
       "      <td>NaN</td>\n",
       "      <td>NaN</td>\n",
       "      <td>NaN</td>\n",
       "      <td>1.0</td>\n",
       "      <td>1.0</td>\n",
       "      <td>1.0</td>\n",
       "      <td>NaN</td>\n",
       "      <td>0</td>\n",
       "    </tr>\n",
       "  </tbody>\n",
       "</table>\n",
       "</div>"
      ],
      "text/plain": [
       "   traineeid  BatchID CourseCode CourseWeekName  TotalLessonsCount  \\\n",
       "0  DS2035461        3     SEO101        Week 03                 19   \n",
       "1  DS2037069        2     WPS101        Week 01                 13   \n",
       "2  DS2043537        3     SEO101        Week 03                 19   \n",
       "3  DS2043751        2     DGM101        Week 03                 18   \n",
       "4  DS2043680        3     SEO101        Week 03                 19   \n",
       "\n",
       "   LessonsViewed  TimeSpentinSec  ViewedVideosDurationinSec  TotalQuizzCount  \\\n",
       "0           19.0            11.0                      223.0              1.0   \n",
       "1            NaN             NaN                        NaN              NaN   \n",
       "2           19.0             0.0                        0.0              1.0   \n",
       "3           18.0            12.0                      115.0              1.0   \n",
       "4            NaN             NaN                        NaN              1.0   \n",
       "\n",
       "   QuizzAttempted  TotalAssignments  AssignmentsSubmitted  CourseComplete  \n",
       "0             1.0               1.0                   1.0               1  \n",
       "1             NaN               NaN                   NaN               0  \n",
       "2             1.0               1.0                   NaN               1  \n",
       "3             1.0               1.0                   NaN               1  \n",
       "4             1.0               1.0                   NaN               0  "
      ]
     },
     "execution_count": 14,
     "metadata": {},
     "output_type": "execute_result"
    }
   ],
   "source": [
    "data.head()"
   ]
  },
  {
   "cell_type": "code",
   "execution_count": 15,
   "metadata": {},
   "outputs": [
    {
     "data": {
      "text/plain": [
       "array(['SEO101', 'WPS101', 'DGM101', 'ECM101', 'FRL101', 'QKB101',\n",
       "       'DGL101', 'ATC101', 'GRD101', 'CRW101'], dtype=object)"
      ]
     },
     "execution_count": 15,
     "metadata": {},
     "output_type": "execute_result"
    }
   ],
   "source": [
    "data.CourseCode.unique()"
   ]
  },
  {
   "cell_type": "code",
   "execution_count": 16,
   "metadata": {},
   "outputs": [
    {
     "data": {
      "text/plain": [
       "FRL101    549119\n",
       "GRD101    146976\n",
       "DGM101    116180\n",
       "WPS101    112848\n",
       "CRW101     75156\n",
       "SEO101     67708\n",
       "ECM101     61324\n",
       "ATC101     58492\n",
       "DGL101     34548\n",
       "QKB101     26664\n",
       "Name: CourseCode, dtype: int64"
      ]
     },
     "execution_count": 16,
     "metadata": {},
     "output_type": "execute_result"
    }
   ],
   "source": [
    "data.CourseCode.value_counts()"
   ]
  },
  {
   "cell_type": "code",
   "execution_count": 17,
   "metadata": {},
   "outputs": [],
   "source": [
    "data.set_index(['CourseCode', 'traineeid', 'CourseWeekName', 'BatchID'], inplace = True )"
   ]
  },
  {
   "cell_type": "code",
   "execution_count": 18,
   "metadata": {
    "scrolled": true
   },
   "outputs": [
    {
     "data": {
      "text/html": [
       "<div>\n",
       "<style scoped>\n",
       "    .dataframe tbody tr th:only-of-type {\n",
       "        vertical-align: middle;\n",
       "    }\n",
       "\n",
       "    .dataframe tbody tr th {\n",
       "        vertical-align: top;\n",
       "    }\n",
       "\n",
       "    .dataframe thead th {\n",
       "        text-align: right;\n",
       "    }\n",
       "</style>\n",
       "<table border=\"1\" class=\"dataframe\">\n",
       "  <thead>\n",
       "    <tr style=\"text-align: right;\">\n",
       "      <th></th>\n",
       "      <th></th>\n",
       "      <th></th>\n",
       "      <th></th>\n",
       "      <th>TotalLessonsCount</th>\n",
       "      <th>LessonsViewed</th>\n",
       "      <th>TimeSpentinSec</th>\n",
       "      <th>ViewedVideosDurationinSec</th>\n",
       "      <th>TotalQuizzCount</th>\n",
       "      <th>QuizzAttempted</th>\n",
       "      <th>TotalAssignments</th>\n",
       "      <th>AssignmentsSubmitted</th>\n",
       "      <th>CourseComplete</th>\n",
       "    </tr>\n",
       "    <tr>\n",
       "      <th>CourseCode</th>\n",
       "      <th>traineeid</th>\n",
       "      <th>CourseWeekName</th>\n",
       "      <th>BatchID</th>\n",
       "      <th></th>\n",
       "      <th></th>\n",
       "      <th></th>\n",
       "      <th></th>\n",
       "      <th></th>\n",
       "      <th></th>\n",
       "      <th></th>\n",
       "      <th></th>\n",
       "      <th></th>\n",
       "    </tr>\n",
       "  </thead>\n",
       "  <tbody>\n",
       "    <tr>\n",
       "      <th>SEO101</th>\n",
       "      <th>DS2035461</th>\n",
       "      <th>Week 03</th>\n",
       "      <th>3</th>\n",
       "      <td>19</td>\n",
       "      <td>19.0</td>\n",
       "      <td>11.0</td>\n",
       "      <td>223.0</td>\n",
       "      <td>1.0</td>\n",
       "      <td>1.0</td>\n",
       "      <td>1.0</td>\n",
       "      <td>1.0</td>\n",
       "      <td>1</td>\n",
       "    </tr>\n",
       "    <tr>\n",
       "      <th>WPS101</th>\n",
       "      <th>DS2037069</th>\n",
       "      <th>Week 01</th>\n",
       "      <th>2</th>\n",
       "      <td>13</td>\n",
       "      <td>NaN</td>\n",
       "      <td>NaN</td>\n",
       "      <td>NaN</td>\n",
       "      <td>NaN</td>\n",
       "      <td>NaN</td>\n",
       "      <td>NaN</td>\n",
       "      <td>NaN</td>\n",
       "      <td>0</td>\n",
       "    </tr>\n",
       "    <tr>\n",
       "      <th>SEO101</th>\n",
       "      <th>DS2043537</th>\n",
       "      <th>Week 03</th>\n",
       "      <th>3</th>\n",
       "      <td>19</td>\n",
       "      <td>19.0</td>\n",
       "      <td>0.0</td>\n",
       "      <td>0.0</td>\n",
       "      <td>1.0</td>\n",
       "      <td>1.0</td>\n",
       "      <td>1.0</td>\n",
       "      <td>NaN</td>\n",
       "      <td>1</td>\n",
       "    </tr>\n",
       "    <tr>\n",
       "      <th>DGM101</th>\n",
       "      <th>DS2043751</th>\n",
       "      <th>Week 03</th>\n",
       "      <th>2</th>\n",
       "      <td>18</td>\n",
       "      <td>18.0</td>\n",
       "      <td>12.0</td>\n",
       "      <td>115.0</td>\n",
       "      <td>1.0</td>\n",
       "      <td>1.0</td>\n",
       "      <td>1.0</td>\n",
       "      <td>NaN</td>\n",
       "      <td>1</td>\n",
       "    </tr>\n",
       "    <tr>\n",
       "      <th>SEO101</th>\n",
       "      <th>DS2043680</th>\n",
       "      <th>Week 03</th>\n",
       "      <th>3</th>\n",
       "      <td>19</td>\n",
       "      <td>NaN</td>\n",
       "      <td>NaN</td>\n",
       "      <td>NaN</td>\n",
       "      <td>1.0</td>\n",
       "      <td>1.0</td>\n",
       "      <td>1.0</td>\n",
       "      <td>NaN</td>\n",
       "      <td>0</td>\n",
       "    </tr>\n",
       "  </tbody>\n",
       "</table>\n",
       "</div>"
      ],
      "text/plain": [
       "                                             TotalLessonsCount  LessonsViewed  \\\n",
       "CourseCode traineeid CourseWeekName BatchID                                     \n",
       "SEO101     DS2035461 Week 03        3                       19           19.0   \n",
       "WPS101     DS2037069 Week 01        2                       13            NaN   \n",
       "SEO101     DS2043537 Week 03        3                       19           19.0   \n",
       "DGM101     DS2043751 Week 03        2                       18           18.0   \n",
       "SEO101     DS2043680 Week 03        3                       19            NaN   \n",
       "\n",
       "                                             TimeSpentinSec  \\\n",
       "CourseCode traineeid CourseWeekName BatchID                   \n",
       "SEO101     DS2035461 Week 03        3                  11.0   \n",
       "WPS101     DS2037069 Week 01        2                   NaN   \n",
       "SEO101     DS2043537 Week 03        3                   0.0   \n",
       "DGM101     DS2043751 Week 03        2                  12.0   \n",
       "SEO101     DS2043680 Week 03        3                   NaN   \n",
       "\n",
       "                                             ViewedVideosDurationinSec  \\\n",
       "CourseCode traineeid CourseWeekName BatchID                              \n",
       "SEO101     DS2035461 Week 03        3                            223.0   \n",
       "WPS101     DS2037069 Week 01        2                              NaN   \n",
       "SEO101     DS2043537 Week 03        3                              0.0   \n",
       "DGM101     DS2043751 Week 03        2                            115.0   \n",
       "SEO101     DS2043680 Week 03        3                              NaN   \n",
       "\n",
       "                                             TotalQuizzCount  QuizzAttempted  \\\n",
       "CourseCode traineeid CourseWeekName BatchID                                    \n",
       "SEO101     DS2035461 Week 03        3                    1.0             1.0   \n",
       "WPS101     DS2037069 Week 01        2                    NaN             NaN   \n",
       "SEO101     DS2043537 Week 03        3                    1.0             1.0   \n",
       "DGM101     DS2043751 Week 03        2                    1.0             1.0   \n",
       "SEO101     DS2043680 Week 03        3                    1.0             1.0   \n",
       "\n",
       "                                             TotalAssignments  \\\n",
       "CourseCode traineeid CourseWeekName BatchID                     \n",
       "SEO101     DS2035461 Week 03        3                     1.0   \n",
       "WPS101     DS2037069 Week 01        2                     NaN   \n",
       "SEO101     DS2043537 Week 03        3                     1.0   \n",
       "DGM101     DS2043751 Week 03        2                     1.0   \n",
       "SEO101     DS2043680 Week 03        3                     1.0   \n",
       "\n",
       "                                             AssignmentsSubmitted  \\\n",
       "CourseCode traineeid CourseWeekName BatchID                         \n",
       "SEO101     DS2035461 Week 03        3                         1.0   \n",
       "WPS101     DS2037069 Week 01        2                         NaN   \n",
       "SEO101     DS2043537 Week 03        3                         NaN   \n",
       "DGM101     DS2043751 Week 03        2                         NaN   \n",
       "SEO101     DS2043680 Week 03        3                         NaN   \n",
       "\n",
       "                                             CourseComplete  \n",
       "CourseCode traineeid CourseWeekName BatchID                  \n",
       "SEO101     DS2035461 Week 03        3                     1  \n",
       "WPS101     DS2037069 Week 01        2                     0  \n",
       "SEO101     DS2043537 Week 03        3                     1  \n",
       "DGM101     DS2043751 Week 03        2                     1  \n",
       "SEO101     DS2043680 Week 03        3                     0  "
      ]
     },
     "execution_count": 18,
     "metadata": {},
     "output_type": "execute_result"
    }
   ],
   "source": [
    "data.head()"
   ]
  },
  {
   "cell_type": "code",
   "execution_count": 19,
   "metadata": {},
   "outputs": [],
   "source": [
    "data.sort_index(inplace = True)"
   ]
  },
  {
   "cell_type": "code",
   "execution_count": 20,
   "metadata": {},
   "outputs": [
    {
     "data": {
      "text/html": [
       "<div>\n",
       "<style scoped>\n",
       "    .dataframe tbody tr th:only-of-type {\n",
       "        vertical-align: middle;\n",
       "    }\n",
       "\n",
       "    .dataframe tbody tr th {\n",
       "        vertical-align: top;\n",
       "    }\n",
       "\n",
       "    .dataframe thead th {\n",
       "        text-align: right;\n",
       "    }\n",
       "</style>\n",
       "<table border=\"1\" class=\"dataframe\">\n",
       "  <thead>\n",
       "    <tr style=\"text-align: right;\">\n",
       "      <th></th>\n",
       "      <th></th>\n",
       "      <th></th>\n",
       "      <th></th>\n",
       "      <th>TotalLessonsCount</th>\n",
       "      <th>LessonsViewed</th>\n",
       "      <th>TimeSpentinSec</th>\n",
       "      <th>ViewedVideosDurationinSec</th>\n",
       "      <th>TotalQuizzCount</th>\n",
       "      <th>QuizzAttempted</th>\n",
       "      <th>TotalAssignments</th>\n",
       "      <th>AssignmentsSubmitted</th>\n",
       "      <th>CourseComplete</th>\n",
       "    </tr>\n",
       "    <tr>\n",
       "      <th>CourseCode</th>\n",
       "      <th>traineeid</th>\n",
       "      <th>CourseWeekName</th>\n",
       "      <th>BatchID</th>\n",
       "      <th></th>\n",
       "      <th></th>\n",
       "      <th></th>\n",
       "      <th></th>\n",
       "      <th></th>\n",
       "      <th></th>\n",
       "      <th></th>\n",
       "      <th></th>\n",
       "      <th></th>\n",
       "    </tr>\n",
       "  </thead>\n",
       "  <tbody>\n",
       "    <tr>\n",
       "      <th rowspan=\"50\" valign=\"top\">ATC101</th>\n",
       "      <th rowspan=\"4\" valign=\"top\">DS1000031</th>\n",
       "      <th>Week 01</th>\n",
       "      <th>3</th>\n",
       "      <td>10</td>\n",
       "      <td>10.0</td>\n",
       "      <td>29.0</td>\n",
       "      <td>5965.0</td>\n",
       "      <td>NaN</td>\n",
       "      <td>NaN</td>\n",
       "      <td>NaN</td>\n",
       "      <td>NaN</td>\n",
       "      <td>1</td>\n",
       "    </tr>\n",
       "    <tr>\n",
       "      <th>Week 02</th>\n",
       "      <th>3</th>\n",
       "      <td>10</td>\n",
       "      <td>10.0</td>\n",
       "      <td>19.0</td>\n",
       "      <td>5967.0</td>\n",
       "      <td>NaN</td>\n",
       "      <td>NaN</td>\n",
       "      <td>NaN</td>\n",
       "      <td>NaN</td>\n",
       "      <td>1</td>\n",
       "    </tr>\n",
       "    <tr>\n",
       "      <th>Week 03</th>\n",
       "      <th>3</th>\n",
       "      <td>10</td>\n",
       "      <td>10.0</td>\n",
       "      <td>28.0</td>\n",
       "      <td>6330.0</td>\n",
       "      <td>1.0</td>\n",
       "      <td>NaN</td>\n",
       "      <td>1.0</td>\n",
       "      <td>NaN</td>\n",
       "      <td>1</td>\n",
       "    </tr>\n",
       "    <tr>\n",
       "      <th>Week 04</th>\n",
       "      <th>3</th>\n",
       "      <td>10</td>\n",
       "      <td>10.0</td>\n",
       "      <td>22.0</td>\n",
       "      <td>7187.0</td>\n",
       "      <td>NaN</td>\n",
       "      <td>NaN</td>\n",
       "      <td>NaN</td>\n",
       "      <td>NaN</td>\n",
       "      <td>1</td>\n",
       "    </tr>\n",
       "    <tr>\n",
       "      <th rowspan=\"4\" valign=\"top\">DS1000037</th>\n",
       "      <th>Week 01</th>\n",
       "      <th>2</th>\n",
       "      <td>11</td>\n",
       "      <td>1.0</td>\n",
       "      <td>4.0</td>\n",
       "      <td>636.0</td>\n",
       "      <td>NaN</td>\n",
       "      <td>NaN</td>\n",
       "      <td>NaN</td>\n",
       "      <td>NaN</td>\n",
       "      <td>0</td>\n",
       "    </tr>\n",
       "    <tr>\n",
       "      <th>Week 02</th>\n",
       "      <th>2</th>\n",
       "      <td>10</td>\n",
       "      <td>NaN</td>\n",
       "      <td>NaN</td>\n",
       "      <td>NaN</td>\n",
       "      <td>NaN</td>\n",
       "      <td>NaN</td>\n",
       "      <td>NaN</td>\n",
       "      <td>NaN</td>\n",
       "      <td>0</td>\n",
       "    </tr>\n",
       "    <tr>\n",
       "      <th>Week 03</th>\n",
       "      <th>2</th>\n",
       "      <td>10</td>\n",
       "      <td>NaN</td>\n",
       "      <td>NaN</td>\n",
       "      <td>NaN</td>\n",
       "      <td>1.0</td>\n",
       "      <td>1.0</td>\n",
       "      <td>1.0</td>\n",
       "      <td>1.0</td>\n",
       "      <td>0</td>\n",
       "    </tr>\n",
       "    <tr>\n",
       "      <th>Week 04</th>\n",
       "      <th>2</th>\n",
       "      <td>10</td>\n",
       "      <td>NaN</td>\n",
       "      <td>NaN</td>\n",
       "      <td>NaN</td>\n",
       "      <td>NaN</td>\n",
       "      <td>NaN</td>\n",
       "      <td>NaN</td>\n",
       "      <td>NaN</td>\n",
       "      <td>0</td>\n",
       "    </tr>\n",
       "    <tr>\n",
       "      <th rowspan=\"4\" valign=\"top\">DS1000043</th>\n",
       "      <th>Week 01</th>\n",
       "      <th>2</th>\n",
       "      <td>11</td>\n",
       "      <td>11.0</td>\n",
       "      <td>9336.0</td>\n",
       "      <td>6554.0</td>\n",
       "      <td>NaN</td>\n",
       "      <td>NaN</td>\n",
       "      <td>NaN</td>\n",
       "      <td>NaN</td>\n",
       "      <td>1</td>\n",
       "    </tr>\n",
       "    <tr>\n",
       "      <th>Week 02</th>\n",
       "      <th>2</th>\n",
       "      <td>10</td>\n",
       "      <td>10.0</td>\n",
       "      <td>0.0</td>\n",
       "      <td>0.0</td>\n",
       "      <td>NaN</td>\n",
       "      <td>NaN</td>\n",
       "      <td>NaN</td>\n",
       "      <td>NaN</td>\n",
       "      <td>1</td>\n",
       "    </tr>\n",
       "    <tr>\n",
       "      <th>Week 03</th>\n",
       "      <th>2</th>\n",
       "      <td>10</td>\n",
       "      <td>10.0</td>\n",
       "      <td>0.0</td>\n",
       "      <td>0.0</td>\n",
       "      <td>1.0</td>\n",
       "      <td>1.0</td>\n",
       "      <td>1.0</td>\n",
       "      <td>NaN</td>\n",
       "      <td>1</td>\n",
       "    </tr>\n",
       "    <tr>\n",
       "      <th>Week 04</th>\n",
       "      <th>2</th>\n",
       "      <td>10</td>\n",
       "      <td>10.0</td>\n",
       "      <td>0.0</td>\n",
       "      <td>0.0</td>\n",
       "      <td>NaN</td>\n",
       "      <td>NaN</td>\n",
       "      <td>NaN</td>\n",
       "      <td>NaN</td>\n",
       "      <td>1</td>\n",
       "    </tr>\n",
       "    <tr>\n",
       "      <th rowspan=\"4\" valign=\"top\">DS1000076</th>\n",
       "      <th>Week 01</th>\n",
       "      <th>2</th>\n",
       "      <td>11</td>\n",
       "      <td>NaN</td>\n",
       "      <td>NaN</td>\n",
       "      <td>NaN</td>\n",
       "      <td>NaN</td>\n",
       "      <td>NaN</td>\n",
       "      <td>NaN</td>\n",
       "      <td>NaN</td>\n",
       "      <td>0</td>\n",
       "    </tr>\n",
       "    <tr>\n",
       "      <th>Week 02</th>\n",
       "      <th>2</th>\n",
       "      <td>10</td>\n",
       "      <td>NaN</td>\n",
       "      <td>NaN</td>\n",
       "      <td>NaN</td>\n",
       "      <td>NaN</td>\n",
       "      <td>NaN</td>\n",
       "      <td>NaN</td>\n",
       "      <td>NaN</td>\n",
       "      <td>0</td>\n",
       "    </tr>\n",
       "    <tr>\n",
       "      <th>Week 03</th>\n",
       "      <th>2</th>\n",
       "      <td>10</td>\n",
       "      <td>NaN</td>\n",
       "      <td>NaN</td>\n",
       "      <td>NaN</td>\n",
       "      <td>1.0</td>\n",
       "      <td>NaN</td>\n",
       "      <td>1.0</td>\n",
       "      <td>NaN</td>\n",
       "      <td>0</td>\n",
       "    </tr>\n",
       "    <tr>\n",
       "      <th>Week 04</th>\n",
       "      <th>2</th>\n",
       "      <td>10</td>\n",
       "      <td>NaN</td>\n",
       "      <td>NaN</td>\n",
       "      <td>NaN</td>\n",
       "      <td>NaN</td>\n",
       "      <td>NaN</td>\n",
       "      <td>NaN</td>\n",
       "      <td>NaN</td>\n",
       "      <td>0</td>\n",
       "    </tr>\n",
       "    <tr>\n",
       "      <th rowspan=\"4\" valign=\"top\">DS1000098</th>\n",
       "      <th>Week 01</th>\n",
       "      <th>2</th>\n",
       "      <td>11</td>\n",
       "      <td>1.0</td>\n",
       "      <td>10.0</td>\n",
       "      <td>595.0</td>\n",
       "      <td>NaN</td>\n",
       "      <td>NaN</td>\n",
       "      <td>NaN</td>\n",
       "      <td>NaN</td>\n",
       "      <td>1</td>\n",
       "    </tr>\n",
       "    <tr>\n",
       "      <th>Week 02</th>\n",
       "      <th>2</th>\n",
       "      <td>10</td>\n",
       "      <td>10.0</td>\n",
       "      <td>5.0</td>\n",
       "      <td>950.0</td>\n",
       "      <td>NaN</td>\n",
       "      <td>NaN</td>\n",
       "      <td>NaN</td>\n",
       "      <td>NaN</td>\n",
       "      <td>1</td>\n",
       "    </tr>\n",
       "    <tr>\n",
       "      <th>Week 03</th>\n",
       "      <th>2</th>\n",
       "      <td>10</td>\n",
       "      <td>10.0</td>\n",
       "      <td>4.0</td>\n",
       "      <td>5645.0</td>\n",
       "      <td>1.0</td>\n",
       "      <td>1.0</td>\n",
       "      <td>1.0</td>\n",
       "      <td>1.0</td>\n",
       "      <td>1</td>\n",
       "    </tr>\n",
       "    <tr>\n",
       "      <th>Week 04</th>\n",
       "      <th>2</th>\n",
       "      <td>10</td>\n",
       "      <td>10.0</td>\n",
       "      <td>627.0</td>\n",
       "      <td>4417.0</td>\n",
       "      <td>NaN</td>\n",
       "      <td>NaN</td>\n",
       "      <td>NaN</td>\n",
       "      <td>NaN</td>\n",
       "      <td>1</td>\n",
       "    </tr>\n",
       "    <tr>\n",
       "      <th rowspan=\"4\" valign=\"top\">DS1000101</th>\n",
       "      <th>Week 01</th>\n",
       "      <th>2</th>\n",
       "      <td>11</td>\n",
       "      <td>NaN</td>\n",
       "      <td>NaN</td>\n",
       "      <td>NaN</td>\n",
       "      <td>NaN</td>\n",
       "      <td>NaN</td>\n",
       "      <td>NaN</td>\n",
       "      <td>NaN</td>\n",
       "      <td>0</td>\n",
       "    </tr>\n",
       "    <tr>\n",
       "      <th>Week 02</th>\n",
       "      <th>2</th>\n",
       "      <td>10</td>\n",
       "      <td>NaN</td>\n",
       "      <td>NaN</td>\n",
       "      <td>NaN</td>\n",
       "      <td>NaN</td>\n",
       "      <td>NaN</td>\n",
       "      <td>NaN</td>\n",
       "      <td>NaN</td>\n",
       "      <td>0</td>\n",
       "    </tr>\n",
       "    <tr>\n",
       "      <th>Week 03</th>\n",
       "      <th>2</th>\n",
       "      <td>10</td>\n",
       "      <td>NaN</td>\n",
       "      <td>NaN</td>\n",
       "      <td>NaN</td>\n",
       "      <td>1.0</td>\n",
       "      <td>NaN</td>\n",
       "      <td>1.0</td>\n",
       "      <td>NaN</td>\n",
       "      <td>0</td>\n",
       "    </tr>\n",
       "    <tr>\n",
       "      <th>Week 04</th>\n",
       "      <th>2</th>\n",
       "      <td>10</td>\n",
       "      <td>NaN</td>\n",
       "      <td>NaN</td>\n",
       "      <td>NaN</td>\n",
       "      <td>NaN</td>\n",
       "      <td>NaN</td>\n",
       "      <td>NaN</td>\n",
       "      <td>NaN</td>\n",
       "      <td>0</td>\n",
       "    </tr>\n",
       "    <tr>\n",
       "      <th rowspan=\"4\" valign=\"top\">DS1000125</th>\n",
       "      <th>Week 01</th>\n",
       "      <th>2</th>\n",
       "      <td>11</td>\n",
       "      <td>3.0</td>\n",
       "      <td>3128.0</td>\n",
       "      <td>1887.0</td>\n",
       "      <td>NaN</td>\n",
       "      <td>NaN</td>\n",
       "      <td>NaN</td>\n",
       "      <td>NaN</td>\n",
       "      <td>0</td>\n",
       "    </tr>\n",
       "    <tr>\n",
       "      <th>Week 02</th>\n",
       "      <th>2</th>\n",
       "      <td>10</td>\n",
       "      <td>NaN</td>\n",
       "      <td>NaN</td>\n",
       "      <td>NaN</td>\n",
       "      <td>NaN</td>\n",
       "      <td>NaN</td>\n",
       "      <td>NaN</td>\n",
       "      <td>NaN</td>\n",
       "      <td>0</td>\n",
       "    </tr>\n",
       "    <tr>\n",
       "      <th>Week 03</th>\n",
       "      <th>2</th>\n",
       "      <td>10</td>\n",
       "      <td>NaN</td>\n",
       "      <td>NaN</td>\n",
       "      <td>NaN</td>\n",
       "      <td>1.0</td>\n",
       "      <td>1.0</td>\n",
       "      <td>1.0</td>\n",
       "      <td>NaN</td>\n",
       "      <td>0</td>\n",
       "    </tr>\n",
       "    <tr>\n",
       "      <th>Week 04</th>\n",
       "      <th>2</th>\n",
       "      <td>10</td>\n",
       "      <td>NaN</td>\n",
       "      <td>NaN</td>\n",
       "      <td>NaN</td>\n",
       "      <td>NaN</td>\n",
       "      <td>NaN</td>\n",
       "      <td>NaN</td>\n",
       "      <td>NaN</td>\n",
       "      <td>0</td>\n",
       "    </tr>\n",
       "    <tr>\n",
       "      <th rowspan=\"4\" valign=\"top\">DS1000151</th>\n",
       "      <th>Week 01</th>\n",
       "      <th>2</th>\n",
       "      <td>11</td>\n",
       "      <td>NaN</td>\n",
       "      <td>NaN</td>\n",
       "      <td>NaN</td>\n",
       "      <td>NaN</td>\n",
       "      <td>NaN</td>\n",
       "      <td>NaN</td>\n",
       "      <td>NaN</td>\n",
       "      <td>0</td>\n",
       "    </tr>\n",
       "    <tr>\n",
       "      <th>Week 02</th>\n",
       "      <th>2</th>\n",
       "      <td>10</td>\n",
       "      <td>NaN</td>\n",
       "      <td>NaN</td>\n",
       "      <td>NaN</td>\n",
       "      <td>NaN</td>\n",
       "      <td>NaN</td>\n",
       "      <td>NaN</td>\n",
       "      <td>NaN</td>\n",
       "      <td>0</td>\n",
       "    </tr>\n",
       "    <tr>\n",
       "      <th>Week 03</th>\n",
       "      <th>2</th>\n",
       "      <td>10</td>\n",
       "      <td>NaN</td>\n",
       "      <td>NaN</td>\n",
       "      <td>NaN</td>\n",
       "      <td>1.0</td>\n",
       "      <td>NaN</td>\n",
       "      <td>1.0</td>\n",
       "      <td>NaN</td>\n",
       "      <td>0</td>\n",
       "    </tr>\n",
       "    <tr>\n",
       "      <th>Week 04</th>\n",
       "      <th>2</th>\n",
       "      <td>10</td>\n",
       "      <td>NaN</td>\n",
       "      <td>NaN</td>\n",
       "      <td>NaN</td>\n",
       "      <td>NaN</td>\n",
       "      <td>NaN</td>\n",
       "      <td>NaN</td>\n",
       "      <td>NaN</td>\n",
       "      <td>0</td>\n",
       "    </tr>\n",
       "    <tr>\n",
       "      <th rowspan=\"4\" valign=\"top\">DS1000156</th>\n",
       "      <th>Week 01</th>\n",
       "      <th>2</th>\n",
       "      <td>11</td>\n",
       "      <td>NaN</td>\n",
       "      <td>NaN</td>\n",
       "      <td>NaN</td>\n",
       "      <td>NaN</td>\n",
       "      <td>NaN</td>\n",
       "      <td>NaN</td>\n",
       "      <td>NaN</td>\n",
       "      <td>0</td>\n",
       "    </tr>\n",
       "    <tr>\n",
       "      <th>Week 02</th>\n",
       "      <th>2</th>\n",
       "      <td>10</td>\n",
       "      <td>NaN</td>\n",
       "      <td>NaN</td>\n",
       "      <td>NaN</td>\n",
       "      <td>NaN</td>\n",
       "      <td>NaN</td>\n",
       "      <td>NaN</td>\n",
       "      <td>NaN</td>\n",
       "      <td>0</td>\n",
       "    </tr>\n",
       "    <tr>\n",
       "      <th>Week 03</th>\n",
       "      <th>2</th>\n",
       "      <td>10</td>\n",
       "      <td>NaN</td>\n",
       "      <td>NaN</td>\n",
       "      <td>NaN</td>\n",
       "      <td>1.0</td>\n",
       "      <td>NaN</td>\n",
       "      <td>1.0</td>\n",
       "      <td>NaN</td>\n",
       "      <td>0</td>\n",
       "    </tr>\n",
       "    <tr>\n",
       "      <th>Week 04</th>\n",
       "      <th>2</th>\n",
       "      <td>10</td>\n",
       "      <td>NaN</td>\n",
       "      <td>NaN</td>\n",
       "      <td>NaN</td>\n",
       "      <td>NaN</td>\n",
       "      <td>NaN</td>\n",
       "      <td>NaN</td>\n",
       "      <td>NaN</td>\n",
       "      <td>0</td>\n",
       "    </tr>\n",
       "    <tr>\n",
       "      <th rowspan=\"4\" valign=\"top\">DS1000165</th>\n",
       "      <th>Week 01</th>\n",
       "      <th>2</th>\n",
       "      <td>11</td>\n",
       "      <td>3.0</td>\n",
       "      <td>5640.0</td>\n",
       "      <td>1885.0</td>\n",
       "      <td>NaN</td>\n",
       "      <td>NaN</td>\n",
       "      <td>NaN</td>\n",
       "      <td>NaN</td>\n",
       "      <td>0</td>\n",
       "    </tr>\n",
       "    <tr>\n",
       "      <th>Week 02</th>\n",
       "      <th>2</th>\n",
       "      <td>10</td>\n",
       "      <td>1.0</td>\n",
       "      <td>190.0</td>\n",
       "      <td>588.0</td>\n",
       "      <td>NaN</td>\n",
       "      <td>NaN</td>\n",
       "      <td>NaN</td>\n",
       "      <td>NaN</td>\n",
       "      <td>0</td>\n",
       "    </tr>\n",
       "    <tr>\n",
       "      <th>Week 03</th>\n",
       "      <th>2</th>\n",
       "      <td>10</td>\n",
       "      <td>NaN</td>\n",
       "      <td>NaN</td>\n",
       "      <td>NaN</td>\n",
       "      <td>1.0</td>\n",
       "      <td>1.0</td>\n",
       "      <td>1.0</td>\n",
       "      <td>1.0</td>\n",
       "      <td>0</td>\n",
       "    </tr>\n",
       "    <tr>\n",
       "      <th>Week 04</th>\n",
       "      <th>2</th>\n",
       "      <td>10</td>\n",
       "      <td>NaN</td>\n",
       "      <td>NaN</td>\n",
       "      <td>NaN</td>\n",
       "      <td>NaN</td>\n",
       "      <td>NaN</td>\n",
       "      <td>NaN</td>\n",
       "      <td>NaN</td>\n",
       "      <td>0</td>\n",
       "    </tr>\n",
       "    <tr>\n",
       "      <th rowspan=\"4\" valign=\"top\">DS1000172</th>\n",
       "      <th>Week 01</th>\n",
       "      <th>2</th>\n",
       "      <td>11</td>\n",
       "      <td>NaN</td>\n",
       "      <td>NaN</td>\n",
       "      <td>NaN</td>\n",
       "      <td>NaN</td>\n",
       "      <td>NaN</td>\n",
       "      <td>NaN</td>\n",
       "      <td>NaN</td>\n",
       "      <td>0</td>\n",
       "    </tr>\n",
       "    <tr>\n",
       "      <th>Week 02</th>\n",
       "      <th>2</th>\n",
       "      <td>10</td>\n",
       "      <td>NaN</td>\n",
       "      <td>NaN</td>\n",
       "      <td>NaN</td>\n",
       "      <td>NaN</td>\n",
       "      <td>NaN</td>\n",
       "      <td>NaN</td>\n",
       "      <td>NaN</td>\n",
       "      <td>0</td>\n",
       "    </tr>\n",
       "    <tr>\n",
       "      <th>Week 03</th>\n",
       "      <th>2</th>\n",
       "      <td>10</td>\n",
       "      <td>NaN</td>\n",
       "      <td>NaN</td>\n",
       "      <td>NaN</td>\n",
       "      <td>1.0</td>\n",
       "      <td>1.0</td>\n",
       "      <td>1.0</td>\n",
       "      <td>NaN</td>\n",
       "      <td>0</td>\n",
       "    </tr>\n",
       "    <tr>\n",
       "      <th>Week 04</th>\n",
       "      <th>2</th>\n",
       "      <td>10</td>\n",
       "      <td>7.0</td>\n",
       "      <td>1329.0</td>\n",
       "      <td>1944.0</td>\n",
       "      <td>NaN</td>\n",
       "      <td>NaN</td>\n",
       "      <td>NaN</td>\n",
       "      <td>NaN</td>\n",
       "      <td>0</td>\n",
       "    </tr>\n",
       "    <tr>\n",
       "      <th rowspan=\"4\" valign=\"top\">DS1000182</th>\n",
       "      <th>Week 01</th>\n",
       "      <th>3</th>\n",
       "      <td>10</td>\n",
       "      <td>NaN</td>\n",
       "      <td>NaN</td>\n",
       "      <td>NaN</td>\n",
       "      <td>NaN</td>\n",
       "      <td>NaN</td>\n",
       "      <td>NaN</td>\n",
       "      <td>NaN</td>\n",
       "      <td>0</td>\n",
       "    </tr>\n",
       "    <tr>\n",
       "      <th>Week 02</th>\n",
       "      <th>3</th>\n",
       "      <td>10</td>\n",
       "      <td>NaN</td>\n",
       "      <td>NaN</td>\n",
       "      <td>NaN</td>\n",
       "      <td>NaN</td>\n",
       "      <td>NaN</td>\n",
       "      <td>NaN</td>\n",
       "      <td>NaN</td>\n",
       "      <td>0</td>\n",
       "    </tr>\n",
       "    <tr>\n",
       "      <th>Week 03</th>\n",
       "      <th>3</th>\n",
       "      <td>10</td>\n",
       "      <td>NaN</td>\n",
       "      <td>NaN</td>\n",
       "      <td>NaN</td>\n",
       "      <td>1.0</td>\n",
       "      <td>NaN</td>\n",
       "      <td>1.0</td>\n",
       "      <td>NaN</td>\n",
       "      <td>0</td>\n",
       "    </tr>\n",
       "    <tr>\n",
       "      <th>Week 04</th>\n",
       "      <th>3</th>\n",
       "      <td>10</td>\n",
       "      <td>NaN</td>\n",
       "      <td>NaN</td>\n",
       "      <td>NaN</td>\n",
       "      <td>NaN</td>\n",
       "      <td>NaN</td>\n",
       "      <td>NaN</td>\n",
       "      <td>NaN</td>\n",
       "      <td>0</td>\n",
       "    </tr>\n",
       "    <tr>\n",
       "      <th rowspan=\"2\" valign=\"top\">DS1000185</th>\n",
       "      <th>Week 01</th>\n",
       "      <th>2</th>\n",
       "      <td>11</td>\n",
       "      <td>11.0</td>\n",
       "      <td>56.0</td>\n",
       "      <td>636.0</td>\n",
       "      <td>NaN</td>\n",
       "      <td>NaN</td>\n",
       "      <td>NaN</td>\n",
       "      <td>NaN</td>\n",
       "      <td>1</td>\n",
       "    </tr>\n",
       "    <tr>\n",
       "      <th>Week 02</th>\n",
       "      <th>2</th>\n",
       "      <td>10</td>\n",
       "      <td>10.0</td>\n",
       "      <td>20.0</td>\n",
       "      <td>1618.0</td>\n",
       "      <td>NaN</td>\n",
       "      <td>NaN</td>\n",
       "      <td>NaN</td>\n",
       "      <td>NaN</td>\n",
       "      <td>1</td>\n",
       "    </tr>\n",
       "  </tbody>\n",
       "</table>\n",
       "</div>"
      ],
      "text/plain": [
       "                                             TotalLessonsCount  LessonsViewed  \\\n",
       "CourseCode traineeid CourseWeekName BatchID                                     \n",
       "ATC101     DS1000031 Week 01        3                       10           10.0   \n",
       "                     Week 02        3                       10           10.0   \n",
       "                     Week 03        3                       10           10.0   \n",
       "                     Week 04        3                       10           10.0   \n",
       "           DS1000037 Week 01        2                       11            1.0   \n",
       "                     Week 02        2                       10            NaN   \n",
       "                     Week 03        2                       10            NaN   \n",
       "                     Week 04        2                       10            NaN   \n",
       "           DS1000043 Week 01        2                       11           11.0   \n",
       "                     Week 02        2                       10           10.0   \n",
       "                     Week 03        2                       10           10.0   \n",
       "                     Week 04        2                       10           10.0   \n",
       "           DS1000076 Week 01        2                       11            NaN   \n",
       "                     Week 02        2                       10            NaN   \n",
       "                     Week 03        2                       10            NaN   \n",
       "                     Week 04        2                       10            NaN   \n",
       "           DS1000098 Week 01        2                       11            1.0   \n",
       "                     Week 02        2                       10           10.0   \n",
       "                     Week 03        2                       10           10.0   \n",
       "                     Week 04        2                       10           10.0   \n",
       "           DS1000101 Week 01        2                       11            NaN   \n",
       "                     Week 02        2                       10            NaN   \n",
       "                     Week 03        2                       10            NaN   \n",
       "                     Week 04        2                       10            NaN   \n",
       "           DS1000125 Week 01        2                       11            3.0   \n",
       "                     Week 02        2                       10            NaN   \n",
       "                     Week 03        2                       10            NaN   \n",
       "                     Week 04        2                       10            NaN   \n",
       "           DS1000151 Week 01        2                       11            NaN   \n",
       "                     Week 02        2                       10            NaN   \n",
       "                     Week 03        2                       10            NaN   \n",
       "                     Week 04        2                       10            NaN   \n",
       "           DS1000156 Week 01        2                       11            NaN   \n",
       "                     Week 02        2                       10            NaN   \n",
       "                     Week 03        2                       10            NaN   \n",
       "                     Week 04        2                       10            NaN   \n",
       "           DS1000165 Week 01        2                       11            3.0   \n",
       "                     Week 02        2                       10            1.0   \n",
       "                     Week 03        2                       10            NaN   \n",
       "                     Week 04        2                       10            NaN   \n",
       "           DS1000172 Week 01        2                       11            NaN   \n",
       "                     Week 02        2                       10            NaN   \n",
       "                     Week 03        2                       10            NaN   \n",
       "                     Week 04        2                       10            7.0   \n",
       "           DS1000182 Week 01        3                       10            NaN   \n",
       "                     Week 02        3                       10            NaN   \n",
       "                     Week 03        3                       10            NaN   \n",
       "                     Week 04        3                       10            NaN   \n",
       "           DS1000185 Week 01        2                       11           11.0   \n",
       "                     Week 02        2                       10           10.0   \n",
       "\n",
       "                                             TimeSpentinSec  \\\n",
       "CourseCode traineeid CourseWeekName BatchID                   \n",
       "ATC101     DS1000031 Week 01        3                  29.0   \n",
       "                     Week 02        3                  19.0   \n",
       "                     Week 03        3                  28.0   \n",
       "                     Week 04        3                  22.0   \n",
       "           DS1000037 Week 01        2                   4.0   \n",
       "                     Week 02        2                   NaN   \n",
       "                     Week 03        2                   NaN   \n",
       "                     Week 04        2                   NaN   \n",
       "           DS1000043 Week 01        2                9336.0   \n",
       "                     Week 02        2                   0.0   \n",
       "                     Week 03        2                   0.0   \n",
       "                     Week 04        2                   0.0   \n",
       "           DS1000076 Week 01        2                   NaN   \n",
       "                     Week 02        2                   NaN   \n",
       "                     Week 03        2                   NaN   \n",
       "                     Week 04        2                   NaN   \n",
       "           DS1000098 Week 01        2                  10.0   \n",
       "                     Week 02        2                   5.0   \n",
       "                     Week 03        2                   4.0   \n",
       "                     Week 04        2                 627.0   \n",
       "           DS1000101 Week 01        2                   NaN   \n",
       "                     Week 02        2                   NaN   \n",
       "                     Week 03        2                   NaN   \n",
       "                     Week 04        2                   NaN   \n",
       "           DS1000125 Week 01        2                3128.0   \n",
       "                     Week 02        2                   NaN   \n",
       "                     Week 03        2                   NaN   \n",
       "                     Week 04        2                   NaN   \n",
       "           DS1000151 Week 01        2                   NaN   \n",
       "                     Week 02        2                   NaN   \n",
       "                     Week 03        2                   NaN   \n",
       "                     Week 04        2                   NaN   \n",
       "           DS1000156 Week 01        2                   NaN   \n",
       "                     Week 02        2                   NaN   \n",
       "                     Week 03        2                   NaN   \n",
       "                     Week 04        2                   NaN   \n",
       "           DS1000165 Week 01        2                5640.0   \n",
       "                     Week 02        2                 190.0   \n",
       "                     Week 03        2                   NaN   \n",
       "                     Week 04        2                   NaN   \n",
       "           DS1000172 Week 01        2                   NaN   \n",
       "                     Week 02        2                   NaN   \n",
       "                     Week 03        2                   NaN   \n",
       "                     Week 04        2                1329.0   \n",
       "           DS1000182 Week 01        3                   NaN   \n",
       "                     Week 02        3                   NaN   \n",
       "                     Week 03        3                   NaN   \n",
       "                     Week 04        3                   NaN   \n",
       "           DS1000185 Week 01        2                  56.0   \n",
       "                     Week 02        2                  20.0   \n",
       "\n",
       "                                             ViewedVideosDurationinSec  \\\n",
       "CourseCode traineeid CourseWeekName BatchID                              \n",
       "ATC101     DS1000031 Week 01        3                           5965.0   \n",
       "                     Week 02        3                           5967.0   \n",
       "                     Week 03        3                           6330.0   \n",
       "                     Week 04        3                           7187.0   \n",
       "           DS1000037 Week 01        2                            636.0   \n",
       "                     Week 02        2                              NaN   \n",
       "                     Week 03        2                              NaN   \n",
       "                     Week 04        2                              NaN   \n",
       "           DS1000043 Week 01        2                           6554.0   \n",
       "                     Week 02        2                              0.0   \n",
       "                     Week 03        2                              0.0   \n",
       "                     Week 04        2                              0.0   \n",
       "           DS1000076 Week 01        2                              NaN   \n",
       "                     Week 02        2                              NaN   \n",
       "                     Week 03        2                              NaN   \n",
       "                     Week 04        2                              NaN   \n",
       "           DS1000098 Week 01        2                            595.0   \n",
       "                     Week 02        2                            950.0   \n",
       "                     Week 03        2                           5645.0   \n",
       "                     Week 04        2                           4417.0   \n",
       "           DS1000101 Week 01        2                              NaN   \n",
       "                     Week 02        2                              NaN   \n",
       "                     Week 03        2                              NaN   \n",
       "                     Week 04        2                              NaN   \n",
       "           DS1000125 Week 01        2                           1887.0   \n",
       "                     Week 02        2                              NaN   \n",
       "                     Week 03        2                              NaN   \n",
       "                     Week 04        2                              NaN   \n",
       "           DS1000151 Week 01        2                              NaN   \n",
       "                     Week 02        2                              NaN   \n",
       "                     Week 03        2                              NaN   \n",
       "                     Week 04        2                              NaN   \n",
       "           DS1000156 Week 01        2                              NaN   \n",
       "                     Week 02        2                              NaN   \n",
       "                     Week 03        2                              NaN   \n",
       "                     Week 04        2                              NaN   \n",
       "           DS1000165 Week 01        2                           1885.0   \n",
       "                     Week 02        2                            588.0   \n",
       "                     Week 03        2                              NaN   \n",
       "                     Week 04        2                              NaN   \n",
       "           DS1000172 Week 01        2                              NaN   \n",
       "                     Week 02        2                              NaN   \n",
       "                     Week 03        2                              NaN   \n",
       "                     Week 04        2                           1944.0   \n",
       "           DS1000182 Week 01        3                              NaN   \n",
       "                     Week 02        3                              NaN   \n",
       "                     Week 03        3                              NaN   \n",
       "                     Week 04        3                              NaN   \n",
       "           DS1000185 Week 01        2                            636.0   \n",
       "                     Week 02        2                           1618.0   \n",
       "\n",
       "                                             TotalQuizzCount  QuizzAttempted  \\\n",
       "CourseCode traineeid CourseWeekName BatchID                                    \n",
       "ATC101     DS1000031 Week 01        3                    NaN             NaN   \n",
       "                     Week 02        3                    NaN             NaN   \n",
       "                     Week 03        3                    1.0             NaN   \n",
       "                     Week 04        3                    NaN             NaN   \n",
       "           DS1000037 Week 01        2                    NaN             NaN   \n",
       "                     Week 02        2                    NaN             NaN   \n",
       "                     Week 03        2                    1.0             1.0   \n",
       "                     Week 04        2                    NaN             NaN   \n",
       "           DS1000043 Week 01        2                    NaN             NaN   \n",
       "                     Week 02        2                    NaN             NaN   \n",
       "                     Week 03        2                    1.0             1.0   \n",
       "                     Week 04        2                    NaN             NaN   \n",
       "           DS1000076 Week 01        2                    NaN             NaN   \n",
       "                     Week 02        2                    NaN             NaN   \n",
       "                     Week 03        2                    1.0             NaN   \n",
       "                     Week 04        2                    NaN             NaN   \n",
       "           DS1000098 Week 01        2                    NaN             NaN   \n",
       "                     Week 02        2                    NaN             NaN   \n",
       "                     Week 03        2                    1.0             1.0   \n",
       "                     Week 04        2                    NaN             NaN   \n",
       "           DS1000101 Week 01        2                    NaN             NaN   \n",
       "                     Week 02        2                    NaN             NaN   \n",
       "                     Week 03        2                    1.0             NaN   \n",
       "                     Week 04        2                    NaN             NaN   \n",
       "           DS1000125 Week 01        2                    NaN             NaN   \n",
       "                     Week 02        2                    NaN             NaN   \n",
       "                     Week 03        2                    1.0             1.0   \n",
       "                     Week 04        2                    NaN             NaN   \n",
       "           DS1000151 Week 01        2                    NaN             NaN   \n",
       "                     Week 02        2                    NaN             NaN   \n",
       "                     Week 03        2                    1.0             NaN   \n",
       "                     Week 04        2                    NaN             NaN   \n",
       "           DS1000156 Week 01        2                    NaN             NaN   \n",
       "                     Week 02        2                    NaN             NaN   \n",
       "                     Week 03        2                    1.0             NaN   \n",
       "                     Week 04        2                    NaN             NaN   \n",
       "           DS1000165 Week 01        2                    NaN             NaN   \n",
       "                     Week 02        2                    NaN             NaN   \n",
       "                     Week 03        2                    1.0             1.0   \n",
       "                     Week 04        2                    NaN             NaN   \n",
       "           DS1000172 Week 01        2                    NaN             NaN   \n",
       "                     Week 02        2                    NaN             NaN   \n",
       "                     Week 03        2                    1.0             1.0   \n",
       "                     Week 04        2                    NaN             NaN   \n",
       "           DS1000182 Week 01        3                    NaN             NaN   \n",
       "                     Week 02        3                    NaN             NaN   \n",
       "                     Week 03        3                    1.0             NaN   \n",
       "                     Week 04        3                    NaN             NaN   \n",
       "           DS1000185 Week 01        2                    NaN             NaN   \n",
       "                     Week 02        2                    NaN             NaN   \n",
       "\n",
       "                                             TotalAssignments  \\\n",
       "CourseCode traineeid CourseWeekName BatchID                     \n",
       "ATC101     DS1000031 Week 01        3                     NaN   \n",
       "                     Week 02        3                     NaN   \n",
       "                     Week 03        3                     1.0   \n",
       "                     Week 04        3                     NaN   \n",
       "           DS1000037 Week 01        2                     NaN   \n",
       "                     Week 02        2                     NaN   \n",
       "                     Week 03        2                     1.0   \n",
       "                     Week 04        2                     NaN   \n",
       "           DS1000043 Week 01        2                     NaN   \n",
       "                     Week 02        2                     NaN   \n",
       "                     Week 03        2                     1.0   \n",
       "                     Week 04        2                     NaN   \n",
       "           DS1000076 Week 01        2                     NaN   \n",
       "                     Week 02        2                     NaN   \n",
       "                     Week 03        2                     1.0   \n",
       "                     Week 04        2                     NaN   \n",
       "           DS1000098 Week 01        2                     NaN   \n",
       "                     Week 02        2                     NaN   \n",
       "                     Week 03        2                     1.0   \n",
       "                     Week 04        2                     NaN   \n",
       "           DS1000101 Week 01        2                     NaN   \n",
       "                     Week 02        2                     NaN   \n",
       "                     Week 03        2                     1.0   \n",
       "                     Week 04        2                     NaN   \n",
       "           DS1000125 Week 01        2                     NaN   \n",
       "                     Week 02        2                     NaN   \n",
       "                     Week 03        2                     1.0   \n",
       "                     Week 04        2                     NaN   \n",
       "           DS1000151 Week 01        2                     NaN   \n",
       "                     Week 02        2                     NaN   \n",
       "                     Week 03        2                     1.0   \n",
       "                     Week 04        2                     NaN   \n",
       "           DS1000156 Week 01        2                     NaN   \n",
       "                     Week 02        2                     NaN   \n",
       "                     Week 03        2                     1.0   \n",
       "                     Week 04        2                     NaN   \n",
       "           DS1000165 Week 01        2                     NaN   \n",
       "                     Week 02        2                     NaN   \n",
       "                     Week 03        2                     1.0   \n",
       "                     Week 04        2                     NaN   \n",
       "           DS1000172 Week 01        2                     NaN   \n",
       "                     Week 02        2                     NaN   \n",
       "                     Week 03        2                     1.0   \n",
       "                     Week 04        2                     NaN   \n",
       "           DS1000182 Week 01        3                     NaN   \n",
       "                     Week 02        3                     NaN   \n",
       "                     Week 03        3                     1.0   \n",
       "                     Week 04        3                     NaN   \n",
       "           DS1000185 Week 01        2                     NaN   \n",
       "                     Week 02        2                     NaN   \n",
       "\n",
       "                                             AssignmentsSubmitted  \\\n",
       "CourseCode traineeid CourseWeekName BatchID                         \n",
       "ATC101     DS1000031 Week 01        3                         NaN   \n",
       "                     Week 02        3                         NaN   \n",
       "                     Week 03        3                         NaN   \n",
       "                     Week 04        3                         NaN   \n",
       "           DS1000037 Week 01        2                         NaN   \n",
       "                     Week 02        2                         NaN   \n",
       "                     Week 03        2                         1.0   \n",
       "                     Week 04        2                         NaN   \n",
       "           DS1000043 Week 01        2                         NaN   \n",
       "                     Week 02        2                         NaN   \n",
       "                     Week 03        2                         NaN   \n",
       "                     Week 04        2                         NaN   \n",
       "           DS1000076 Week 01        2                         NaN   \n",
       "                     Week 02        2                         NaN   \n",
       "                     Week 03        2                         NaN   \n",
       "                     Week 04        2                         NaN   \n",
       "           DS1000098 Week 01        2                         NaN   \n",
       "                     Week 02        2                         NaN   \n",
       "                     Week 03        2                         1.0   \n",
       "                     Week 04        2                         NaN   \n",
       "           DS1000101 Week 01        2                         NaN   \n",
       "                     Week 02        2                         NaN   \n",
       "                     Week 03        2                         NaN   \n",
       "                     Week 04        2                         NaN   \n",
       "           DS1000125 Week 01        2                         NaN   \n",
       "                     Week 02        2                         NaN   \n",
       "                     Week 03        2                         NaN   \n",
       "                     Week 04        2                         NaN   \n",
       "           DS1000151 Week 01        2                         NaN   \n",
       "                     Week 02        2                         NaN   \n",
       "                     Week 03        2                         NaN   \n",
       "                     Week 04        2                         NaN   \n",
       "           DS1000156 Week 01        2                         NaN   \n",
       "                     Week 02        2                         NaN   \n",
       "                     Week 03        2                         NaN   \n",
       "                     Week 04        2                         NaN   \n",
       "           DS1000165 Week 01        2                         NaN   \n",
       "                     Week 02        2                         NaN   \n",
       "                     Week 03        2                         1.0   \n",
       "                     Week 04        2                         NaN   \n",
       "           DS1000172 Week 01        2                         NaN   \n",
       "                     Week 02        2                         NaN   \n",
       "                     Week 03        2                         NaN   \n",
       "                     Week 04        2                         NaN   \n",
       "           DS1000182 Week 01        3                         NaN   \n",
       "                     Week 02        3                         NaN   \n",
       "                     Week 03        3                         NaN   \n",
       "                     Week 04        3                         NaN   \n",
       "           DS1000185 Week 01        2                         NaN   \n",
       "                     Week 02        2                         NaN   \n",
       "\n",
       "                                             CourseComplete  \n",
       "CourseCode traineeid CourseWeekName BatchID                  \n",
       "ATC101     DS1000031 Week 01        3                     1  \n",
       "                     Week 02        3                     1  \n",
       "                     Week 03        3                     1  \n",
       "                     Week 04        3                     1  \n",
       "           DS1000037 Week 01        2                     0  \n",
       "                     Week 02        2                     0  \n",
       "                     Week 03        2                     0  \n",
       "                     Week 04        2                     0  \n",
       "           DS1000043 Week 01        2                     1  \n",
       "                     Week 02        2                     1  \n",
       "                     Week 03        2                     1  \n",
       "                     Week 04        2                     1  \n",
       "           DS1000076 Week 01        2                     0  \n",
       "                     Week 02        2                     0  \n",
       "                     Week 03        2                     0  \n",
       "                     Week 04        2                     0  \n",
       "           DS1000098 Week 01        2                     1  \n",
       "                     Week 02        2                     1  \n",
       "                     Week 03        2                     1  \n",
       "                     Week 04        2                     1  \n",
       "           DS1000101 Week 01        2                     0  \n",
       "                     Week 02        2                     0  \n",
       "                     Week 03        2                     0  \n",
       "                     Week 04        2                     0  \n",
       "           DS1000125 Week 01        2                     0  \n",
       "                     Week 02        2                     0  \n",
       "                     Week 03        2                     0  \n",
       "                     Week 04        2                     0  \n",
       "           DS1000151 Week 01        2                     0  \n",
       "                     Week 02        2                     0  \n",
       "                     Week 03        2                     0  \n",
       "                     Week 04        2                     0  \n",
       "           DS1000156 Week 01        2                     0  \n",
       "                     Week 02        2                     0  \n",
       "                     Week 03        2                     0  \n",
       "                     Week 04        2                     0  \n",
       "           DS1000165 Week 01        2                     0  \n",
       "                     Week 02        2                     0  \n",
       "                     Week 03        2                     0  \n",
       "                     Week 04        2                     0  \n",
       "           DS1000172 Week 01        2                     0  \n",
       "                     Week 02        2                     0  \n",
       "                     Week 03        2                     0  \n",
       "                     Week 04        2                     0  \n",
       "           DS1000182 Week 01        3                     0  \n",
       "                     Week 02        3                     0  \n",
       "                     Week 03        3                     0  \n",
       "                     Week 04        3                     0  \n",
       "           DS1000185 Week 01        2                     1  \n",
       "                     Week 02        2                     1  "
      ]
     },
     "execution_count": 20,
     "metadata": {},
     "output_type": "execute_result"
    }
   ],
   "source": [
    "data.head(50)"
   ]
  },
  {
   "cell_type": "code",
   "execution_count": 22,
   "metadata": {},
   "outputs": [],
   "source": [
    "df = data.groupby(['CourseCode', 'traineeid', 'BatchID']).sum()"
   ]
  },
  {
   "cell_type": "code",
   "execution_count": 33,
   "metadata": {
    "scrolled": false
   },
   "outputs": [
    {
     "data": {
      "text/html": [
       "<div>\n",
       "<style scoped>\n",
       "    .dataframe tbody tr th:only-of-type {\n",
       "        vertical-align: middle;\n",
       "    }\n",
       "\n",
       "    .dataframe tbody tr th {\n",
       "        vertical-align: top;\n",
       "    }\n",
       "\n",
       "    .dataframe thead th {\n",
       "        text-align: right;\n",
       "    }\n",
       "</style>\n",
       "<table border=\"1\" class=\"dataframe\">\n",
       "  <thead>\n",
       "    <tr style=\"text-align: right;\">\n",
       "      <th></th>\n",
       "      <th></th>\n",
       "      <th></th>\n",
       "      <th>TotalLessonsCount</th>\n",
       "      <th>LessonsViewed</th>\n",
       "      <th>TimeSpentinSec</th>\n",
       "      <th>ViewedVideosDurationinSec</th>\n",
       "      <th>TotalQuizzCount</th>\n",
       "      <th>QuizzAttempted</th>\n",
       "      <th>TotalAssignments</th>\n",
       "      <th>AssignmentsSubmitted</th>\n",
       "      <th>CourseComplete</th>\n",
       "    </tr>\n",
       "    <tr>\n",
       "      <th>CourseCode</th>\n",
       "      <th>traineeid</th>\n",
       "      <th>BatchID</th>\n",
       "      <th></th>\n",
       "      <th></th>\n",
       "      <th></th>\n",
       "      <th></th>\n",
       "      <th></th>\n",
       "      <th></th>\n",
       "      <th></th>\n",
       "      <th></th>\n",
       "      <th></th>\n",
       "    </tr>\n",
       "  </thead>\n",
       "  <tbody>\n",
       "    <tr>\n",
       "      <th rowspan=\"5\" valign=\"top\">ATC101</th>\n",
       "      <th>DS1000031</th>\n",
       "      <th>3</th>\n",
       "      <td>40</td>\n",
       "      <td>40.0</td>\n",
       "      <td>98.0</td>\n",
       "      <td>25449.0</td>\n",
       "      <td>1.0</td>\n",
       "      <td>0.0</td>\n",
       "      <td>1.0</td>\n",
       "      <td>0.0</td>\n",
       "      <td>4</td>\n",
       "    </tr>\n",
       "    <tr>\n",
       "      <th>DS1000037</th>\n",
       "      <th>2</th>\n",
       "      <td>41</td>\n",
       "      <td>1.0</td>\n",
       "      <td>4.0</td>\n",
       "      <td>636.0</td>\n",
       "      <td>1.0</td>\n",
       "      <td>1.0</td>\n",
       "      <td>1.0</td>\n",
       "      <td>1.0</td>\n",
       "      <td>0</td>\n",
       "    </tr>\n",
       "    <tr>\n",
       "      <th>DS1000043</th>\n",
       "      <th>2</th>\n",
       "      <td>41</td>\n",
       "      <td>41.0</td>\n",
       "      <td>9336.0</td>\n",
       "      <td>6554.0</td>\n",
       "      <td>1.0</td>\n",
       "      <td>1.0</td>\n",
       "      <td>1.0</td>\n",
       "      <td>0.0</td>\n",
       "      <td>4</td>\n",
       "    </tr>\n",
       "    <tr>\n",
       "      <th>DS1000076</th>\n",
       "      <th>2</th>\n",
       "      <td>41</td>\n",
       "      <td>0.0</td>\n",
       "      <td>0.0</td>\n",
       "      <td>0.0</td>\n",
       "      <td>1.0</td>\n",
       "      <td>0.0</td>\n",
       "      <td>1.0</td>\n",
       "      <td>0.0</td>\n",
       "      <td>0</td>\n",
       "    </tr>\n",
       "    <tr>\n",
       "      <th>DS1000098</th>\n",
       "      <th>2</th>\n",
       "      <td>41</td>\n",
       "      <td>31.0</td>\n",
       "      <td>646.0</td>\n",
       "      <td>11607.0</td>\n",
       "      <td>1.0</td>\n",
       "      <td>1.0</td>\n",
       "      <td>1.0</td>\n",
       "      <td>1.0</td>\n",
       "      <td>4</td>\n",
       "    </tr>\n",
       "  </tbody>\n",
       "</table>\n",
       "</div>"
      ],
      "text/plain": [
       "                              TotalLessonsCount  LessonsViewed  \\\n",
       "CourseCode traineeid BatchID                                     \n",
       "ATC101     DS1000031 3                       40           40.0   \n",
       "           DS1000037 2                       41            1.0   \n",
       "           DS1000043 2                       41           41.0   \n",
       "           DS1000076 2                       41            0.0   \n",
       "           DS1000098 2                       41           31.0   \n",
       "\n",
       "                              TimeSpentinSec  ViewedVideosDurationinSec  \\\n",
       "CourseCode traineeid BatchID                                              \n",
       "ATC101     DS1000031 3                  98.0                    25449.0   \n",
       "           DS1000037 2                   4.0                      636.0   \n",
       "           DS1000043 2                9336.0                     6554.0   \n",
       "           DS1000076 2                   0.0                        0.0   \n",
       "           DS1000098 2                 646.0                    11607.0   \n",
       "\n",
       "                              TotalQuizzCount  QuizzAttempted  \\\n",
       "CourseCode traineeid BatchID                                    \n",
       "ATC101     DS1000031 3                    1.0             0.0   \n",
       "           DS1000037 2                    1.0             1.0   \n",
       "           DS1000043 2                    1.0             1.0   \n",
       "           DS1000076 2                    1.0             0.0   \n",
       "           DS1000098 2                    1.0             1.0   \n",
       "\n",
       "                              TotalAssignments  AssignmentsSubmitted  \\\n",
       "CourseCode traineeid BatchID                                           \n",
       "ATC101     DS1000031 3                     1.0                   0.0   \n",
       "           DS1000037 2                     1.0                   1.0   \n",
       "           DS1000043 2                     1.0                   0.0   \n",
       "           DS1000076 2                     1.0                   0.0   \n",
       "           DS1000098 2                     1.0                   1.0   \n",
       "\n",
       "                              CourseComplete  \n",
       "CourseCode traineeid BatchID                  \n",
       "ATC101     DS1000031 3                     4  \n",
       "           DS1000037 2                     0  \n",
       "           DS1000043 2                     4  \n",
       "           DS1000076 2                     0  \n",
       "           DS1000098 2                     4  "
      ]
     },
     "execution_count": 33,
     "metadata": {},
     "output_type": "execute_result"
    }
   ],
   "source": [
    "df.head()"
   ]
  },
  {
   "cell_type": "code",
   "execution_count": 38,
   "metadata": {},
   "outputs": [],
   "source": [
    "dadf.drop(columns = 'ViewedVideosDurationinSec', axis = 1, inplace = True)"
   ]
  },
  {
   "cell_type": "code",
   "execution_count": null,
   "metadata": {},
   "outputs": [],
   "source": []
  },
  {
   "cell_type": "markdown",
   "metadata": {},
   "source": [
    "## X and y values for ATC101 (AutoCad) Course"
   ]
  },
  {
   "cell_type": "code",
   "execution_count": 40,
   "metadata": {},
   "outputs": [],
   "source": [
    "df_ATC101 = df.loc['ATC101']"
   ]
  },
  {
   "cell_type": "code",
   "execution_count": 47,
   "metadata": {},
   "outputs": [],
   "source": [
    "X = df_ATC101.loc[:,'TotalLessonsCount' : 'AssignmentsSubmitted']"
   ]
  },
  {
   "cell_type": "code",
   "execution_count": 50,
   "metadata": {},
   "outputs": [],
   "source": [
    "y = df_ATC101.loc[:,'CourseComplete']"
   ]
  },
  {
   "cell_type": "code",
   "execution_count": 52,
   "metadata": {},
   "outputs": [
    {
     "name": "stdout",
     "output_type": "stream",
     "text": [
      "(14623, 7) (14623,)\n"
     ]
    }
   ],
   "source": [
    "print(X.shape, y.shape)"
   ]
  },
  {
   "cell_type": "code",
   "execution_count": 51,
   "metadata": {},
   "outputs": [],
   "source": [
    "from sklearn.model_selection import train_test_split"
   ]
  },
  {
   "cell_type": "code",
   "execution_count": 53,
   "metadata": {},
   "outputs": [],
   "source": [
    "X_train, X_test, y_train, y_test = train_test_split(X, y, test_size = 0.25, random_state = 42)"
   ]
  },
  {
   "cell_type": "code",
   "execution_count": 54,
   "metadata": {},
   "outputs": [
    {
     "data": {
      "text/html": [
       "<div>\n",
       "<style scoped>\n",
       "    .dataframe tbody tr th:only-of-type {\n",
       "        vertical-align: middle;\n",
       "    }\n",
       "\n",
       "    .dataframe tbody tr th {\n",
       "        vertical-align: top;\n",
       "    }\n",
       "\n",
       "    .dataframe thead th {\n",
       "        text-align: right;\n",
       "    }\n",
       "</style>\n",
       "<table border=\"1\" class=\"dataframe\">\n",
       "  <thead>\n",
       "    <tr style=\"text-align: right;\">\n",
       "      <th></th>\n",
       "      <th></th>\n",
       "      <th>TotalLessonsCount</th>\n",
       "      <th>LessonsViewed</th>\n",
       "      <th>TimeSpentinSec</th>\n",
       "      <th>TotalQuizzCount</th>\n",
       "      <th>QuizzAttempted</th>\n",
       "      <th>TotalAssignments</th>\n",
       "      <th>AssignmentsSubmitted</th>\n",
       "    </tr>\n",
       "    <tr>\n",
       "      <th>traineeid</th>\n",
       "      <th>BatchID</th>\n",
       "      <th></th>\n",
       "      <th></th>\n",
       "      <th></th>\n",
       "      <th></th>\n",
       "      <th></th>\n",
       "      <th></th>\n",
       "      <th></th>\n",
       "    </tr>\n",
       "  </thead>\n",
       "  <tbody>\n",
       "    <tr>\n",
       "      <th>DS1023904</th>\n",
       "      <th>2</th>\n",
       "      <td>41</td>\n",
       "      <td>23.0</td>\n",
       "      <td>1489.0</td>\n",
       "      <td>1.0</td>\n",
       "      <td>1.0</td>\n",
       "      <td>1.0</td>\n",
       "      <td>0.0</td>\n",
       "    </tr>\n",
       "    <tr>\n",
       "      <th>DS3022611</th>\n",
       "      <th>3</th>\n",
       "      <td>40</td>\n",
       "      <td>14.0</td>\n",
       "      <td>4994.0</td>\n",
       "      <td>1.0</td>\n",
       "      <td>0.0</td>\n",
       "      <td>1.0</td>\n",
       "      <td>0.0</td>\n",
       "    </tr>\n",
       "    <tr>\n",
       "      <th>DS2029866</th>\n",
       "      <th>2</th>\n",
       "      <td>41</td>\n",
       "      <td>0.0</td>\n",
       "      <td>0.0</td>\n",
       "      <td>1.0</td>\n",
       "      <td>0.0</td>\n",
       "      <td>1.0</td>\n",
       "      <td>0.0</td>\n",
       "    </tr>\n",
       "    <tr>\n",
       "      <th>DS3022532</th>\n",
       "      <th>3</th>\n",
       "      <td>40</td>\n",
       "      <td>10.0</td>\n",
       "      <td>4686.0</td>\n",
       "      <td>1.0</td>\n",
       "      <td>0.0</td>\n",
       "      <td>1.0</td>\n",
       "      <td>0.0</td>\n",
       "    </tr>\n",
       "    <tr>\n",
       "      <th>DS2042080</th>\n",
       "      <th>2</th>\n",
       "      <td>41</td>\n",
       "      <td>3.0</td>\n",
       "      <td>838.0</td>\n",
       "      <td>1.0</td>\n",
       "      <td>0.0</td>\n",
       "      <td>1.0</td>\n",
       "      <td>0.0</td>\n",
       "    </tr>\n",
       "    <tr>\n",
       "      <th>DS2030234</th>\n",
       "      <th>2</th>\n",
       "      <td>41</td>\n",
       "      <td>0.0</td>\n",
       "      <td>0.0</td>\n",
       "      <td>1.0</td>\n",
       "      <td>0.0</td>\n",
       "      <td>1.0</td>\n",
       "      <td>0.0</td>\n",
       "    </tr>\n",
       "    <tr>\n",
       "      <th>DS1044957</th>\n",
       "      <th>3</th>\n",
       "      <td>40</td>\n",
       "      <td>40.0</td>\n",
       "      <td>598.0</td>\n",
       "      <td>1.0</td>\n",
       "      <td>1.0</td>\n",
       "      <td>1.0</td>\n",
       "      <td>0.0</td>\n",
       "    </tr>\n",
       "    <tr>\n",
       "      <th>DS3035905</th>\n",
       "      <th>3</th>\n",
       "      <td>40</td>\n",
       "      <td>40.0</td>\n",
       "      <td>909.0</td>\n",
       "      <td>1.0</td>\n",
       "      <td>1.0</td>\n",
       "      <td>1.0</td>\n",
       "      <td>1.0</td>\n",
       "    </tr>\n",
       "    <tr>\n",
       "      <th>DS3028491</th>\n",
       "      <th>3</th>\n",
       "      <td>40</td>\n",
       "      <td>40.0</td>\n",
       "      <td>359.0</td>\n",
       "      <td>1.0</td>\n",
       "      <td>0.0</td>\n",
       "      <td>1.0</td>\n",
       "      <td>0.0</td>\n",
       "    </tr>\n",
       "    <tr>\n",
       "      <th>DS1019996</th>\n",
       "      <th>2</th>\n",
       "      <td>41</td>\n",
       "      <td>30.0</td>\n",
       "      <td>13252.0</td>\n",
       "      <td>1.0</td>\n",
       "      <td>1.0</td>\n",
       "      <td>1.0</td>\n",
       "      <td>1.0</td>\n",
       "    </tr>\n",
       "    <tr>\n",
       "      <th>DS3103444</th>\n",
       "      <th>3</th>\n",
       "      <td>40</td>\n",
       "      <td>0.0</td>\n",
       "      <td>0.0</td>\n",
       "      <td>1.0</td>\n",
       "      <td>0.0</td>\n",
       "      <td>1.0</td>\n",
       "      <td>0.0</td>\n",
       "    </tr>\n",
       "    <tr>\n",
       "      <th>DS3030396</th>\n",
       "      <th>3</th>\n",
       "      <td>40</td>\n",
       "      <td>4.0</td>\n",
       "      <td>0.0</td>\n",
       "      <td>1.0</td>\n",
       "      <td>0.0</td>\n",
       "      <td>1.0</td>\n",
       "      <td>0.0</td>\n",
       "    </tr>\n",
       "    <tr>\n",
       "      <th>DS3042221</th>\n",
       "      <th>3</th>\n",
       "      <td>40</td>\n",
       "      <td>40.0</td>\n",
       "      <td>7551.0</td>\n",
       "      <td>1.0</td>\n",
       "      <td>1.0</td>\n",
       "      <td>1.0</td>\n",
       "      <td>1.0</td>\n",
       "    </tr>\n",
       "    <tr>\n",
       "      <th>DS1006141</th>\n",
       "      <th>3</th>\n",
       "      <td>40</td>\n",
       "      <td>0.0</td>\n",
       "      <td>0.0</td>\n",
       "      <td>1.0</td>\n",
       "      <td>0.0</td>\n",
       "      <td>1.0</td>\n",
       "      <td>0.0</td>\n",
       "    </tr>\n",
       "    <tr>\n",
       "      <th>DS2021772</th>\n",
       "      <th>3</th>\n",
       "      <td>40</td>\n",
       "      <td>40.0</td>\n",
       "      <td>508.0</td>\n",
       "      <td>1.0</td>\n",
       "      <td>0.0</td>\n",
       "      <td>1.0</td>\n",
       "      <td>0.0</td>\n",
       "    </tr>\n",
       "    <tr>\n",
       "      <th>DS2016854</th>\n",
       "      <th>2</th>\n",
       "      <td>41</td>\n",
       "      <td>41.0</td>\n",
       "      <td>2610.0</td>\n",
       "      <td>1.0</td>\n",
       "      <td>0.0</td>\n",
       "      <td>1.0</td>\n",
       "      <td>0.0</td>\n",
       "    </tr>\n",
       "    <tr>\n",
       "      <th>DS3021890</th>\n",
       "      <th>3</th>\n",
       "      <td>40</td>\n",
       "      <td>2.0</td>\n",
       "      <td>0.0</td>\n",
       "      <td>1.0</td>\n",
       "      <td>0.0</td>\n",
       "      <td>1.0</td>\n",
       "      <td>0.0</td>\n",
       "    </tr>\n",
       "    <tr>\n",
       "      <th>DS1011616</th>\n",
       "      <th>2</th>\n",
       "      <td>41</td>\n",
       "      <td>0.0</td>\n",
       "      <td>0.0</td>\n",
       "      <td>1.0</td>\n",
       "      <td>0.0</td>\n",
       "      <td>1.0</td>\n",
       "      <td>0.0</td>\n",
       "    </tr>\n",
       "    <tr>\n",
       "      <th>DS2024150</th>\n",
       "      <th>2</th>\n",
       "      <td>41</td>\n",
       "      <td>2.0</td>\n",
       "      <td>0.0</td>\n",
       "      <td>1.0</td>\n",
       "      <td>0.0</td>\n",
       "      <td>1.0</td>\n",
       "      <td>0.0</td>\n",
       "    </tr>\n",
       "    <tr>\n",
       "      <th>DS2025669</th>\n",
       "      <th>3</th>\n",
       "      <td>40</td>\n",
       "      <td>4.0</td>\n",
       "      <td>1468.0</td>\n",
       "      <td>1.0</td>\n",
       "      <td>0.0</td>\n",
       "      <td>1.0</td>\n",
       "      <td>0.0</td>\n",
       "    </tr>\n",
       "    <tr>\n",
       "      <th>DS1034008</th>\n",
       "      <th>2</th>\n",
       "      <td>41</td>\n",
       "      <td>30.0</td>\n",
       "      <td>17454.0</td>\n",
       "      <td>1.0</td>\n",
       "      <td>1.0</td>\n",
       "      <td>1.0</td>\n",
       "      <td>1.0</td>\n",
       "    </tr>\n",
       "    <tr>\n",
       "      <th>DS1028670</th>\n",
       "      <th>2</th>\n",
       "      <td>41</td>\n",
       "      <td>9.0</td>\n",
       "      <td>212.0</td>\n",
       "      <td>1.0</td>\n",
       "      <td>1.0</td>\n",
       "      <td>1.0</td>\n",
       "      <td>0.0</td>\n",
       "    </tr>\n",
       "    <tr>\n",
       "      <th>DS2073649</th>\n",
       "      <th>3</th>\n",
       "      <td>40</td>\n",
       "      <td>40.0</td>\n",
       "      <td>0.0</td>\n",
       "      <td>1.0</td>\n",
       "      <td>1.0</td>\n",
       "      <td>1.0</td>\n",
       "      <td>1.0</td>\n",
       "    </tr>\n",
       "    <tr>\n",
       "      <th>DS3038970</th>\n",
       "      <th>3</th>\n",
       "      <td>40</td>\n",
       "      <td>40.0</td>\n",
       "      <td>1591.0</td>\n",
       "      <td>1.0</td>\n",
       "      <td>1.0</td>\n",
       "      <td>1.0</td>\n",
       "      <td>1.0</td>\n",
       "    </tr>\n",
       "    <tr>\n",
       "      <th>DS2043516</th>\n",
       "      <th>3</th>\n",
       "      <td>40</td>\n",
       "      <td>2.0</td>\n",
       "      <td>0.0</td>\n",
       "      <td>1.0</td>\n",
       "      <td>0.0</td>\n",
       "      <td>1.0</td>\n",
       "      <td>0.0</td>\n",
       "    </tr>\n",
       "    <tr>\n",
       "      <th>DS2031291</th>\n",
       "      <th>2</th>\n",
       "      <td>41</td>\n",
       "      <td>41.0</td>\n",
       "      <td>3083.0</td>\n",
       "      <td>1.0</td>\n",
       "      <td>1.0</td>\n",
       "      <td>1.0</td>\n",
       "      <td>0.0</td>\n",
       "    </tr>\n",
       "    <tr>\n",
       "      <th>DS2043827</th>\n",
       "      <th>3</th>\n",
       "      <td>40</td>\n",
       "      <td>40.0</td>\n",
       "      <td>880.0</td>\n",
       "      <td>1.0</td>\n",
       "      <td>1.0</td>\n",
       "      <td>1.0</td>\n",
       "      <td>0.0</td>\n",
       "    </tr>\n",
       "    <tr>\n",
       "      <th>DS3022002</th>\n",
       "      <th>3</th>\n",
       "      <td>40</td>\n",
       "      <td>24.0</td>\n",
       "      <td>2775.0</td>\n",
       "      <td>1.0</td>\n",
       "      <td>1.0</td>\n",
       "      <td>1.0</td>\n",
       "      <td>1.0</td>\n",
       "    </tr>\n",
       "    <tr>\n",
       "      <th>DS3078691</th>\n",
       "      <th>3</th>\n",
       "      <td>40</td>\n",
       "      <td>40.0</td>\n",
       "      <td>2165.0</td>\n",
       "      <td>1.0</td>\n",
       "      <td>1.0</td>\n",
       "      <td>1.0</td>\n",
       "      <td>1.0</td>\n",
       "    </tr>\n",
       "    <tr>\n",
       "      <th>DS3032795</th>\n",
       "      <th>3</th>\n",
       "      <td>40</td>\n",
       "      <td>3.0</td>\n",
       "      <td>0.0</td>\n",
       "      <td>1.0</td>\n",
       "      <td>1.0</td>\n",
       "      <td>1.0</td>\n",
       "      <td>1.0</td>\n",
       "    </tr>\n",
       "    <tr>\n",
       "      <th>...</th>\n",
       "      <th>...</th>\n",
       "      <td>...</td>\n",
       "      <td>...</td>\n",
       "      <td>...</td>\n",
       "      <td>...</td>\n",
       "      <td>...</td>\n",
       "      <td>...</td>\n",
       "      <td>...</td>\n",
       "    </tr>\n",
       "    <tr>\n",
       "      <th>DS1052204</th>\n",
       "      <th>2</th>\n",
       "      <td>41</td>\n",
       "      <td>1.0</td>\n",
       "      <td>0.0</td>\n",
       "      <td>1.0</td>\n",
       "      <td>1.0</td>\n",
       "      <td>1.0</td>\n",
       "      <td>0.0</td>\n",
       "    </tr>\n",
       "    <tr>\n",
       "      <th>DS2021218</th>\n",
       "      <th>2</th>\n",
       "      <td>41</td>\n",
       "      <td>0.0</td>\n",
       "      <td>0.0</td>\n",
       "      <td>1.0</td>\n",
       "      <td>0.0</td>\n",
       "      <td>1.0</td>\n",
       "      <td>0.0</td>\n",
       "    </tr>\n",
       "    <tr>\n",
       "      <th>DS1013745</th>\n",
       "      <th>2</th>\n",
       "      <td>41</td>\n",
       "      <td>41.0</td>\n",
       "      <td>637.0</td>\n",
       "      <td>1.0</td>\n",
       "      <td>1.0</td>\n",
       "      <td>1.0</td>\n",
       "      <td>0.0</td>\n",
       "    </tr>\n",
       "    <tr>\n",
       "      <th>DS2038202</th>\n",
       "      <th>2</th>\n",
       "      <td>41</td>\n",
       "      <td>41.0</td>\n",
       "      <td>10804.0</td>\n",
       "      <td>1.0</td>\n",
       "      <td>1.0</td>\n",
       "      <td>1.0</td>\n",
       "      <td>0.0</td>\n",
       "    </tr>\n",
       "    <tr>\n",
       "      <th>DS2025958</th>\n",
       "      <th>2</th>\n",
       "      <td>41</td>\n",
       "      <td>41.0</td>\n",
       "      <td>194.0</td>\n",
       "      <td>1.0</td>\n",
       "      <td>1.0</td>\n",
       "      <td>1.0</td>\n",
       "      <td>0.0</td>\n",
       "    </tr>\n",
       "    <tr>\n",
       "      <th>DS2028365</th>\n",
       "      <th>2</th>\n",
       "      <td>41</td>\n",
       "      <td>30.0</td>\n",
       "      <td>512.0</td>\n",
       "      <td>1.0</td>\n",
       "      <td>1.0</td>\n",
       "      <td>1.0</td>\n",
       "      <td>0.0</td>\n",
       "    </tr>\n",
       "    <tr>\n",
       "      <th>DS1032516</th>\n",
       "      <th>3</th>\n",
       "      <td>40</td>\n",
       "      <td>18.0</td>\n",
       "      <td>1968.0</td>\n",
       "      <td>1.0</td>\n",
       "      <td>1.0</td>\n",
       "      <td>1.0</td>\n",
       "      <td>0.0</td>\n",
       "    </tr>\n",
       "    <tr>\n",
       "      <th>DS2043803</th>\n",
       "      <th>2</th>\n",
       "      <td>41</td>\n",
       "      <td>0.0</td>\n",
       "      <td>0.0</td>\n",
       "      <td>1.0</td>\n",
       "      <td>0.0</td>\n",
       "      <td>1.0</td>\n",
       "      <td>0.0</td>\n",
       "    </tr>\n",
       "    <tr>\n",
       "      <th>DS3094608</th>\n",
       "      <th>3</th>\n",
       "      <td>40</td>\n",
       "      <td>2.0</td>\n",
       "      <td>0.0</td>\n",
       "      <td>1.0</td>\n",
       "      <td>1.0</td>\n",
       "      <td>1.0</td>\n",
       "      <td>1.0</td>\n",
       "    </tr>\n",
       "    <tr>\n",
       "      <th>DS3034569</th>\n",
       "      <th>3</th>\n",
       "      <td>40</td>\n",
       "      <td>10.0</td>\n",
       "      <td>583.0</td>\n",
       "      <td>1.0</td>\n",
       "      <td>0.0</td>\n",
       "      <td>1.0</td>\n",
       "      <td>0.0</td>\n",
       "    </tr>\n",
       "    <tr>\n",
       "      <th>DS1008360</th>\n",
       "      <th>2</th>\n",
       "      <td>41</td>\n",
       "      <td>1.0</td>\n",
       "      <td>0.0</td>\n",
       "      <td>1.0</td>\n",
       "      <td>0.0</td>\n",
       "      <td>1.0</td>\n",
       "      <td>0.0</td>\n",
       "    </tr>\n",
       "    <tr>\n",
       "      <th>DS1020427</th>\n",
       "      <th>2</th>\n",
       "      <td>41</td>\n",
       "      <td>14.0</td>\n",
       "      <td>8821.0</td>\n",
       "      <td>1.0</td>\n",
       "      <td>1.0</td>\n",
       "      <td>1.0</td>\n",
       "      <td>0.0</td>\n",
       "    </tr>\n",
       "    <tr>\n",
       "      <th>DS2076782</th>\n",
       "      <th>3</th>\n",
       "      <td>40</td>\n",
       "      <td>40.0</td>\n",
       "      <td>0.0</td>\n",
       "      <td>1.0</td>\n",
       "      <td>1.0</td>\n",
       "      <td>1.0</td>\n",
       "      <td>0.0</td>\n",
       "    </tr>\n",
       "    <tr>\n",
       "      <th>DS3043172</th>\n",
       "      <th>3</th>\n",
       "      <td>40</td>\n",
       "      <td>6.0</td>\n",
       "      <td>3815.0</td>\n",
       "      <td>1.0</td>\n",
       "      <td>0.0</td>\n",
       "      <td>1.0</td>\n",
       "      <td>0.0</td>\n",
       "    </tr>\n",
       "    <tr>\n",
       "      <th>DS3047283</th>\n",
       "      <th>3</th>\n",
       "      <td>40</td>\n",
       "      <td>31.0</td>\n",
       "      <td>0.0</td>\n",
       "      <td>1.0</td>\n",
       "      <td>0.0</td>\n",
       "      <td>1.0</td>\n",
       "      <td>0.0</td>\n",
       "    </tr>\n",
       "    <tr>\n",
       "      <th>DS3052350</th>\n",
       "      <th>3</th>\n",
       "      <td>40</td>\n",
       "      <td>0.0</td>\n",
       "      <td>0.0</td>\n",
       "      <td>1.0</td>\n",
       "      <td>0.0</td>\n",
       "      <td>1.0</td>\n",
       "      <td>0.0</td>\n",
       "    </tr>\n",
       "    <tr>\n",
       "      <th>DS3107293</th>\n",
       "      <th>3</th>\n",
       "      <td>40</td>\n",
       "      <td>0.0</td>\n",
       "      <td>0.0</td>\n",
       "      <td>1.0</td>\n",
       "      <td>0.0</td>\n",
       "      <td>1.0</td>\n",
       "      <td>0.0</td>\n",
       "    </tr>\n",
       "    <tr>\n",
       "      <th>DS2030644</th>\n",
       "      <th>2</th>\n",
       "      <td>41</td>\n",
       "      <td>0.0</td>\n",
       "      <td>0.0</td>\n",
       "      <td>1.0</td>\n",
       "      <td>0.0</td>\n",
       "      <td>1.0</td>\n",
       "      <td>0.0</td>\n",
       "    </tr>\n",
       "    <tr>\n",
       "      <th>DS2019574</th>\n",
       "      <th>2</th>\n",
       "      <td>41</td>\n",
       "      <td>0.0</td>\n",
       "      <td>0.0</td>\n",
       "      <td>1.0</td>\n",
       "      <td>0.0</td>\n",
       "      <td>1.0</td>\n",
       "      <td>0.0</td>\n",
       "    </tr>\n",
       "    <tr>\n",
       "      <th>DS3089451</th>\n",
       "      <th>3</th>\n",
       "      <td>40</td>\n",
       "      <td>40.0</td>\n",
       "      <td>11191.0</td>\n",
       "      <td>1.0</td>\n",
       "      <td>1.0</td>\n",
       "      <td>1.0</td>\n",
       "      <td>1.0</td>\n",
       "    </tr>\n",
       "    <tr>\n",
       "      <th>DS1004713</th>\n",
       "      <th>2</th>\n",
       "      <td>41</td>\n",
       "      <td>6.0</td>\n",
       "      <td>50.0</td>\n",
       "      <td>1.0</td>\n",
       "      <td>0.0</td>\n",
       "      <td>1.0</td>\n",
       "      <td>0.0</td>\n",
       "    </tr>\n",
       "    <tr>\n",
       "      <th>DS2036531</th>\n",
       "      <th>2</th>\n",
       "      <td>41</td>\n",
       "      <td>40.0</td>\n",
       "      <td>48241.0</td>\n",
       "      <td>1.0</td>\n",
       "      <td>1.0</td>\n",
       "      <td>1.0</td>\n",
       "      <td>1.0</td>\n",
       "    </tr>\n",
       "    <tr>\n",
       "      <th>DS2031878</th>\n",
       "      <th>2</th>\n",
       "      <td>41</td>\n",
       "      <td>0.0</td>\n",
       "      <td>0.0</td>\n",
       "      <td>1.0</td>\n",
       "      <td>0.0</td>\n",
       "      <td>1.0</td>\n",
       "      <td>0.0</td>\n",
       "    </tr>\n",
       "    <tr>\n",
       "      <th>DS3046046</th>\n",
       "      <th>3</th>\n",
       "      <td>40</td>\n",
       "      <td>10.0</td>\n",
       "      <td>2859.0</td>\n",
       "      <td>1.0</td>\n",
       "      <td>1.0</td>\n",
       "      <td>1.0</td>\n",
       "      <td>0.0</td>\n",
       "    </tr>\n",
       "    <tr>\n",
       "      <th>DS3058432</th>\n",
       "      <th>3</th>\n",
       "      <td>40</td>\n",
       "      <td>1.0</td>\n",
       "      <td>0.0</td>\n",
       "      <td>1.0</td>\n",
       "      <td>0.0</td>\n",
       "      <td>1.0</td>\n",
       "      <td>0.0</td>\n",
       "    </tr>\n",
       "    <tr>\n",
       "      <th>DS2027162</th>\n",
       "      <th>3</th>\n",
       "      <td>40</td>\n",
       "      <td>8.0</td>\n",
       "      <td>691.0</td>\n",
       "      <td>1.0</td>\n",
       "      <td>0.0</td>\n",
       "      <td>1.0</td>\n",
       "      <td>0.0</td>\n",
       "    </tr>\n",
       "    <tr>\n",
       "      <th>DS3087676</th>\n",
       "      <th>3</th>\n",
       "      <td>40</td>\n",
       "      <td>0.0</td>\n",
       "      <td>0.0</td>\n",
       "      <td>1.0</td>\n",
       "      <td>0.0</td>\n",
       "      <td>1.0</td>\n",
       "      <td>0.0</td>\n",
       "    </tr>\n",
       "    <tr>\n",
       "      <th>DS2029193</th>\n",
       "      <th>2</th>\n",
       "      <td>41</td>\n",
       "      <td>1.0</td>\n",
       "      <td>0.0</td>\n",
       "      <td>1.0</td>\n",
       "      <td>0.0</td>\n",
       "      <td>1.0</td>\n",
       "      <td>0.0</td>\n",
       "    </tr>\n",
       "    <tr>\n",
       "      <th>DS1009418</th>\n",
       "      <th>2</th>\n",
       "      <td>41</td>\n",
       "      <td>30.0</td>\n",
       "      <td>659.0</td>\n",
       "      <td>1.0</td>\n",
       "      <td>1.0</td>\n",
       "      <td>1.0</td>\n",
       "      <td>1.0</td>\n",
       "    </tr>\n",
       "    <tr>\n",
       "      <th>DS2046920</th>\n",
       "      <th>2</th>\n",
       "      <td>41</td>\n",
       "      <td>19.0</td>\n",
       "      <td>2882.0</td>\n",
       "      <td>1.0</td>\n",
       "      <td>1.0</td>\n",
       "      <td>1.0</td>\n",
       "      <td>1.0</td>\n",
       "    </tr>\n",
       "  </tbody>\n",
       "</table>\n",
       "<p>10967 rows × 7 columns</p>\n",
       "</div>"
      ],
      "text/plain": [
       "                   TotalLessonsCount  LessonsViewed  TimeSpentinSec  \\\n",
       "traineeid BatchID                                                     \n",
       "DS1023904 2                       41           23.0          1489.0   \n",
       "DS3022611 3                       40           14.0          4994.0   \n",
       "DS2029866 2                       41            0.0             0.0   \n",
       "DS3022532 3                       40           10.0          4686.0   \n",
       "DS2042080 2                       41            3.0           838.0   \n",
       "DS2030234 2                       41            0.0             0.0   \n",
       "DS1044957 3                       40           40.0           598.0   \n",
       "DS3035905 3                       40           40.0           909.0   \n",
       "DS3028491 3                       40           40.0           359.0   \n",
       "DS1019996 2                       41           30.0         13252.0   \n",
       "DS3103444 3                       40            0.0             0.0   \n",
       "DS3030396 3                       40            4.0             0.0   \n",
       "DS3042221 3                       40           40.0          7551.0   \n",
       "DS1006141 3                       40            0.0             0.0   \n",
       "DS2021772 3                       40           40.0           508.0   \n",
       "DS2016854 2                       41           41.0          2610.0   \n",
       "DS3021890 3                       40            2.0             0.0   \n",
       "DS1011616 2                       41            0.0             0.0   \n",
       "DS2024150 2                       41            2.0             0.0   \n",
       "DS2025669 3                       40            4.0          1468.0   \n",
       "DS1034008 2                       41           30.0         17454.0   \n",
       "DS1028670 2                       41            9.0           212.0   \n",
       "DS2073649 3                       40           40.0             0.0   \n",
       "DS3038970 3                       40           40.0          1591.0   \n",
       "DS2043516 3                       40            2.0             0.0   \n",
       "DS2031291 2                       41           41.0          3083.0   \n",
       "DS2043827 3                       40           40.0           880.0   \n",
       "DS3022002 3                       40           24.0          2775.0   \n",
       "DS3078691 3                       40           40.0          2165.0   \n",
       "DS3032795 3                       40            3.0             0.0   \n",
       "...                              ...            ...             ...   \n",
       "DS1052204 2                       41            1.0             0.0   \n",
       "DS2021218 2                       41            0.0             0.0   \n",
       "DS1013745 2                       41           41.0           637.0   \n",
       "DS2038202 2                       41           41.0         10804.0   \n",
       "DS2025958 2                       41           41.0           194.0   \n",
       "DS2028365 2                       41           30.0           512.0   \n",
       "DS1032516 3                       40           18.0          1968.0   \n",
       "DS2043803 2                       41            0.0             0.0   \n",
       "DS3094608 3                       40            2.0             0.0   \n",
       "DS3034569 3                       40           10.0           583.0   \n",
       "DS1008360 2                       41            1.0             0.0   \n",
       "DS1020427 2                       41           14.0          8821.0   \n",
       "DS2076782 3                       40           40.0             0.0   \n",
       "DS3043172 3                       40            6.0          3815.0   \n",
       "DS3047283 3                       40           31.0             0.0   \n",
       "DS3052350 3                       40            0.0             0.0   \n",
       "DS3107293 3                       40            0.0             0.0   \n",
       "DS2030644 2                       41            0.0             0.0   \n",
       "DS2019574 2                       41            0.0             0.0   \n",
       "DS3089451 3                       40           40.0         11191.0   \n",
       "DS1004713 2                       41            6.0            50.0   \n",
       "DS2036531 2                       41           40.0         48241.0   \n",
       "DS2031878 2                       41            0.0             0.0   \n",
       "DS3046046 3                       40           10.0          2859.0   \n",
       "DS3058432 3                       40            1.0             0.0   \n",
       "DS2027162 3                       40            8.0           691.0   \n",
       "DS3087676 3                       40            0.0             0.0   \n",
       "DS2029193 2                       41            1.0             0.0   \n",
       "DS1009418 2                       41           30.0           659.0   \n",
       "DS2046920 2                       41           19.0          2882.0   \n",
       "\n",
       "                   TotalQuizzCount  QuizzAttempted  TotalAssignments  \\\n",
       "traineeid BatchID                                                      \n",
       "DS1023904 2                    1.0             1.0               1.0   \n",
       "DS3022611 3                    1.0             0.0               1.0   \n",
       "DS2029866 2                    1.0             0.0               1.0   \n",
       "DS3022532 3                    1.0             0.0               1.0   \n",
       "DS2042080 2                    1.0             0.0               1.0   \n",
       "DS2030234 2                    1.0             0.0               1.0   \n",
       "DS1044957 3                    1.0             1.0               1.0   \n",
       "DS3035905 3                    1.0             1.0               1.0   \n",
       "DS3028491 3                    1.0             0.0               1.0   \n",
       "DS1019996 2                    1.0             1.0               1.0   \n",
       "DS3103444 3                    1.0             0.0               1.0   \n",
       "DS3030396 3                    1.0             0.0               1.0   \n",
       "DS3042221 3                    1.0             1.0               1.0   \n",
       "DS1006141 3                    1.0             0.0               1.0   \n",
       "DS2021772 3                    1.0             0.0               1.0   \n",
       "DS2016854 2                    1.0             0.0               1.0   \n",
       "DS3021890 3                    1.0             0.0               1.0   \n",
       "DS1011616 2                    1.0             0.0               1.0   \n",
       "DS2024150 2                    1.0             0.0               1.0   \n",
       "DS2025669 3                    1.0             0.0               1.0   \n",
       "DS1034008 2                    1.0             1.0               1.0   \n",
       "DS1028670 2                    1.0             1.0               1.0   \n",
       "DS2073649 3                    1.0             1.0               1.0   \n",
       "DS3038970 3                    1.0             1.0               1.0   \n",
       "DS2043516 3                    1.0             0.0               1.0   \n",
       "DS2031291 2                    1.0             1.0               1.0   \n",
       "DS2043827 3                    1.0             1.0               1.0   \n",
       "DS3022002 3                    1.0             1.0               1.0   \n",
       "DS3078691 3                    1.0             1.0               1.0   \n",
       "DS3032795 3                    1.0             1.0               1.0   \n",
       "...                            ...             ...               ...   \n",
       "DS1052204 2                    1.0             1.0               1.0   \n",
       "DS2021218 2                    1.0             0.0               1.0   \n",
       "DS1013745 2                    1.0             1.0               1.0   \n",
       "DS2038202 2                    1.0             1.0               1.0   \n",
       "DS2025958 2                    1.0             1.0               1.0   \n",
       "DS2028365 2                    1.0             1.0               1.0   \n",
       "DS1032516 3                    1.0             1.0               1.0   \n",
       "DS2043803 2                    1.0             0.0               1.0   \n",
       "DS3094608 3                    1.0             1.0               1.0   \n",
       "DS3034569 3                    1.0             0.0               1.0   \n",
       "DS1008360 2                    1.0             0.0               1.0   \n",
       "DS1020427 2                    1.0             1.0               1.0   \n",
       "DS2076782 3                    1.0             1.0               1.0   \n",
       "DS3043172 3                    1.0             0.0               1.0   \n",
       "DS3047283 3                    1.0             0.0               1.0   \n",
       "DS3052350 3                    1.0             0.0               1.0   \n",
       "DS3107293 3                    1.0             0.0               1.0   \n",
       "DS2030644 2                    1.0             0.0               1.0   \n",
       "DS2019574 2                    1.0             0.0               1.0   \n",
       "DS3089451 3                    1.0             1.0               1.0   \n",
       "DS1004713 2                    1.0             0.0               1.0   \n",
       "DS2036531 2                    1.0             1.0               1.0   \n",
       "DS2031878 2                    1.0             0.0               1.0   \n",
       "DS3046046 3                    1.0             1.0               1.0   \n",
       "DS3058432 3                    1.0             0.0               1.0   \n",
       "DS2027162 3                    1.0             0.0               1.0   \n",
       "DS3087676 3                    1.0             0.0               1.0   \n",
       "DS2029193 2                    1.0             0.0               1.0   \n",
       "DS1009418 2                    1.0             1.0               1.0   \n",
       "DS2046920 2                    1.0             1.0               1.0   \n",
       "\n",
       "                   AssignmentsSubmitted  \n",
       "traineeid BatchID                        \n",
       "DS1023904 2                         0.0  \n",
       "DS3022611 3                         0.0  \n",
       "DS2029866 2                         0.0  \n",
       "DS3022532 3                         0.0  \n",
       "DS2042080 2                         0.0  \n",
       "DS2030234 2                         0.0  \n",
       "DS1044957 3                         0.0  \n",
       "DS3035905 3                         1.0  \n",
       "DS3028491 3                         0.0  \n",
       "DS1019996 2                         1.0  \n",
       "DS3103444 3                         0.0  \n",
       "DS3030396 3                         0.0  \n",
       "DS3042221 3                         1.0  \n",
       "DS1006141 3                         0.0  \n",
       "DS2021772 3                         0.0  \n",
       "DS2016854 2                         0.0  \n",
       "DS3021890 3                         0.0  \n",
       "DS1011616 2                         0.0  \n",
       "DS2024150 2                         0.0  \n",
       "DS2025669 3                         0.0  \n",
       "DS1034008 2                         1.0  \n",
       "DS1028670 2                         0.0  \n",
       "DS2073649 3                         1.0  \n",
       "DS3038970 3                         1.0  \n",
       "DS2043516 3                         0.0  \n",
       "DS2031291 2                         0.0  \n",
       "DS2043827 3                         0.0  \n",
       "DS3022002 3                         1.0  \n",
       "DS3078691 3                         1.0  \n",
       "DS3032795 3                         1.0  \n",
       "...                                 ...  \n",
       "DS1052204 2                         0.0  \n",
       "DS2021218 2                         0.0  \n",
       "DS1013745 2                         0.0  \n",
       "DS2038202 2                         0.0  \n",
       "DS2025958 2                         0.0  \n",
       "DS2028365 2                         0.0  \n",
       "DS1032516 3                         0.0  \n",
       "DS2043803 2                         0.0  \n",
       "DS3094608 3                         1.0  \n",
       "DS3034569 3                         0.0  \n",
       "DS1008360 2                         0.0  \n",
       "DS1020427 2                         0.0  \n",
       "DS2076782 3                         0.0  \n",
       "DS3043172 3                         0.0  \n",
       "DS3047283 3                         0.0  \n",
       "DS3052350 3                         0.0  \n",
       "DS3107293 3                         0.0  \n",
       "DS2030644 2                         0.0  \n",
       "DS2019574 2                         0.0  \n",
       "DS3089451 3                         1.0  \n",
       "DS1004713 2                         0.0  \n",
       "DS2036531 2                         1.0  \n",
       "DS2031878 2                         0.0  \n",
       "DS3046046 3                         0.0  \n",
       "DS3058432 3                         0.0  \n",
       "DS2027162 3                         0.0  \n",
       "DS3087676 3                         0.0  \n",
       "DS2029193 2                         0.0  \n",
       "DS1009418 2                         1.0  \n",
       "DS2046920 2                         1.0  \n",
       "\n",
       "[10967 rows x 7 columns]"
      ]
     },
     "execution_count": 54,
     "metadata": {},
     "output_type": "execute_result"
    }
   ],
   "source": []
  },
  {
   "cell_type": "markdown",
   "metadata": {},
   "source": [
    "## Logistic Regression Model for Auto Cad Course"
   ]
  },
  {
   "cell_type": "code",
   "execution_count": 55,
   "metadata": {},
   "outputs": [],
   "source": [
    "from sklearn.linear_model import LogisticRegression\n",
    "Lr = LogisticRegression()"
   ]
  },
  {
   "cell_type": "code",
   "execution_count": 56,
   "metadata": {},
   "outputs": [
    {
     "name": "stderr",
     "output_type": "stream",
     "text": [
      "C:\\Users\\sunny\\Anaconda3\\lib\\site-packages\\sklearn\\linear_model\\logistic.py:433: FutureWarning: Default solver will be changed to 'lbfgs' in 0.22. Specify a solver to silence this warning.\n",
      "  FutureWarning)\n"
     ]
    },
    {
     "data": {
      "text/plain": [
       "LogisticRegression(C=1.0, class_weight=None, dual=False, fit_intercept=True,\n",
       "          intercept_scaling=1, max_iter=100, multi_class='warn',\n",
       "          n_jobs=None, penalty='l2', random_state=None, solver='warn',\n",
       "          tol=0.0001, verbose=0, warm_start=False)"
      ]
     },
     "execution_count": 56,
     "metadata": {},
     "output_type": "execute_result"
    }
   ],
   "source": [
    "Lr.fit(X_train, y_train)"
   ]
  },
  {
   "cell_type": "code",
   "execution_count": 57,
   "metadata": {},
   "outputs": [],
   "source": [
    "y_pred_class = Lr.predict(X_test)"
   ]
  },
  {
   "cell_type": "code",
   "execution_count": 58,
   "metadata": {},
   "outputs": [
    {
     "data": {
      "text/plain": [
       "0.9225929978118161"
      ]
     },
     "execution_count": 58,
     "metadata": {},
     "output_type": "execute_result"
    }
   ],
   "source": [
    "from sklearn import metrics \n",
    "metrics.accuracy_score(y_test, y_pred_class)"
   ]
  },
  {
   "cell_type": "code",
   "execution_count": 60,
   "metadata": {},
   "outputs": [
    {
     "name": "stdout",
     "output_type": "stream",
     "text": [
      "True : [4 4 4 0 0 4 0 0 0 0 0 0 0 0 0 0 0 0 0 0 0 0 4 0 0 0 0 4 0 0]\n",
      "Pred : [4 4 4 0 0 4 4 0 4 0 0 0 0 0 0 0 0 0 0 0 0 0 4 0 0 0 0 4 0 0]\n"
     ]
    }
   ],
   "source": [
    "print('True :', y_test.values[0:30])\n",
    "print('Pred :', y_pred_class[0:30])"
   ]
  },
  {
   "cell_type": "code",
   "execution_count": 62,
   "metadata": {},
   "outputs": [
    {
     "name": "stdout",
     "output_type": "stream",
     "text": [
      "[[2360  148]\n",
      " [ 135 1013]]\n"
     ]
    }
   ],
   "source": [
    "print (metrics.confusion_matrix(y_test, y_pred_class))\n",
    "confusion = metrics.confusion_matrix(y_test, y_pred_class)\n",
    "TP = confusion[1,1]\n",
    "TN = confusion[0,0]\n",
    "FP = confusion[0,1]\n",
    "FN = confusion[1,0]"
   ]
  },
  {
   "cell_type": "code",
   "execution_count": 64,
   "metadata": {},
   "outputs": [
    {
     "data": {
      "text/plain": [
       "0.8725236864771748"
      ]
     },
     "execution_count": 64,
     "metadata": {},
     "output_type": "execute_result"
    }
   ],
   "source": [
    "sensitivity = TP/float(FP+TP)\n",
    "sensitivity"
   ]
  },
  {
   "cell_type": "markdown",
   "metadata": {},
   "source": [
    "## Random Forest for Auto Cad"
   ]
  },
  {
   "cell_type": "code",
   "execution_count": 65,
   "metadata": {},
   "outputs": [],
   "source": [
    "from sklearn.ensemble import RandomForestClassifier\n",
    "RF = RandomForestClassifier()"
   ]
  },
  {
   "cell_type": "code",
   "execution_count": 66,
   "metadata": {},
   "outputs": [
    {
     "name": "stderr",
     "output_type": "stream",
     "text": [
      "C:\\Users\\sunny\\Anaconda3\\lib\\site-packages\\sklearn\\ensemble\\forest.py:246: FutureWarning: The default value of n_estimators will change from 10 in version 0.20 to 100 in 0.22.\n",
      "  \"10 in version 0.20 to 100 in 0.22.\", FutureWarning)\n"
     ]
    },
    {
     "data": {
      "text/plain": [
       "RandomForestClassifier(bootstrap=True, class_weight=None, criterion='gini',\n",
       "            max_depth=None, max_features='auto', max_leaf_nodes=None,\n",
       "            min_impurity_decrease=0.0, min_impurity_split=None,\n",
       "            min_samples_leaf=1, min_samples_split=2,\n",
       "            min_weight_fraction_leaf=0.0, n_estimators=10, n_jobs=None,\n",
       "            oob_score=False, random_state=None, verbose=0,\n",
       "            warm_start=False)"
      ]
     },
     "execution_count": 66,
     "metadata": {},
     "output_type": "execute_result"
    }
   ],
   "source": [
    "RF.fit(X_train, y_train)"
   ]
  },
  {
   "cell_type": "code",
   "execution_count": 67,
   "metadata": {},
   "outputs": [],
   "source": [
    "y_pred_rf_class = RF.predict(X_test)"
   ]
  },
  {
   "cell_type": "code",
   "execution_count": 68,
   "metadata": {},
   "outputs": [
    {
     "data": {
      "text/plain": [
       "0.9234135667396062"
      ]
     },
     "execution_count": 68,
     "metadata": {},
     "output_type": "execute_result"
    }
   ],
   "source": [
    "metrics.accuracy_score(y_test, y_pred_rf_class)"
   ]
  },
  {
   "cell_type": "code",
   "execution_count": 69,
   "metadata": {},
   "outputs": [
    {
     "name": "stdout",
     "output_type": "stream",
     "text": [
      "[[2364  144]\n",
      " [ 136 1012]]\n"
     ]
    }
   ],
   "source": [
    "print (metrics.confusion_matrix(y_test, y_pred_rf_class))\n",
    "confusion = metrics.confusion_matrix(y_test, y_pred_rf_class)\n",
    "TP = confusion[1,1]\n",
    "TN = confusion[0,0]\n",
    "FP = confusion[0,1]\n",
    "FN = confusion[1,0]"
   ]
  },
  {
   "cell_type": "code",
   "execution_count": 70,
   "metadata": {},
   "outputs": [
    {
     "data": {
      "text/plain": [
       "0.8754325259515571"
      ]
     },
     "execution_count": 70,
     "metadata": {},
     "output_type": "execute_result"
    }
   ],
   "source": [
    "sensitivity = TP/float(FP+TP)\n",
    "sensitivity"
   ]
  },
  {
   "cell_type": "markdown",
   "metadata": {},
   "source": [
    "## X and y values for FRL101 (Free Lancing) Course"
   ]
  },
  {
   "cell_type": "code",
   "execution_count": 74,
   "metadata": {},
   "outputs": [],
   "source": [
    "df_FRL101 = df.loc['FRL101']"
   ]
  },
  {
   "cell_type": "code",
   "execution_count": 75,
   "metadata": {},
   "outputs": [
    {
     "data": {
      "text/plain": [
       "(137280, 8)"
      ]
     },
     "execution_count": 75,
     "metadata": {},
     "output_type": "execute_result"
    }
   ],
   "source": [
    "df_FRL101.shape"
   ]
  },
  {
   "cell_type": "code",
   "execution_count": 76,
   "metadata": {},
   "outputs": [],
   "source": [
    "X = df_FRL101.loc[:,'TotalLessonsCount' : 'AssignmentsSubmitted']"
   ]
  },
  {
   "cell_type": "code",
   "execution_count": 77,
   "metadata": {},
   "outputs": [],
   "source": [
    "y = df_FRL101.loc[:,'CourseComplete']"
   ]
  },
  {
   "cell_type": "code",
   "execution_count": 78,
   "metadata": {},
   "outputs": [],
   "source": [
    "X_train, X_test, y_train, y_test = train_test_split(X, y, test_size = 0.25, random_state = 42)"
   ]
  },
  {
   "cell_type": "markdown",
   "metadata": {},
   "source": [
    "## Logistic Regression Model for FRL101 (Free Lancing) Course"
   ]
  },
  {
   "cell_type": "code",
   "execution_count": 79,
   "metadata": {},
   "outputs": [
    {
     "name": "stderr",
     "output_type": "stream",
     "text": [
      "C:\\Users\\sunny\\Anaconda3\\lib\\site-packages\\sklearn\\linear_model\\logistic.py:433: FutureWarning: Default solver will be changed to 'lbfgs' in 0.22. Specify a solver to silence this warning.\n",
      "  FutureWarning)\n"
     ]
    },
    {
     "data": {
      "text/plain": [
       "LogisticRegression(C=1.0, class_weight=None, dual=False, fit_intercept=True,\n",
       "          intercept_scaling=1, max_iter=100, multi_class='warn',\n",
       "          n_jobs=None, penalty='l2', random_state=None, solver='warn',\n",
       "          tol=0.0001, verbose=0, warm_start=False)"
      ]
     },
     "execution_count": 79,
     "metadata": {},
     "output_type": "execute_result"
    }
   ],
   "source": [
    "Lr = LogisticRegression()\n",
    "Lr.fit(X_train, y_train)\n"
   ]
  },
  {
   "cell_type": "code",
   "execution_count": 80,
   "metadata": {},
   "outputs": [],
   "source": [
    "y_pred_class = Lr.predict(X_test)"
   ]
  },
  {
   "cell_type": "code",
   "execution_count": 81,
   "metadata": {},
   "outputs": [
    {
     "data": {
      "text/plain": [
       "0.9438811188811189"
      ]
     },
     "execution_count": 81,
     "metadata": {},
     "output_type": "execute_result"
    }
   ],
   "source": [
    "metrics.accuracy_score(y_test, y_pred_class)"
   ]
  },
  {
   "cell_type": "code",
   "execution_count": 82,
   "metadata": {},
   "outputs": [
    {
     "name": "stdout",
     "output_type": "stream",
     "text": [
      "[[24716  1382]\n",
      " [  544  7678]]\n"
     ]
    }
   ],
   "source": [
    "print (metrics.confusion_matrix(y_test, y_pred_class))\n",
    "confusion = metrics.confusion_matrix(y_test, y_pred_class)\n",
    "TP = confusion[1,1]\n",
    "TN = confusion[0,0]\n",
    "FP = confusion[0,1]\n",
    "FN = confusion[1,0]"
   ]
  },
  {
   "cell_type": "code",
   "execution_count": 83,
   "metadata": {},
   "outputs": [
    {
     "data": {
      "text/plain": [
       "0.8474613686534216"
      ]
     },
     "execution_count": 83,
     "metadata": {},
     "output_type": "execute_result"
    }
   ],
   "source": [
    "sensitivity = TP/float(FP+TP)\n",
    "sensitivity"
   ]
  },
  {
   "cell_type": "markdown",
   "metadata": {},
   "source": [
    "## Random Forest for Freelancing FRL101"
   ]
  },
  {
   "cell_type": "code",
   "execution_count": 84,
   "metadata": {},
   "outputs": [
    {
     "name": "stderr",
     "output_type": "stream",
     "text": [
      "C:\\Users\\sunny\\Anaconda3\\lib\\site-packages\\sklearn\\ensemble\\forest.py:246: FutureWarning: The default value of n_estimators will change from 10 in version 0.20 to 100 in 0.22.\n",
      "  \"10 in version 0.20 to 100 in 0.22.\", FutureWarning)\n"
     ]
    },
    {
     "data": {
      "text/plain": [
       "RandomForestClassifier(bootstrap=True, class_weight=None, criterion='gini',\n",
       "            max_depth=None, max_features='auto', max_leaf_nodes=None,\n",
       "            min_impurity_decrease=0.0, min_impurity_split=None,\n",
       "            min_samples_leaf=1, min_samples_split=2,\n",
       "            min_weight_fraction_leaf=0.0, n_estimators=10, n_jobs=None,\n",
       "            oob_score=False, random_state=None, verbose=0,\n",
       "            warm_start=False)"
      ]
     },
     "execution_count": 84,
     "metadata": {},
     "output_type": "execute_result"
    }
   ],
   "source": [
    "RF = RandomForestClassifier()\n",
    "RF.fit(X_train, y_train)"
   ]
  },
  {
   "cell_type": "code",
   "execution_count": 85,
   "metadata": {},
   "outputs": [],
   "source": [
    "y_pred_rf_class = RF.predict(X_test)"
   ]
  },
  {
   "cell_type": "code",
   "execution_count": 86,
   "metadata": {},
   "outputs": [
    {
     "data": {
      "text/plain": [
       "0.9307983682983683"
      ]
     },
     "execution_count": 86,
     "metadata": {},
     "output_type": "execute_result"
    }
   ],
   "source": [
    "metrics.accuracy_score(y_test, y_pred_rf_class)"
   ]
  },
  {
   "cell_type": "code",
   "execution_count": 87,
   "metadata": {},
   "outputs": [
    {
     "name": "stdout",
     "output_type": "stream",
     "text": [
      "[[24928  1170]\n",
      " [ 1205  7017]]\n"
     ]
    }
   ],
   "source": [
    "print (metrics.confusion_matrix(y_test, y_pred_rf_class))\n",
    "confusion = metrics.confusion_matrix(y_test, y_pred_rf_class)\n",
    "TP = confusion[1,1]\n",
    "TN = confusion[0,0]\n",
    "FP = confusion[0,1]\n",
    "FN = confusion[1,0]"
   ]
  },
  {
   "cell_type": "code",
   "execution_count": 88,
   "metadata": {},
   "outputs": [
    {
     "data": {
      "text/plain": [
       "0.857090509344082"
      ]
     },
     "execution_count": 88,
     "metadata": {},
     "output_type": "execute_result"
    }
   ],
   "source": [
    "sensitivity = TP/float(FP+TP)\n",
    "sensitivity"
   ]
  },
  {
   "cell_type": "markdown",
   "metadata": {},
   "source": [
    "## X and y values for GRD 101 (Graphic Designing) Course"
   ]
  },
  {
   "cell_type": "code",
   "execution_count": 90,
   "metadata": {},
   "outputs": [],
   "source": [
    "df_GRD101 = df.loc['GRD101']"
   ]
  },
  {
   "cell_type": "code",
   "execution_count": 91,
   "metadata": {},
   "outputs": [
    {
     "data": {
      "text/plain": [
       "(36744, 8)"
      ]
     },
     "execution_count": 91,
     "metadata": {},
     "output_type": "execute_result"
    }
   ],
   "source": [
    "df_GRD101.shape"
   ]
  },
  {
   "cell_type": "code",
   "execution_count": 92,
   "metadata": {},
   "outputs": [],
   "source": [
    "X = df_GRD101.loc[:,'TotalLessonsCount' : 'AssignmentsSubmitted']"
   ]
  },
  {
   "cell_type": "code",
   "execution_count": 93,
   "metadata": {},
   "outputs": [],
   "source": [
    "y = df_GRD101.loc[:,'CourseComplete']"
   ]
  },
  {
   "cell_type": "code",
   "execution_count": 94,
   "metadata": {},
   "outputs": [],
   "source": [
    "X_train, X_test, y_train, y_test = train_test_split(X, y, test_size = 0.25, random_state = 42)"
   ]
  },
  {
   "cell_type": "markdown",
   "metadata": {},
   "source": [
    "## Logistic Regression Model for GRD101 (Graphic Design) Course"
   ]
  },
  {
   "cell_type": "code",
   "execution_count": 95,
   "metadata": {},
   "outputs": [
    {
     "name": "stderr",
     "output_type": "stream",
     "text": [
      "C:\\Users\\sunny\\Anaconda3\\lib\\site-packages\\sklearn\\linear_model\\logistic.py:433: FutureWarning: Default solver will be changed to 'lbfgs' in 0.22. Specify a solver to silence this warning.\n",
      "  FutureWarning)\n"
     ]
    },
    {
     "data": {
      "text/plain": [
       "LogisticRegression(C=1.0, class_weight=None, dual=False, fit_intercept=True,\n",
       "          intercept_scaling=1, max_iter=100, multi_class='warn',\n",
       "          n_jobs=None, penalty='l2', random_state=None, solver='warn',\n",
       "          tol=0.0001, verbose=0, warm_start=False)"
      ]
     },
     "execution_count": 95,
     "metadata": {},
     "output_type": "execute_result"
    }
   ],
   "source": [
    "Lr = LogisticRegression()\n",
    "Lr.fit(X_train, y_train)\n"
   ]
  },
  {
   "cell_type": "code",
   "execution_count": 96,
   "metadata": {},
   "outputs": [],
   "source": [
    "y_pred_class = Lr.predict(X_test)"
   ]
  },
  {
   "cell_type": "code",
   "execution_count": 97,
   "metadata": {},
   "outputs": [
    {
     "data": {
      "text/plain": [
       "0.9233616372741128"
      ]
     },
     "execution_count": 97,
     "metadata": {},
     "output_type": "execute_result"
    }
   ],
   "source": [
    "metrics.accuracy_score(y_test, y_pred_class)"
   ]
  },
  {
   "cell_type": "code",
   "execution_count": 98,
   "metadata": {},
   "outputs": [
    {
     "name": "stdout",
     "output_type": "stream",
     "text": [
      "[[6016  570]\n",
      " [ 134 2466]]\n"
     ]
    }
   ],
   "source": [
    "print (metrics.confusion_matrix(y_test, y_pred_class))\n",
    "confusion = metrics.confusion_matrix(y_test, y_pred_class)\n",
    "TP = confusion[1,1]\n",
    "TN = confusion[0,0]\n",
    "FP = confusion[0,1]\n",
    "FN = confusion[1,0]"
   ]
  },
  {
   "cell_type": "code",
   "execution_count": 99,
   "metadata": {},
   "outputs": [
    {
     "data": {
      "text/plain": [
       "0.8122529644268774"
      ]
     },
     "execution_count": 99,
     "metadata": {},
     "output_type": "execute_result"
    }
   ],
   "source": [
    "sensitivity = TP/float(FP+TP)\n",
    "sensitivity"
   ]
  },
  {
   "cell_type": "markdown",
   "metadata": {},
   "source": [
    "## Random Forest for Graphic Designing GRD101"
   ]
  },
  {
   "cell_type": "code",
   "execution_count": 100,
   "metadata": {},
   "outputs": [
    {
     "name": "stderr",
     "output_type": "stream",
     "text": [
      "C:\\Users\\sunny\\Anaconda3\\lib\\site-packages\\sklearn\\ensemble\\forest.py:246: FutureWarning: The default value of n_estimators will change from 10 in version 0.20 to 100 in 0.22.\n",
      "  \"10 in version 0.20 to 100 in 0.22.\", FutureWarning)\n"
     ]
    },
    {
     "data": {
      "text/plain": [
       "RandomForestClassifier(bootstrap=True, class_weight=None, criterion='gini',\n",
       "            max_depth=None, max_features='auto', max_leaf_nodes=None,\n",
       "            min_impurity_decrease=0.0, min_impurity_split=None,\n",
       "            min_samples_leaf=1, min_samples_split=2,\n",
       "            min_weight_fraction_leaf=0.0, n_estimators=10, n_jobs=None,\n",
       "            oob_score=False, random_state=None, verbose=0,\n",
       "            warm_start=False)"
      ]
     },
     "execution_count": 100,
     "metadata": {},
     "output_type": "execute_result"
    }
   ],
   "source": [
    "RF = RandomForestClassifier()\n",
    "RF.fit(X_train, y_train)"
   ]
  },
  {
   "cell_type": "code",
   "execution_count": 101,
   "metadata": {},
   "outputs": [],
   "source": [
    "y_pred_rf_class = RF.predict(X_test)"
   ]
  },
  {
   "cell_type": "code",
   "execution_count": 102,
   "metadata": {},
   "outputs": [
    {
     "data": {
      "text/plain": [
       "0.9009362072719356"
      ]
     },
     "execution_count": 102,
     "metadata": {},
     "output_type": "execute_result"
    }
   ],
   "source": [
    "metrics.accuracy_score(y_test, y_pred_rf_class)"
   ]
  },
  {
   "cell_type": "code",
   "execution_count": 105,
   "metadata": {},
   "outputs": [
    {
     "name": "stdout",
     "output_type": "stream",
     "text": [
      "[[6122  464]\n",
      " [ 446 2154]]\n"
     ]
    }
   ],
   "source": [
    "print (metrics.confusion_matrix(y_test, y_pred_rf_class))\n",
    "confusion = metrics.confusion_matrix(y_test, y_pred_rf_class)\n",
    "TP = confusion[1,1]\n",
    "TN = confusion[0,0]\n",
    "FP = confusion[0,1]\n",
    "FN = confusion[1,0]"
   ]
  },
  {
   "cell_type": "code",
   "execution_count": 104,
   "metadata": {},
   "outputs": [
    {
     "data": {
      "text/plain": [
       "0.8227654698242933"
      ]
     },
     "execution_count": 104,
     "metadata": {},
     "output_type": "execute_result"
    }
   ],
   "source": [
    "sensitivity = TP/float(FP+TP)\n",
    "sensitivity"
   ]
  },
  {
   "cell_type": "markdown",
   "metadata": {},
   "source": [
    "## X and y values for DGM101 (Digital Marketing) Course"
   ]
  },
  {
   "cell_type": "code",
   "execution_count": 106,
   "metadata": {},
   "outputs": [],
   "source": [
    "df_DGM101 = df.loc['DGM101']"
   ]
  },
  {
   "cell_type": "code",
   "execution_count": 107,
   "metadata": {},
   "outputs": [
    {
     "data": {
      "text/plain": [
       "(29045, 8)"
      ]
     },
     "execution_count": 107,
     "metadata": {},
     "output_type": "execute_result"
    }
   ],
   "source": [
    "df_DGM101.shape"
   ]
  },
  {
   "cell_type": "code",
   "execution_count": 108,
   "metadata": {},
   "outputs": [],
   "source": [
    "X = df_DGM101.loc[:,'TotalLessonsCount' : 'AssignmentsSubmitted']"
   ]
  },
  {
   "cell_type": "code",
   "execution_count": 109,
   "metadata": {},
   "outputs": [],
   "source": [
    "y = df_DGM101.loc[:,'CourseComplete']"
   ]
  },
  {
   "cell_type": "code",
   "execution_count": 110,
   "metadata": {},
   "outputs": [],
   "source": [
    "X_train, X_test, y_train, y_test = train_test_split(X, y, test_size = 0.25, random_state = 42)"
   ]
  },
  {
   "cell_type": "markdown",
   "metadata": {},
   "source": [
    "## Logistic Regression Model for DGM101 (Digital Marketing) Course"
   ]
  },
  {
   "cell_type": "code",
   "execution_count": 111,
   "metadata": {},
   "outputs": [
    {
     "name": "stderr",
     "output_type": "stream",
     "text": [
      "C:\\Users\\sunny\\Anaconda3\\lib\\site-packages\\sklearn\\linear_model\\logistic.py:433: FutureWarning: Default solver will be changed to 'lbfgs' in 0.22. Specify a solver to silence this warning.\n",
      "  FutureWarning)\n"
     ]
    },
    {
     "data": {
      "text/plain": [
       "LogisticRegression(C=1.0, class_weight=None, dual=False, fit_intercept=True,\n",
       "          intercept_scaling=1, max_iter=100, multi_class='warn',\n",
       "          n_jobs=None, penalty='l2', random_state=None, solver='warn',\n",
       "          tol=0.0001, verbose=0, warm_start=False)"
      ]
     },
     "execution_count": 111,
     "metadata": {},
     "output_type": "execute_result"
    }
   ],
   "source": [
    "Lr = LogisticRegression()\n",
    "Lr.fit(X_train, y_train)\n"
   ]
  },
  {
   "cell_type": "code",
   "execution_count": 112,
   "metadata": {},
   "outputs": [],
   "source": [
    "y_pred_class = Lr.predict(X_test)"
   ]
  },
  {
   "cell_type": "code",
   "execution_count": 113,
   "metadata": {},
   "outputs": [
    {
     "data": {
      "text/plain": [
       "0.9396860369044341"
      ]
     },
     "execution_count": 113,
     "metadata": {},
     "output_type": "execute_result"
    }
   ],
   "source": [
    "metrics.accuracy_score(y_test, y_pred_class)"
   ]
  },
  {
   "cell_type": "code",
   "execution_count": 114,
   "metadata": {},
   "outputs": [
    {
     "name": "stdout",
     "output_type": "stream",
     "text": [
      "[[4967  274]\n",
      " [ 164 1857]]\n"
     ]
    }
   ],
   "source": [
    "print (metrics.confusion_matrix(y_test, y_pred_class))\n",
    "confusion = metrics.confusion_matrix(y_test, y_pred_class)\n",
    "TP = confusion[1,1]\n",
    "TN = confusion[0,0]\n",
    "FP = confusion[0,1]\n",
    "FN = confusion[1,0]"
   ]
  },
  {
   "cell_type": "code",
   "execution_count": 115,
   "metadata": {},
   "outputs": [
    {
     "data": {
      "text/plain": [
       "0.8714218676677616"
      ]
     },
     "execution_count": 115,
     "metadata": {},
     "output_type": "execute_result"
    }
   ],
   "source": [
    "sensitivity = TP/float(FP+TP)\n",
    "sensitivity"
   ]
  },
  {
   "cell_type": "markdown",
   "metadata": {},
   "source": [
    "## Random Forest for Digital Marketing DGM101"
   ]
  },
  {
   "cell_type": "code",
   "execution_count": 116,
   "metadata": {},
   "outputs": [
    {
     "name": "stderr",
     "output_type": "stream",
     "text": [
      "C:\\Users\\sunny\\Anaconda3\\lib\\site-packages\\sklearn\\ensemble\\forest.py:246: FutureWarning: The default value of n_estimators will change from 10 in version 0.20 to 100 in 0.22.\n",
      "  \"10 in version 0.20 to 100 in 0.22.\", FutureWarning)\n"
     ]
    },
    {
     "data": {
      "text/plain": [
       "RandomForestClassifier(bootstrap=True, class_weight=None, criterion='gini',\n",
       "            max_depth=None, max_features='auto', max_leaf_nodes=None,\n",
       "            min_impurity_decrease=0.0, min_impurity_split=None,\n",
       "            min_samples_leaf=1, min_samples_split=2,\n",
       "            min_weight_fraction_leaf=0.0, n_estimators=10, n_jobs=None,\n",
       "            oob_score=False, random_state=None, verbose=0,\n",
       "            warm_start=False)"
      ]
     },
     "execution_count": 116,
     "metadata": {},
     "output_type": "execute_result"
    }
   ],
   "source": [
    "RF = RandomForestClassifier()\n",
    "RF.fit(X_train, y_train)"
   ]
  },
  {
   "cell_type": "code",
   "execution_count": 117,
   "metadata": {},
   "outputs": [],
   "source": [
    "y_pred_rf_class = RF.predict(X_test)"
   ]
  },
  {
   "cell_type": "code",
   "execution_count": 118,
   "metadata": {},
   "outputs": [
    {
     "data": {
      "text/plain": [
       "0.9250895070228587"
      ]
     },
     "execution_count": 118,
     "metadata": {},
     "output_type": "execute_result"
    }
   ],
   "source": [
    "metrics.accuracy_score(y_test, y_pred_rf_class)"
   ]
  },
  {
   "cell_type": "code",
   "execution_count": 119,
   "metadata": {},
   "outputs": [
    {
     "name": "stdout",
     "output_type": "stream",
     "text": [
      "[[4996  245]\n",
      " [ 299 1722]]\n"
     ]
    }
   ],
   "source": [
    "print (metrics.confusion_matrix(y_test, y_pred_rf_class))\n",
    "confusion = metrics.confusion_matrix(y_test, y_pred_rf_class)\n",
    "TP = confusion[1,1]\n",
    "TN = confusion[0,0]\n",
    "FP = confusion[0,1]\n",
    "FN = confusion[1,0]"
   ]
  },
  {
   "cell_type": "code",
   "execution_count": 120,
   "metadata": {},
   "outputs": [
    {
     "data": {
      "text/plain": [
       "0.8754448398576512"
      ]
     },
     "execution_count": 120,
     "metadata": {},
     "output_type": "execute_result"
    }
   ],
   "source": [
    "sensitivity = TP/float(FP+TP)\n",
    "sensitivity"
   ]
  },
  {
   "cell_type": "markdown",
   "metadata": {},
   "source": [
    "## X and y values for WPS101 (Word Press) Course"
   ]
  },
  {
   "cell_type": "code",
   "execution_count": 121,
   "metadata": {},
   "outputs": [],
   "source": [
    "df_WPS101 = df.loc['WPS101']"
   ]
  },
  {
   "cell_type": "code",
   "execution_count": 122,
   "metadata": {},
   "outputs": [
    {
     "data": {
      "text/plain": [
       "(28212, 8)"
      ]
     },
     "execution_count": 122,
     "metadata": {},
     "output_type": "execute_result"
    }
   ],
   "source": [
    "df_WPS101.shape"
   ]
  },
  {
   "cell_type": "code",
   "execution_count": 123,
   "metadata": {},
   "outputs": [],
   "source": [
    "X = df_WPS101.loc[:,'TotalLessonsCount' : 'AssignmentsSubmitted']"
   ]
  },
  {
   "cell_type": "code",
   "execution_count": 124,
   "metadata": {},
   "outputs": [],
   "source": [
    "y = df_WPS101.loc[:,'CourseComplete']"
   ]
  },
  {
   "cell_type": "code",
   "execution_count": 125,
   "metadata": {},
   "outputs": [],
   "source": [
    "X_train, X_test, y_train, y_test = train_test_split(X, y, test_size = 0.25, random_state = 42)"
   ]
  },
  {
   "cell_type": "markdown",
   "metadata": {},
   "source": [
    "## Logistic Regression Model for WPS101 (Word Press) Course"
   ]
  },
  {
   "cell_type": "code",
   "execution_count": 126,
   "metadata": {},
   "outputs": [
    {
     "name": "stderr",
     "output_type": "stream",
     "text": [
      "C:\\Users\\sunny\\Anaconda3\\lib\\site-packages\\sklearn\\linear_model\\logistic.py:433: FutureWarning: Default solver will be changed to 'lbfgs' in 0.22. Specify a solver to silence this warning.\n",
      "  FutureWarning)\n"
     ]
    },
    {
     "data": {
      "text/plain": [
       "LogisticRegression(C=1.0, class_weight=None, dual=False, fit_intercept=True,\n",
       "          intercept_scaling=1, max_iter=100, multi_class='warn',\n",
       "          n_jobs=None, penalty='l2', random_state=None, solver='warn',\n",
       "          tol=0.0001, verbose=0, warm_start=False)"
      ]
     },
     "execution_count": 126,
     "metadata": {},
     "output_type": "execute_result"
    }
   ],
   "source": [
    "Lr = LogisticRegression()\n",
    "Lr.fit(X_train, y_train)\n"
   ]
  },
  {
   "cell_type": "code",
   "execution_count": 127,
   "metadata": {},
   "outputs": [],
   "source": [
    "y_pred_class = Lr.predict(X_test)"
   ]
  },
  {
   "cell_type": "code",
   "execution_count": 128,
   "metadata": {},
   "outputs": [
    {
     "data": {
      "text/plain": [
       "0.9266978590670637"
      ]
     },
     "execution_count": 128,
     "metadata": {},
     "output_type": "execute_result"
    }
   ],
   "source": [
    "metrics.accuracy_score(y_test, y_pred_class)"
   ]
  },
  {
   "cell_type": "code",
   "execution_count": 129,
   "metadata": {},
   "outputs": [
    {
     "name": "stdout",
     "output_type": "stream",
     "text": [
      "[[4386  442]\n",
      " [  75 2150]]\n"
     ]
    }
   ],
   "source": [
    "print (metrics.confusion_matrix(y_test, y_pred_class))\n",
    "confusion = metrics.confusion_matrix(y_test, y_pred_class)\n",
    "TP = confusion[1,1]\n",
    "TN = confusion[0,0]\n",
    "FP = confusion[0,1]\n",
    "FN = confusion[1,0]"
   ]
  },
  {
   "cell_type": "code",
   "execution_count": 130,
   "metadata": {},
   "outputs": [
    {
     "data": {
      "text/plain": [
       "0.8294753086419753"
      ]
     },
     "execution_count": 130,
     "metadata": {},
     "output_type": "execute_result"
    }
   ],
   "source": [
    "sensitivity = TP/float(FP+TP)\n",
    "sensitivity"
   ]
  },
  {
   "cell_type": "markdown",
   "metadata": {},
   "source": [
    "## Random Forest for Word Press WPS 101"
   ]
  },
  {
   "cell_type": "code",
   "execution_count": 131,
   "metadata": {},
   "outputs": [
    {
     "name": "stderr",
     "output_type": "stream",
     "text": [
      "C:\\Users\\sunny\\Anaconda3\\lib\\site-packages\\sklearn\\ensemble\\forest.py:246: FutureWarning: The default value of n_estimators will change from 10 in version 0.20 to 100 in 0.22.\n",
      "  \"10 in version 0.20 to 100 in 0.22.\", FutureWarning)\n"
     ]
    },
    {
     "data": {
      "text/plain": [
       "RandomForestClassifier(bootstrap=True, class_weight=None, criterion='gini',\n",
       "            max_depth=None, max_features='auto', max_leaf_nodes=None,\n",
       "            min_impurity_decrease=0.0, min_impurity_split=None,\n",
       "            min_samples_leaf=1, min_samples_split=2,\n",
       "            min_weight_fraction_leaf=0.0, n_estimators=10, n_jobs=None,\n",
       "            oob_score=False, random_state=None, verbose=0,\n",
       "            warm_start=False)"
      ]
     },
     "execution_count": 131,
     "metadata": {},
     "output_type": "execute_result"
    }
   ],
   "source": [
    "RF = RandomForestClassifier()\n",
    "RF.fit(X_train, y_train)"
   ]
  },
  {
   "cell_type": "code",
   "execution_count": 132,
   "metadata": {},
   "outputs": [],
   "source": [
    "y_pred_rf_class = RF.predict(X_test)"
   ]
  },
  {
   "cell_type": "code",
   "execution_count": 133,
   "metadata": {},
   "outputs": [
    {
     "data": {
      "text/plain": [
       "0.9204593789876648"
      ]
     },
     "execution_count": 133,
     "metadata": {},
     "output_type": "execute_result"
    }
   ],
   "source": [
    "metrics.accuracy_score(y_test, y_pred_rf_class)"
   ]
  },
  {
   "cell_type": "code",
   "execution_count": 134,
   "metadata": {},
   "outputs": [
    {
     "name": "stdout",
     "output_type": "stream",
     "text": [
      "[[4536  292]\n",
      " [ 269 1956]]\n"
     ]
    }
   ],
   "source": [
    "print (metrics.confusion_matrix(y_test, y_pred_rf_class))\n",
    "confusion = metrics.confusion_matrix(y_test, y_pred_rf_class)\n",
    "TP = confusion[1,1]\n",
    "TN = confusion[0,0]\n",
    "FP = confusion[0,1]\n",
    "FN = confusion[1,0]"
   ]
  },
  {
   "cell_type": "code",
   "execution_count": 135,
   "metadata": {},
   "outputs": [
    {
     "data": {
      "text/plain": [
       "0.8701067615658363"
      ]
     },
     "execution_count": 135,
     "metadata": {},
     "output_type": "execute_result"
    }
   ],
   "source": [
    "sensitivity = TP/float(FP+TP)\n",
    "sensitivity"
   ]
  },
  {
   "cell_type": "markdown",
   "metadata": {},
   "source": [
    "## X and y values for CRW 101 (Creative Writing) Course"
   ]
  },
  {
   "cell_type": "code",
   "execution_count": 136,
   "metadata": {},
   "outputs": [],
   "source": [
    "df_CRW101 = df.loc['CRW101']"
   ]
  },
  {
   "cell_type": "code",
   "execution_count": 137,
   "metadata": {},
   "outputs": [
    {
     "data": {
      "text/plain": [
       "(18789, 8)"
      ]
     },
     "execution_count": 137,
     "metadata": {},
     "output_type": "execute_result"
    }
   ],
   "source": [
    "df_CRW101.shape"
   ]
  },
  {
   "cell_type": "code",
   "execution_count": 138,
   "metadata": {},
   "outputs": [],
   "source": [
    "X = df_CRW101.loc[:,'TotalLessonsCount' : 'AssignmentsSubmitted']"
   ]
  },
  {
   "cell_type": "code",
   "execution_count": 139,
   "metadata": {},
   "outputs": [],
   "source": [
    "y = df_CRW101.loc[:,'CourseComplete']"
   ]
  },
  {
   "cell_type": "code",
   "execution_count": 140,
   "metadata": {},
   "outputs": [],
   "source": [
    "X_train, X_test, y_train, y_test = train_test_split(X, y, test_size = 0.25, random_state = 42)"
   ]
  },
  {
   "cell_type": "markdown",
   "metadata": {},
   "source": [
    "## Logistic Regression Model for CRW101 (Creative Writing) Course"
   ]
  },
  {
   "cell_type": "code",
   "execution_count": 141,
   "metadata": {},
   "outputs": [
    {
     "name": "stderr",
     "output_type": "stream",
     "text": [
      "C:\\Users\\sunny\\Anaconda3\\lib\\site-packages\\sklearn\\linear_model\\logistic.py:433: FutureWarning: Default solver will be changed to 'lbfgs' in 0.22. Specify a solver to silence this warning.\n",
      "  FutureWarning)\n"
     ]
    },
    {
     "data": {
      "text/plain": [
       "LogisticRegression(C=1.0, class_weight=None, dual=False, fit_intercept=True,\n",
       "          intercept_scaling=1, max_iter=100, multi_class='warn',\n",
       "          n_jobs=None, penalty='l2', random_state=None, solver='warn',\n",
       "          tol=0.0001, verbose=0, warm_start=False)"
      ]
     },
     "execution_count": 141,
     "metadata": {},
     "output_type": "execute_result"
    }
   ],
   "source": [
    "Lr = LogisticRegression()\n",
    "Lr.fit(X_train, y_train)\n"
   ]
  },
  {
   "cell_type": "code",
   "execution_count": 142,
   "metadata": {},
   "outputs": [],
   "source": [
    "y_pred_class = Lr.predict(X_test)"
   ]
  },
  {
   "cell_type": "code",
   "execution_count": 143,
   "metadata": {},
   "outputs": [
    {
     "data": {
      "text/plain": [
       "0.9487015751383567"
      ]
     },
     "execution_count": 143,
     "metadata": {},
     "output_type": "execute_result"
    }
   ],
   "source": [
    "metrics.accuracy_score(y_test, y_pred_class)"
   ]
  },
  {
   "cell_type": "code",
   "execution_count": 144,
   "metadata": {},
   "outputs": [
    {
     "name": "stdout",
     "output_type": "stream",
     "text": [
      "[[3326  182]\n",
      " [  59 1131]]\n"
     ]
    }
   ],
   "source": [
    "print (metrics.confusion_matrix(y_test, y_pred_class))\n",
    "confusion = metrics.confusion_matrix(y_test, y_pred_class)\n",
    "TP = confusion[1,1]\n",
    "TN = confusion[0,0]\n",
    "FP = confusion[0,1]\n",
    "FN = confusion[1,0]"
   ]
  },
  {
   "cell_type": "code",
   "execution_count": 145,
   "metadata": {},
   "outputs": [
    {
     "data": {
      "text/plain": [
       "0.8613861386138614"
      ]
     },
     "execution_count": 145,
     "metadata": {},
     "output_type": "execute_result"
    }
   ],
   "source": [
    "sensitivity = TP/float(FP+TP)\n",
    "sensitivity"
   ]
  },
  {
   "cell_type": "markdown",
   "metadata": {},
   "source": [
    "## Random Forest for Creative Writing CRW101"
   ]
  },
  {
   "cell_type": "code",
   "execution_count": 146,
   "metadata": {},
   "outputs": [
    {
     "name": "stderr",
     "output_type": "stream",
     "text": [
      "C:\\Users\\sunny\\Anaconda3\\lib\\site-packages\\sklearn\\ensemble\\forest.py:246: FutureWarning: The default value of n_estimators will change from 10 in version 0.20 to 100 in 0.22.\n",
      "  \"10 in version 0.20 to 100 in 0.22.\", FutureWarning)\n"
     ]
    },
    {
     "data": {
      "text/plain": [
       "RandomForestClassifier(bootstrap=True, class_weight=None, criterion='gini',\n",
       "            max_depth=None, max_features='auto', max_leaf_nodes=None,\n",
       "            min_impurity_decrease=0.0, min_impurity_split=None,\n",
       "            min_samples_leaf=1, min_samples_split=2,\n",
       "            min_weight_fraction_leaf=0.0, n_estimators=10, n_jobs=None,\n",
       "            oob_score=False, random_state=None, verbose=0,\n",
       "            warm_start=False)"
      ]
     },
     "execution_count": 146,
     "metadata": {},
     "output_type": "execute_result"
    }
   ],
   "source": [
    "RF = RandomForestClassifier()\n",
    "RF.fit(X_train, y_train)"
   ]
  },
  {
   "cell_type": "code",
   "execution_count": 147,
   "metadata": {},
   "outputs": [],
   "source": [
    "y_pred_rf_class = RF.predict(X_test)"
   ]
  },
  {
   "cell_type": "code",
   "execution_count": 148,
   "metadata": {},
   "outputs": [
    {
     "data": {
      "text/plain": [
       "0.9265644955300127"
      ]
     },
     "execution_count": 148,
     "metadata": {},
     "output_type": "execute_result"
    }
   ],
   "source": [
    "metrics.accuracy_score(y_test, y_pred_rf_class)"
   ]
  },
  {
   "cell_type": "code",
   "execution_count": 149,
   "metadata": {},
   "outputs": [
    {
     "name": "stdout",
     "output_type": "stream",
     "text": [
      "[[3345  163]\n",
      " [ 182 1008]]\n"
     ]
    }
   ],
   "source": [
    "print (metrics.confusion_matrix(y_test, y_pred_rf_class))\n",
    "confusion = metrics.confusion_matrix(y_test, y_pred_rf_class)\n",
    "TP = confusion[1,1]\n",
    "TN = confusion[0,0]\n",
    "FP = confusion[0,1]\n",
    "FN = confusion[1,0]"
   ]
  },
  {
   "cell_type": "code",
   "execution_count": 150,
   "metadata": {},
   "outputs": [
    {
     "data": {
      "text/plain": [
       "0.860802732707088"
      ]
     },
     "execution_count": 150,
     "metadata": {},
     "output_type": "execute_result"
    }
   ],
   "source": [
    "sensitivity = TP/float(FP+TP)\n",
    "sensitivity"
   ]
  },
  {
   "cell_type": "markdown",
   "metadata": {},
   "source": [
    "## X and y values for SEO101 (Search Engine Optimization) Course"
   ]
  },
  {
   "cell_type": "code",
   "execution_count": 151,
   "metadata": {},
   "outputs": [],
   "source": [
    "df_SEO101 = df.loc['SEO101']"
   ]
  },
  {
   "cell_type": "code",
   "execution_count": 152,
   "metadata": {},
   "outputs": [
    {
     "data": {
      "text/plain": [
       "(16927, 8)"
      ]
     },
     "execution_count": 152,
     "metadata": {},
     "output_type": "execute_result"
    }
   ],
   "source": [
    "df_SEO101.shape"
   ]
  },
  {
   "cell_type": "code",
   "execution_count": 153,
   "metadata": {},
   "outputs": [],
   "source": [
    "X = df_SEO101.loc[:,'TotalLessonsCount' : 'AssignmentsSubmitted']"
   ]
  },
  {
   "cell_type": "code",
   "execution_count": 154,
   "metadata": {},
   "outputs": [],
   "source": [
    "y = df_SEO101.loc[:,'CourseComplete']"
   ]
  },
  {
   "cell_type": "code",
   "execution_count": 155,
   "metadata": {},
   "outputs": [],
   "source": [
    "X_train, X_test, y_train, y_test = train_test_split(X, y, test_size = 0.25, random_state = 42)"
   ]
  },
  {
   "cell_type": "markdown",
   "metadata": {},
   "source": [
    "## Logistic Regression Model for SEO101 (Search Engine Optimization) Course"
   ]
  },
  {
   "cell_type": "code",
   "execution_count": 156,
   "metadata": {},
   "outputs": [
    {
     "name": "stderr",
     "output_type": "stream",
     "text": [
      "C:\\Users\\sunny\\Anaconda3\\lib\\site-packages\\sklearn\\linear_model\\logistic.py:433: FutureWarning: Default solver will be changed to 'lbfgs' in 0.22. Specify a solver to silence this warning.\n",
      "  FutureWarning)\n"
     ]
    },
    {
     "data": {
      "text/plain": [
       "LogisticRegression(C=1.0, class_weight=None, dual=False, fit_intercept=True,\n",
       "          intercept_scaling=1, max_iter=100, multi_class='warn',\n",
       "          n_jobs=None, penalty='l2', random_state=None, solver='warn',\n",
       "          tol=0.0001, verbose=0, warm_start=False)"
      ]
     },
     "execution_count": 156,
     "metadata": {},
     "output_type": "execute_result"
    }
   ],
   "source": [
    "Lr = LogisticRegression()\n",
    "Lr.fit(X_train, y_train)\n"
   ]
  },
  {
   "cell_type": "code",
   "execution_count": 157,
   "metadata": {},
   "outputs": [],
   "source": [
    "y_pred_class = Lr.predict(X_test)"
   ]
  },
  {
   "cell_type": "code",
   "execution_count": 158,
   "metadata": {},
   "outputs": [
    {
     "data": {
      "text/plain": [
       "0.9250945179584121"
      ]
     },
     "execution_count": 158,
     "metadata": {},
     "output_type": "execute_result"
    }
   ],
   "source": [
    "metrics.accuracy_score(y_test, y_pred_class)"
   ]
  },
  {
   "cell_type": "code",
   "execution_count": 159,
   "metadata": {},
   "outputs": [
    {
     "name": "stdout",
     "output_type": "stream",
     "text": [
      "[[2653  277]\n",
      " [  40 1262]]\n"
     ]
    }
   ],
   "source": [
    "print (metrics.confusion_matrix(y_test, y_pred_class))\n",
    "confusion = metrics.confusion_matrix(y_test, y_pred_class)\n",
    "TP = confusion[1,1]\n",
    "TN = confusion[0,0]\n",
    "FP = confusion[0,1]\n",
    "FN = confusion[1,0]"
   ]
  },
  {
   "cell_type": "code",
   "execution_count": 160,
   "metadata": {},
   "outputs": [
    {
     "data": {
      "text/plain": [
       "0.8200129954515919"
      ]
     },
     "execution_count": 160,
     "metadata": {},
     "output_type": "execute_result"
    }
   ],
   "source": [
    "sensitivity = TP/float(FP+TP)\n",
    "sensitivity"
   ]
  },
  {
   "cell_type": "markdown",
   "metadata": {},
   "source": [
    "## Random Forest for Search Engine Optimization SEO101"
   ]
  },
  {
   "cell_type": "code",
   "execution_count": 161,
   "metadata": {},
   "outputs": [
    {
     "name": "stderr",
     "output_type": "stream",
     "text": [
      "C:\\Users\\sunny\\Anaconda3\\lib\\site-packages\\sklearn\\ensemble\\forest.py:246: FutureWarning: The default value of n_estimators will change from 10 in version 0.20 to 100 in 0.22.\n",
      "  \"10 in version 0.20 to 100 in 0.22.\", FutureWarning)\n"
     ]
    },
    {
     "data": {
      "text/plain": [
       "RandomForestClassifier(bootstrap=True, class_weight=None, criterion='gini',\n",
       "            max_depth=None, max_features='auto', max_leaf_nodes=None,\n",
       "            min_impurity_decrease=0.0, min_impurity_split=None,\n",
       "            min_samples_leaf=1, min_samples_split=2,\n",
       "            min_weight_fraction_leaf=0.0, n_estimators=10, n_jobs=None,\n",
       "            oob_score=False, random_state=None, verbose=0,\n",
       "            warm_start=False)"
      ]
     },
     "execution_count": 161,
     "metadata": {},
     "output_type": "execute_result"
    }
   ],
   "source": [
    "RF = RandomForestClassifier()\n",
    "RF.fit(X_train, y_train)"
   ]
  },
  {
   "cell_type": "code",
   "execution_count": 162,
   "metadata": {},
   "outputs": [],
   "source": [
    "y_pred_rf_class = RF.predict(X_test)"
   ]
  },
  {
   "cell_type": "code",
   "execution_count": 163,
   "metadata": {},
   "outputs": [
    {
     "data": {
      "text/plain": [
       "0.8986294896030246"
      ]
     },
     "execution_count": 163,
     "metadata": {},
     "output_type": "execute_result"
    }
   ],
   "source": [
    "metrics.accuracy_score(y_test, y_pred_rf_class)"
   ]
  },
  {
   "cell_type": "code",
   "execution_count": 164,
   "metadata": {},
   "outputs": [
    {
     "name": "stdout",
     "output_type": "stream",
     "text": [
      "[[2705  225]\n",
      " [ 204 1098]]\n"
     ]
    }
   ],
   "source": [
    "print (metrics.confusion_matrix(y_test, y_pred_rf_class))\n",
    "confusion = metrics.confusion_matrix(y_test, y_pred_rf_class)\n",
    "TP = confusion[1,1]\n",
    "TN = confusion[0,0]\n",
    "FP = confusion[0,1]\n",
    "FN = confusion[1,0]"
   ]
  },
  {
   "cell_type": "code",
   "execution_count": 165,
   "metadata": {},
   "outputs": [
    {
     "data": {
      "text/plain": [
       "0.8299319727891157"
      ]
     },
     "execution_count": 165,
     "metadata": {},
     "output_type": "execute_result"
    }
   ],
   "source": [
    "sensitivity = TP/float(FP+TP)\n",
    "sensitivity"
   ]
  },
  {
   "cell_type": "markdown",
   "metadata": {},
   "source": [
    "## X and y values for ECM101 (E Commerce) Course"
   ]
  },
  {
   "cell_type": "code",
   "execution_count": 166,
   "metadata": {},
   "outputs": [],
   "source": [
    "df_ECM101 = df.loc['ECM101']"
   ]
  },
  {
   "cell_type": "code",
   "execution_count": 167,
   "metadata": {},
   "outputs": [
    {
     "data": {
      "text/plain": [
       "(15331, 8)"
      ]
     },
     "execution_count": 167,
     "metadata": {},
     "output_type": "execute_result"
    }
   ],
   "source": [
    "df_ECM101.shape"
   ]
  },
  {
   "cell_type": "code",
   "execution_count": 168,
   "metadata": {},
   "outputs": [],
   "source": [
    "X = df_ECM101.loc[:,'TotalLessonsCount' : 'AssignmentsSubmitted']"
   ]
  },
  {
   "cell_type": "code",
   "execution_count": 169,
   "metadata": {},
   "outputs": [],
   "source": [
    "y = df_ECM101.loc[:,'CourseComplete']"
   ]
  },
  {
   "cell_type": "code",
   "execution_count": 170,
   "metadata": {},
   "outputs": [],
   "source": [
    "X_train, X_test, y_train, y_test = train_test_split(X, y, test_size = 0.25, random_state = 42)"
   ]
  },
  {
   "cell_type": "markdown",
   "metadata": {},
   "source": [
    "## Logistic Regression Model for ECM101 (E commerce) Course"
   ]
  },
  {
   "cell_type": "code",
   "execution_count": 171,
   "metadata": {},
   "outputs": [
    {
     "name": "stderr",
     "output_type": "stream",
     "text": [
      "C:\\Users\\sunny\\Anaconda3\\lib\\site-packages\\sklearn\\linear_model\\logistic.py:433: FutureWarning: Default solver will be changed to 'lbfgs' in 0.22. Specify a solver to silence this warning.\n",
      "  FutureWarning)\n"
     ]
    },
    {
     "data": {
      "text/plain": [
       "LogisticRegression(C=1.0, class_weight=None, dual=False, fit_intercept=True,\n",
       "          intercept_scaling=1, max_iter=100, multi_class='warn',\n",
       "          n_jobs=None, penalty='l2', random_state=None, solver='warn',\n",
       "          tol=0.0001, verbose=0, warm_start=False)"
      ]
     },
     "execution_count": 171,
     "metadata": {},
     "output_type": "execute_result"
    }
   ],
   "source": [
    "Lr = LogisticRegression()\n",
    "Lr.fit(X_train, y_train)\n"
   ]
  },
  {
   "cell_type": "code",
   "execution_count": 172,
   "metadata": {},
   "outputs": [],
   "source": [
    "y_pred_class = Lr.predict(X_test)"
   ]
  },
  {
   "cell_type": "code",
   "execution_count": 173,
   "metadata": {},
   "outputs": [
    {
     "data": {
      "text/plain": [
       "0.9467779806939733"
      ]
     },
     "execution_count": 173,
     "metadata": {},
     "output_type": "execute_result"
    }
   ],
   "source": [
    "metrics.accuracy_score(y_test, y_pred_class)"
   ]
  },
  {
   "cell_type": "code",
   "execution_count": 174,
   "metadata": {},
   "outputs": [
    {
     "name": "stdout",
     "output_type": "stream",
     "text": [
      "[[2708  157]\n",
      " [  47  921]]\n"
     ]
    }
   ],
   "source": [
    "print (metrics.confusion_matrix(y_test, y_pred_class))\n",
    "confusion = metrics.confusion_matrix(y_test, y_pred_class)\n",
    "TP = confusion[1,1]\n",
    "TN = confusion[0,0]\n",
    "FP = confusion[0,1]\n",
    "FN = confusion[1,0]"
   ]
  },
  {
   "cell_type": "code",
   "execution_count": 175,
   "metadata": {},
   "outputs": [
    {
     "data": {
      "text/plain": [
       "0.8543599257884972"
      ]
     },
     "execution_count": 175,
     "metadata": {},
     "output_type": "execute_result"
    }
   ],
   "source": [
    "sensitivity = TP/float(FP+TP)\n",
    "sensitivity"
   ]
  },
  {
   "cell_type": "markdown",
   "metadata": {},
   "source": [
    "## Random Forest for E Commerce ECM101"
   ]
  },
  {
   "cell_type": "code",
   "execution_count": 176,
   "metadata": {},
   "outputs": [
    {
     "name": "stderr",
     "output_type": "stream",
     "text": [
      "C:\\Users\\sunny\\Anaconda3\\lib\\site-packages\\sklearn\\ensemble\\forest.py:246: FutureWarning: The default value of n_estimators will change from 10 in version 0.20 to 100 in 0.22.\n",
      "  \"10 in version 0.20 to 100 in 0.22.\", FutureWarning)\n"
     ]
    },
    {
     "data": {
      "text/plain": [
       "RandomForestClassifier(bootstrap=True, class_weight=None, criterion='gini',\n",
       "            max_depth=None, max_features='auto', max_leaf_nodes=None,\n",
       "            min_impurity_decrease=0.0, min_impurity_split=None,\n",
       "            min_samples_leaf=1, min_samples_split=2,\n",
       "            min_weight_fraction_leaf=0.0, n_estimators=10, n_jobs=None,\n",
       "            oob_score=False, random_state=None, verbose=0,\n",
       "            warm_start=False)"
      ]
     },
     "execution_count": 176,
     "metadata": {},
     "output_type": "execute_result"
    }
   ],
   "source": [
    "RF = RandomForestClassifier()\n",
    "RF.fit(X_train, y_train)"
   ]
  },
  {
   "cell_type": "code",
   "execution_count": 177,
   "metadata": {},
   "outputs": [],
   "source": [
    "y_pred_rf_class = RF.predict(X_test)"
   ]
  },
  {
   "cell_type": "code",
   "execution_count": 178,
   "metadata": {},
   "outputs": [
    {
     "data": {
      "text/plain": [
       "0.9287764153404644"
      ]
     },
     "execution_count": 178,
     "metadata": {},
     "output_type": "execute_result"
    }
   ],
   "source": [
    "metrics.accuracy_score(y_test, y_pred_rf_class)"
   ]
  },
  {
   "cell_type": "code",
   "execution_count": 179,
   "metadata": {},
   "outputs": [
    {
     "name": "stdout",
     "output_type": "stream",
     "text": [
      "[[2730  135]\n",
      " [ 138  830]]\n"
     ]
    }
   ],
   "source": [
    "print (metrics.confusion_matrix(y_test, y_pred_rf_class))\n",
    "confusion = metrics.confusion_matrix(y_test, y_pred_rf_class)\n",
    "TP = confusion[1,1]\n",
    "TN = confusion[0,0]\n",
    "FP = confusion[0,1]\n",
    "FN = confusion[1,0]"
   ]
  },
  {
   "cell_type": "code",
   "execution_count": 180,
   "metadata": {},
   "outputs": [
    {
     "data": {
      "text/plain": [
       "0.8601036269430051"
      ]
     },
     "execution_count": 180,
     "metadata": {},
     "output_type": "execute_result"
    }
   ],
   "source": [
    "sensitivity = TP/float(FP+TP)\n",
    "sensitivity"
   ]
  },
  {
   "cell_type": "markdown",
   "metadata": {},
   "source": [
    "## X and y values for DGL101 (Digital Litracy) Course"
   ]
  },
  {
   "cell_type": "code",
   "execution_count": 181,
   "metadata": {},
   "outputs": [],
   "source": [
    "df_DGL101 = df.loc['DGL101']"
   ]
  },
  {
   "cell_type": "code",
   "execution_count": 182,
   "metadata": {},
   "outputs": [
    {
     "data": {
      "text/plain": [
       "(8637, 8)"
      ]
     },
     "execution_count": 182,
     "metadata": {},
     "output_type": "execute_result"
    }
   ],
   "source": [
    "df_DGL101.shape"
   ]
  },
  {
   "cell_type": "code",
   "execution_count": 183,
   "metadata": {},
   "outputs": [],
   "source": [
    "X = df_DGL101.loc[:,'TotalLessonsCount' : 'AssignmentsSubmitted']"
   ]
  },
  {
   "cell_type": "code",
   "execution_count": 184,
   "metadata": {},
   "outputs": [],
   "source": [
    "y = df_DGL101.loc[:,'CourseComplete']"
   ]
  },
  {
   "cell_type": "code",
   "execution_count": 185,
   "metadata": {},
   "outputs": [],
   "source": [
    "X_train, X_test, y_train, y_test = train_test_split(X, y, test_size = 0.25, random_state = 42)"
   ]
  },
  {
   "cell_type": "markdown",
   "metadata": {},
   "source": [
    "## Logistic Regression Model for DGL101 (Digital Litracy) Course"
   ]
  },
  {
   "cell_type": "code",
   "execution_count": 186,
   "metadata": {},
   "outputs": [
    {
     "name": "stderr",
     "output_type": "stream",
     "text": [
      "C:\\Users\\sunny\\Anaconda3\\lib\\site-packages\\sklearn\\linear_model\\logistic.py:433: FutureWarning: Default solver will be changed to 'lbfgs' in 0.22. Specify a solver to silence this warning.\n",
      "  FutureWarning)\n"
     ]
    },
    {
     "data": {
      "text/plain": [
       "LogisticRegression(C=1.0, class_weight=None, dual=False, fit_intercept=True,\n",
       "          intercept_scaling=1, max_iter=100, multi_class='warn',\n",
       "          n_jobs=None, penalty='l2', random_state=None, solver='warn',\n",
       "          tol=0.0001, verbose=0, warm_start=False)"
      ]
     },
     "execution_count": 186,
     "metadata": {},
     "output_type": "execute_result"
    }
   ],
   "source": [
    "Lr = LogisticRegression()\n",
    "Lr.fit(X_train, y_train)\n"
   ]
  },
  {
   "cell_type": "code",
   "execution_count": 187,
   "metadata": {},
   "outputs": [],
   "source": [
    "y_pred_class = Lr.predict(X_test)"
   ]
  },
  {
   "cell_type": "code",
   "execution_count": 188,
   "metadata": {},
   "outputs": [
    {
     "data": {
      "text/plain": [
       "0.9157407407407407"
      ]
     },
     "execution_count": 188,
     "metadata": {},
     "output_type": "execute_result"
    }
   ],
   "source": [
    "metrics.accuracy_score(y_test, y_pred_class)"
   ]
  },
  {
   "cell_type": "code",
   "execution_count": 189,
   "metadata": {},
   "outputs": [
    {
     "name": "stdout",
     "output_type": "stream",
     "text": [
      "[[1133  106]\n",
      " [  76  845]]\n"
     ]
    }
   ],
   "source": [
    "print (metrics.confusion_matrix(y_test, y_pred_class))\n",
    "confusion = metrics.confusion_matrix(y_test, y_pred_class)\n",
    "TP = confusion[1,1]\n",
    "TN = confusion[0,0]\n",
    "FP = confusion[0,1]\n",
    "FN = confusion[1,0]"
   ]
  },
  {
   "cell_type": "code",
   "execution_count": 190,
   "metadata": {},
   "outputs": [
    {
     "data": {
      "text/plain": [
       "0.8885383806519453"
      ]
     },
     "execution_count": 190,
     "metadata": {},
     "output_type": "execute_result"
    }
   ],
   "source": [
    "sensitivity = TP/float(FP+TP)\n",
    "sensitivity"
   ]
  },
  {
   "cell_type": "markdown",
   "metadata": {},
   "source": [
    "## Random Forest for Digital Literacy DGL101"
   ]
  },
  {
   "cell_type": "code",
   "execution_count": 191,
   "metadata": {},
   "outputs": [
    {
     "name": "stderr",
     "output_type": "stream",
     "text": [
      "C:\\Users\\sunny\\Anaconda3\\lib\\site-packages\\sklearn\\ensemble\\forest.py:246: FutureWarning: The default value of n_estimators will change from 10 in version 0.20 to 100 in 0.22.\n",
      "  \"10 in version 0.20 to 100 in 0.22.\", FutureWarning)\n"
     ]
    },
    {
     "data": {
      "text/plain": [
       "RandomForestClassifier(bootstrap=True, class_weight=None, criterion='gini',\n",
       "            max_depth=None, max_features='auto', max_leaf_nodes=None,\n",
       "            min_impurity_decrease=0.0, min_impurity_split=None,\n",
       "            min_samples_leaf=1, min_samples_split=2,\n",
       "            min_weight_fraction_leaf=0.0, n_estimators=10, n_jobs=None,\n",
       "            oob_score=False, random_state=None, verbose=0,\n",
       "            warm_start=False)"
      ]
     },
     "execution_count": 191,
     "metadata": {},
     "output_type": "execute_result"
    }
   ],
   "source": [
    "RF = RandomForestClassifier()\n",
    "RF.fit(X_train, y_train)"
   ]
  },
  {
   "cell_type": "code",
   "execution_count": 192,
   "metadata": {},
   "outputs": [],
   "source": [
    "y_pred_rf_class = RF.predict(X_test)"
   ]
  },
  {
   "cell_type": "code",
   "execution_count": 193,
   "metadata": {},
   "outputs": [
    {
     "data": {
      "text/plain": [
       "0.899074074074074"
      ]
     },
     "execution_count": 193,
     "metadata": {},
     "output_type": "execute_result"
    }
   ],
   "source": [
    "metrics.accuracy_score(y_test, y_pred_rf_class)"
   ]
  },
  {
   "cell_type": "code",
   "execution_count": 194,
   "metadata": {},
   "outputs": [
    {
     "name": "stdout",
     "output_type": "stream",
     "text": [
      "[[1126  113]\n",
      " [ 105  816]]\n"
     ]
    }
   ],
   "source": [
    "print (metrics.confusion_matrix(y_test, y_pred_rf_class))\n",
    "confusion = metrics.confusion_matrix(y_test, y_pred_rf_class)\n",
    "TP = confusion[1,1]\n",
    "TN = confusion[0,0]\n",
    "FP = confusion[0,1]\n",
    "FN = confusion[1,0]"
   ]
  },
  {
   "cell_type": "code",
   "execution_count": 195,
   "metadata": {},
   "outputs": [
    {
     "data": {
      "text/plain": [
       "0.8783638320775027"
      ]
     },
     "execution_count": 195,
     "metadata": {},
     "output_type": "execute_result"
    }
   ],
   "source": [
    "sensitivity = TP/float(FP+TP)\n",
    "sensitivity"
   ]
  },
  {
   "cell_type": "markdown",
   "metadata": {},
   "source": [
    "## X and y values for QKB101 (Quick Books) Course"
   ]
  },
  {
   "cell_type": "code",
   "execution_count": 196,
   "metadata": {},
   "outputs": [],
   "source": [
    "df_QKB101 = df.loc['QKB101']"
   ]
  },
  {
   "cell_type": "code",
   "execution_count": 197,
   "metadata": {},
   "outputs": [
    {
     "data": {
      "text/plain": [
       "(6666, 8)"
      ]
     },
     "execution_count": 197,
     "metadata": {},
     "output_type": "execute_result"
    }
   ],
   "source": [
    "df_QKB101.shape"
   ]
  },
  {
   "cell_type": "code",
   "execution_count": 198,
   "metadata": {},
   "outputs": [],
   "source": [
    "X = df_QKB101.loc[:,'TotalLessonsCount' : 'AssignmentsSubmitted']"
   ]
  },
  {
   "cell_type": "code",
   "execution_count": 199,
   "metadata": {},
   "outputs": [],
   "source": [
    "y = df_QKB101.loc[:,'CourseComplete']"
   ]
  },
  {
   "cell_type": "code",
   "execution_count": 200,
   "metadata": {},
   "outputs": [],
   "source": [
    "X_train, X_test, y_train, y_test = train_test_split(X, y, test_size = 0.25, random_state = 42)"
   ]
  },
  {
   "cell_type": "markdown",
   "metadata": {},
   "source": [
    "## Logistic Regression Model for QKB101 (Quick Books) Course"
   ]
  },
  {
   "cell_type": "code",
   "execution_count": 201,
   "metadata": {},
   "outputs": [
    {
     "name": "stderr",
     "output_type": "stream",
     "text": [
      "C:\\Users\\sunny\\Anaconda3\\lib\\site-packages\\sklearn\\linear_model\\logistic.py:433: FutureWarning: Default solver will be changed to 'lbfgs' in 0.22. Specify a solver to silence this warning.\n",
      "  FutureWarning)\n"
     ]
    },
    {
     "data": {
      "text/plain": [
       "LogisticRegression(C=1.0, class_weight=None, dual=False, fit_intercept=True,\n",
       "          intercept_scaling=1, max_iter=100, multi_class='warn',\n",
       "          n_jobs=None, penalty='l2', random_state=None, solver='warn',\n",
       "          tol=0.0001, verbose=0, warm_start=False)"
      ]
     },
     "execution_count": 201,
     "metadata": {},
     "output_type": "execute_result"
    }
   ],
   "source": [
    "Lr = LogisticRegression()\n",
    "Lr.fit(X_train, y_train)\n"
   ]
  },
  {
   "cell_type": "code",
   "execution_count": 202,
   "metadata": {},
   "outputs": [],
   "source": [
    "y_pred_class = Lr.predict(X_test)"
   ]
  },
  {
   "cell_type": "code",
   "execution_count": 203,
   "metadata": {},
   "outputs": [
    {
     "data": {
      "text/plain": [
       "0.9310137972405519"
      ]
     },
     "execution_count": 203,
     "metadata": {},
     "output_type": "execute_result"
    }
   ],
   "source": [
    "metrics.accuracy_score(y_test, y_pred_class)"
   ]
  },
  {
   "cell_type": "code",
   "execution_count": 204,
   "metadata": {},
   "outputs": [
    {
     "name": "stdout",
     "output_type": "stream",
     "text": [
      "[[1034   99]\n",
      " [  16  518]]\n"
     ]
    }
   ],
   "source": [
    "print (metrics.confusion_matrix(y_test, y_pred_class))\n",
    "confusion = metrics.confusion_matrix(y_test, y_pred_class)\n",
    "TP = confusion[1,1]\n",
    "TN = confusion[0,0]\n",
    "FP = confusion[0,1]\n",
    "FN = confusion[1,0]"
   ]
  },
  {
   "cell_type": "code",
   "execution_count": 205,
   "metadata": {},
   "outputs": [
    {
     "data": {
      "text/plain": [
       "0.839546191247974"
      ]
     },
     "execution_count": 205,
     "metadata": {},
     "output_type": "execute_result"
    }
   ],
   "source": [
    "sensitivity = TP/float(FP+TP)\n",
    "sensitivity"
   ]
  },
  {
   "cell_type": "markdown",
   "metadata": {},
   "source": [
    "## Random Forest for Quick Books QKB101"
   ]
  },
  {
   "cell_type": "code",
   "execution_count": 206,
   "metadata": {},
   "outputs": [
    {
     "name": "stderr",
     "output_type": "stream",
     "text": [
      "C:\\Users\\sunny\\Anaconda3\\lib\\site-packages\\sklearn\\ensemble\\forest.py:246: FutureWarning: The default value of n_estimators will change from 10 in version 0.20 to 100 in 0.22.\n",
      "  \"10 in version 0.20 to 100 in 0.22.\", FutureWarning)\n"
     ]
    },
    {
     "data": {
      "text/plain": [
       "RandomForestClassifier(bootstrap=True, class_weight=None, criterion='gini',\n",
       "            max_depth=None, max_features='auto', max_leaf_nodes=None,\n",
       "            min_impurity_decrease=0.0, min_impurity_split=None,\n",
       "            min_samples_leaf=1, min_samples_split=2,\n",
       "            min_weight_fraction_leaf=0.0, n_estimators=10, n_jobs=None,\n",
       "            oob_score=False, random_state=None, verbose=0,\n",
       "            warm_start=False)"
      ]
     },
     "execution_count": 206,
     "metadata": {},
     "output_type": "execute_result"
    }
   ],
   "source": [
    "RF = RandomForestClassifier()\n",
    "RF.fit(X_train, y_train)"
   ]
  },
  {
   "cell_type": "code",
   "execution_count": 207,
   "metadata": {},
   "outputs": [],
   "source": [
    "y_pred_rf_class = RF.predict(X_test)"
   ]
  },
  {
   "cell_type": "code",
   "execution_count": 208,
   "metadata": {},
   "outputs": [
    {
     "data": {
      "text/plain": [
       "0.9052189562087583"
      ]
     },
     "execution_count": 208,
     "metadata": {},
     "output_type": "execute_result"
    }
   ],
   "source": [
    "metrics.accuracy_score(y_test, y_pred_rf_class)"
   ]
  },
  {
   "cell_type": "code",
   "execution_count": 209,
   "metadata": {},
   "outputs": [
    {
     "name": "stdout",
     "output_type": "stream",
     "text": [
      "[[1051   82]\n",
      " [  76  458]]\n"
     ]
    }
   ],
   "source": [
    "print (metrics.confusion_matrix(y_test, y_pred_rf_class))\n",
    "confusion = metrics.confusion_matrix(y_test, y_pred_rf_class)\n",
    "TP = confusion[1,1]\n",
    "TN = confusion[0,0]\n",
    "FP = confusion[0,1]\n",
    "FN = confusion[1,0]"
   ]
  },
  {
   "cell_type": "code",
   "execution_count": 210,
   "metadata": {},
   "outputs": [
    {
     "data": {
      "text/plain": [
       "0.8481481481481481"
      ]
     },
     "execution_count": 210,
     "metadata": {},
     "output_type": "execute_result"
    }
   ],
   "source": [
    "sensitivity = TP/float(FP+TP)\n",
    "sensitivity"
   ]
  },
  {
   "cell_type": "code",
   "execution_count": null,
   "metadata": {},
   "outputs": [],
   "source": []
  },
  {
   "cell_type": "code",
   "execution_count": null,
   "metadata": {},
   "outputs": [],
   "source": []
  },
  {
   "cell_type": "code",
   "execution_count": null,
   "metadata": {},
   "outputs": [],
   "source": []
  }
 ],
 "metadata": {
  "kernelspec": {
   "display_name": "Python 3",
   "language": "python",
   "name": "python3"
  },
  "language_info": {
   "codemirror_mode": {
    "name": "ipython",
    "version": 3
   },
   "file_extension": ".py",
   "mimetype": "text/x-python",
   "name": "python",
   "nbconvert_exporter": "python",
   "pygments_lexer": "ipython3",
   "version": "3.7.3"
  }
 },
 "nbformat": 4,
 "nbformat_minor": 2
}
